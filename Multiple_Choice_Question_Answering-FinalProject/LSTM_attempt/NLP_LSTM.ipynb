{
  "nbformat": 4,
  "nbformat_minor": 0,
  "metadata": {
    "colab": {
      "name": "NLP_LSTM.ipynb",
      "provenance": [],
      "machine_shape": "hm",
      "collapsed_sections": []
    },
    "kernelspec": {
      "name": "python3",
      "display_name": "Python 3"
    },
    "language_info": {
      "name": "python"
    },
    "accelerator": "GPU"
  },
  "cells": [
    {
      "cell_type": "code",
      "source": [
        "!pip install tensorflow==1.15.0"
      ],
      "metadata": {
        "colab": {
          "base_uri": "https://localhost:8080/"
        },
        "id": "P7DZhE5Ui0gL",
        "outputId": "20cd66d1-7492-496d-8f24-45f9faee7036"
      },
      "execution_count": null,
      "outputs": [
        {
          "output_type": "stream",
          "name": "stdout",
          "text": [
            "Collecting tensorflow==1.15.0\n",
            "  Downloading tensorflow-1.15.0-cp37-cp37m-manylinux2010_x86_64.whl (412.3 MB)\n",
            "\u001b[K     |████████████████████████████████| 412.3 MB 23 kB/s \n",
            "\u001b[?25hRequirement already satisfied: grpcio>=1.8.6 in /usr/local/lib/python3.7/dist-packages (from tensorflow==1.15.0) (1.44.0)\n",
            "Requirement already satisfied: numpy<2.0,>=1.16.0 in /usr/local/lib/python3.7/dist-packages (from tensorflow==1.15.0) (1.21.5)\n",
            "Collecting tensorboard<1.16.0,>=1.15.0\n",
            "  Downloading tensorboard-1.15.0-py3-none-any.whl (3.8 MB)\n",
            "\u001b[K     |████████████████████████████████| 3.8 MB 65.5 MB/s \n",
            "\u001b[?25hRequirement already satisfied: google-pasta>=0.1.6 in /usr/local/lib/python3.7/dist-packages (from tensorflow==1.15.0) (0.2.0)\n",
            "Requirement already satisfied: astor>=0.6.0 in /usr/local/lib/python3.7/dist-packages (from tensorflow==1.15.0) (0.8.1)\n",
            "Requirement already satisfied: opt-einsum>=2.3.2 in /usr/local/lib/python3.7/dist-packages (from tensorflow==1.15.0) (3.3.0)\n",
            "Requirement already satisfied: six>=1.10.0 in /usr/local/lib/python3.7/dist-packages (from tensorflow==1.15.0) (1.15.0)\n",
            "Requirement already satisfied: termcolor>=1.1.0 in /usr/local/lib/python3.7/dist-packages (from tensorflow==1.15.0) (1.1.0)\n",
            "Requirement already satisfied: wrapt>=1.11.1 in /usr/local/lib/python3.7/dist-packages (from tensorflow==1.15.0) (1.13.3)\n",
            "Requirement already satisfied: keras-preprocessing>=1.0.5 in /usr/local/lib/python3.7/dist-packages (from tensorflow==1.15.0) (1.1.2)\n",
            "Collecting keras-applications>=1.0.8\n",
            "  Downloading Keras_Applications-1.0.8-py3-none-any.whl (50 kB)\n",
            "\u001b[K     |████████████████████████████████| 50 kB 7.9 MB/s \n",
            "\u001b[?25hRequirement already satisfied: absl-py>=0.7.0 in /usr/local/lib/python3.7/dist-packages (from tensorflow==1.15.0) (1.0.0)\n",
            "Requirement already satisfied: wheel>=0.26 in /usr/local/lib/python3.7/dist-packages (from tensorflow==1.15.0) (0.37.1)\n",
            "Collecting gast==0.2.2\n",
            "  Downloading gast-0.2.2.tar.gz (10 kB)\n",
            "Requirement already satisfied: protobuf>=3.6.1 in /usr/local/lib/python3.7/dist-packages (from tensorflow==1.15.0) (3.17.3)\n",
            "Collecting tensorflow-estimator==1.15.1\n",
            "  Downloading tensorflow_estimator-1.15.1-py2.py3-none-any.whl (503 kB)\n",
            "\u001b[K     |████████████████████████████████| 503 kB 63.0 MB/s \n",
            "\u001b[?25hRequirement already satisfied: h5py in /usr/local/lib/python3.7/dist-packages (from keras-applications>=1.0.8->tensorflow==1.15.0) (3.1.0)\n",
            "Requirement already satisfied: werkzeug>=0.11.15 in /usr/local/lib/python3.7/dist-packages (from tensorboard<1.16.0,>=1.15.0->tensorflow==1.15.0) (1.0.1)\n",
            "Requirement already satisfied: markdown>=2.6.8 in /usr/local/lib/python3.7/dist-packages (from tensorboard<1.16.0,>=1.15.0->tensorflow==1.15.0) (3.3.6)\n",
            "Requirement already satisfied: setuptools>=41.0.0 in /usr/local/lib/python3.7/dist-packages (from tensorboard<1.16.0,>=1.15.0->tensorflow==1.15.0) (57.4.0)\n",
            "Requirement already satisfied: importlib-metadata>=4.4 in /usr/local/lib/python3.7/dist-packages (from markdown>=2.6.8->tensorboard<1.16.0,>=1.15.0->tensorflow==1.15.0) (4.11.2)\n",
            "Requirement already satisfied: typing-extensions>=3.6.4 in /usr/local/lib/python3.7/dist-packages (from importlib-metadata>=4.4->markdown>=2.6.8->tensorboard<1.16.0,>=1.15.0->tensorflow==1.15.0) (3.10.0.2)\n",
            "Requirement already satisfied: zipp>=0.5 in /usr/local/lib/python3.7/dist-packages (from importlib-metadata>=4.4->markdown>=2.6.8->tensorboard<1.16.0,>=1.15.0->tensorflow==1.15.0) (3.7.0)\n",
            "Requirement already satisfied: cached-property in /usr/local/lib/python3.7/dist-packages (from h5py->keras-applications>=1.0.8->tensorflow==1.15.0) (1.5.2)\n",
            "Building wheels for collected packages: gast\n",
            "  Building wheel for gast (setup.py) ... \u001b[?25l\u001b[?25hdone\n",
            "  Created wheel for gast: filename=gast-0.2.2-py3-none-any.whl size=7554 sha256=b21cea5d4355950f0a3fbe58ef91f57a49c9d8b4f19e6da22f8d421a7ca43f7b\n",
            "  Stored in directory: /root/.cache/pip/wheels/21/7f/02/420f32a803f7d0967b48dd823da3f558c5166991bfd204eef3\n",
            "Successfully built gast\n",
            "Installing collected packages: tensorflow-estimator, tensorboard, keras-applications, gast, tensorflow\n",
            "  Attempting uninstall: tensorflow-estimator\n",
            "    Found existing installation: tensorflow-estimator 2.8.0\n",
            "    Uninstalling tensorflow-estimator-2.8.0:\n",
            "      Successfully uninstalled tensorflow-estimator-2.8.0\n",
            "  Attempting uninstall: tensorboard\n",
            "    Found existing installation: tensorboard 2.8.0\n",
            "    Uninstalling tensorboard-2.8.0:\n",
            "      Successfully uninstalled tensorboard-2.8.0\n",
            "  Attempting uninstall: gast\n",
            "    Found existing installation: gast 0.5.3\n",
            "    Uninstalling gast-0.5.3:\n",
            "      Successfully uninstalled gast-0.5.3\n",
            "  Attempting uninstall: tensorflow\n",
            "    Found existing installation: tensorflow 2.8.0\n",
            "    Uninstalling tensorflow-2.8.0:\n",
            "      Successfully uninstalled tensorflow-2.8.0\n",
            "\u001b[31mERROR: pip's dependency resolver does not currently take into account all the packages that are installed. This behaviour is the source of the following dependency conflicts.\n",
            "tensorflow-probability 0.16.0 requires gast>=0.3.2, but you have gast 0.2.2 which is incompatible.\n",
            "kapre 0.3.7 requires tensorflow>=2.0.0, but you have tensorflow 1.15.0 which is incompatible.\u001b[0m\n",
            "Successfully installed gast-0.2.2 keras-applications-1.0.8 tensorboard-1.15.0 tensorflow-1.15.0 tensorflow-estimator-1.15.1\n"
          ]
        }
      ]
    },
    {
      "cell_type": "code",
      "source": [
        "!pip install keras==1.2.2"
      ],
      "metadata": {
        "colab": {
          "base_uri": "https://localhost:8080/"
        },
        "id": "B8XicmekV26g",
        "outputId": "e684d74c-ae63-48c6-f67d-348422452a19"
      },
      "execution_count": null,
      "outputs": [
        {
          "output_type": "stream",
          "name": "stdout",
          "text": [
            "Collecting keras==1.2.2\n",
            "  Downloading Keras-1.2.2.tar.gz (175 kB)\n",
            "\u001b[K     |████████████████████████████████| 175 kB 6.4 MB/s \n",
            "\u001b[?25hCollecting theano\n",
            "  Downloading Theano-1.0.5.tar.gz (2.8 MB)\n",
            "\u001b[K     |████████████████████████████████| 2.8 MB 55.3 MB/s \n",
            "\u001b[?25hRequirement already satisfied: pyyaml in /usr/local/lib/python3.7/dist-packages (from keras==1.2.2) (3.13)\n",
            "Requirement already satisfied: six in /usr/local/lib/python3.7/dist-packages (from keras==1.2.2) (1.15.0)\n",
            "Requirement already satisfied: numpy>=1.9.1 in /usr/local/lib/python3.7/dist-packages (from theano->keras==1.2.2) (1.21.5)\n",
            "Requirement already satisfied: scipy>=0.14 in /usr/local/lib/python3.7/dist-packages (from theano->keras==1.2.2) (1.4.1)\n",
            "Building wheels for collected packages: keras, theano\n",
            "  Building wheel for keras (setup.py) ... \u001b[?25l\u001b[?25hdone\n",
            "  Created wheel for keras: filename=Keras-1.2.2-py3-none-any.whl size=209601 sha256=dc12a487dd43b4a81bde8cd270422db4c0b5450f43c8eb580d9835197137be70\n",
            "  Stored in directory: /root/.cache/pip/wheels/d1/32/23/2a1db3765ec19c91503843380a4f92b6530598949c661c5fa2\n",
            "  Building wheel for theano (setup.py) ... \u001b[?25l\u001b[?25hdone\n",
            "  Created wheel for theano: filename=Theano-1.0.5-py3-none-any.whl size=2668111 sha256=e38face03ff44c3af34e2c082bbbc526ab2e8632b2d78d75c7380b436c6e3075\n",
            "  Stored in directory: /root/.cache/pip/wheels/26/68/6f/745330367ce7822fe0cd863712858151f5723a0a5e322cc144\n",
            "Successfully built keras theano\n",
            "Installing collected packages: theano, keras\n",
            "  Attempting uninstall: keras\n",
            "    Found existing installation: keras 2.8.0\n",
            "    Uninstalling keras-2.8.0:\n",
            "      Successfully uninstalled keras-2.8.0\n",
            "Successfully installed keras-1.2.2 theano-1.0.5\n"
          ]
        }
      ]
    },
    {
      "cell_type": "code",
      "source": [
        "from google.colab import files\n",
        "uploaded = files.upload()"
      ],
      "metadata": {
        "colab": {
          "resources": {
            "http://localhost:8080/nbextensions/google.colab/files.js": {
              "data": "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",
              "ok": true,
              "headers": [
                [
                  "content-type",
                  "application/javascript"
                ]
              ],
              "status": 200,
              "status_text": "OK"
            }
          },
          "base_uri": "https://localhost:8080/",
          "height": 76
        },
        "id": "Yk_7wtkGUsae",
        "outputId": "4982dd44-52a8-4852-dc9c-5d5110cc0bac"
      },
      "execution_count": null,
      "outputs": [
        {
          "output_type": "display_data",
          "data": {
            "text/html": [
              "\n",
              "     <input type=\"file\" id=\"files-90b83db6-c619-4e36-8503-1c741dd6a1d6\" name=\"files[]\" multiple disabled\n",
              "        style=\"border:none\" />\n",
              "     <output id=\"result-90b83db6-c619-4e36-8503-1c741dd6a1d6\">\n",
              "      Upload widget is only available when the cell has been executed in the\n",
              "      current browser session. Please rerun this cell to enable.\n",
              "      </output>\n",
              "      <script src=\"/nbextensions/google.colab/files.js\"></script> "
            ],
            "text/plain": [
              "<IPython.core.display.HTML object>"
            ]
          },
          "metadata": {}
        },
        {
          "output_type": "stream",
          "name": "stdout",
          "text": [
            "Saving GoogleNews-vectors-negative300.bin.gz to GoogleNews-vectors-negative300.bin.gz\n"
          ]
        }
      ]
    },
    {
      "cell_type": "code",
      "source": [
        "from google.colab import drive\n",
        "drive.mount('/content/drive')"
      ],
      "metadata": {
        "colab": {
          "base_uri": "https://localhost:8080/"
        },
        "id": "RE3gfoFVTvtD",
        "outputId": "a1ce09c8-6f90-4e83-8580-ad8f7e8a6853"
      },
      "execution_count": null,
      "outputs": [
        {
          "output_type": "stream",
          "name": "stdout",
          "text": [
            "Mounted at /content/drive\n"
          ]
        }
      ]
    },
    {
      "cell_type": "code",
      "execution_count": null,
      "metadata": {
        "id": "ZvZUz3dGyB26",
        "colab": {
          "base_uri": "https://localhost:8080/"
        },
        "outputId": "e5ca5266-8202-4578-ffcc-f2f87657abcc"
      },
      "outputs": [
        {
          "output_type": "stream",
          "name": "stderr",
          "text": [
            "Using TensorFlow backend.\n"
          ]
        }
      ],
      "source": [
        "from __future__ import division, print_function\n",
        "from gensim.models import Word2Vec\n",
        "from keras.callbacks import ModelCheckpoint\n",
        "from keras.layers import Dense, Merge, Dropout, Reshape, Flatten\n",
        "from keras.layers.embeddings import Embedding\n",
        "from keras.layers.recurrent import LSTM\n",
        "from keras.models import Sequential\n",
        "from keras.callbacks import EarlyStopping, ReduceLROnPlateau\n",
        "from sklearn.model_selection import train_test_split\n",
        "import numpy as np\n",
        "import pandas as pd\n",
        "import os\n",
        "import collections\n",
        "from keras.preprocessing.sequence import pad_sequences\n",
        "from ast import literal_eval\n",
        "import gensim\n",
        "from sklearn.utils import class_weight\n",
        "import nltk"
      ]
    },
    {
      "cell_type": "code",
      "source": [
        "nltk.download('punkt')"
      ],
      "metadata": {
        "colab": {
          "base_uri": "https://localhost:8080/"
        },
        "id": "C3_JzZ-p0tVH",
        "outputId": "c49f62d6-925f-47e4-d62f-a851709b665f"
      },
      "execution_count": null,
      "outputs": [
        {
          "output_type": "stream",
          "name": "stdout",
          "text": [
            "[nltk_data] Downloading package punkt to /root/nltk_data...\n",
            "[nltk_data]   Unzipping tokenizers/punkt.zip.\n"
          ]
        },
        {
          "output_type": "execute_result",
          "data": {
            "text/plain": [
              "True"
            ]
          },
          "metadata": {},
          "execution_count": 6
        }
      ]
    },
    {
      "cell_type": "code",
      "source": [
        "df = pd.read_csv(\"/content/drive/MyDrive/NLP_Final_Project/Train_qaWithFact.csv\",converters={\"Answer\": literal_eval})\n",
        "df_val = pd.read_csv(\"/content/drive/MyDrive/NLP_Final_Project/Val_qaWithFact.csv\",converters={\"Answer\": literal_eval})\n",
        "df_test = pd.read_csv(\"/content/drive/MyDrive/NLP_Final_Project/Test_qaWithFact.csv\",converters={\"Answer\": literal_eval})\n",
        "\n",
        "df.head()"
      ],
      "metadata": {
        "colab": {
          "base_uri": "https://localhost:8080/",
          "height": 337
        },
        "id": "BXwACk5z34Po",
        "outputId": "ae5ae15f-dd58-44c8-e23d-32b749199d2a"
      },
      "execution_count": null,
      "outputs": [
        {
          "output_type": "execute_result",
          "data": {
            "text/plain": [
              "                                       Question  \\\n",
              "0                    The sun is responsible for   \n",
              "1  When standing miles away from Mount Rushmore   \n",
              "2           When food is reduced in the stomach   \n",
              "3                                     Stars are   \n",
              "4               You can make a telescope with a   \n",
              "\n",
              "                                                Fact  \\\n",
              "0  the sun is the source of energy for physical c...   \n",
              "1  as distance to an object increases , that obje...   \n",
              "2    digestion is when stomach acid breaks down food   \n",
              "3                            a star is made of gases   \n",
              "4  Galileo Galilei made improvements to the teles...   \n",
              "\n",
              "                                              Answer Answer Key  \n",
              "0  [puppies learning new tricks, children growing...          D  \n",
              "1  [the mountains seem very close, the mountains ...          D  \n",
              "2  [the mind needs time to digest, take a second ...          C  \n",
              "3  [warm lights that float, made out of nitrate, ...          C  \n",
              "4               [straw, Glass, Candle, mailing tube]          D  "
            ],
            "text/html": [
              "\n",
              "  <div id=\"df-d8b00cbc-f60a-4ab1-84f1-f15a15dc9e50\">\n",
              "    <div class=\"colab-df-container\">\n",
              "      <div>\n",
              "<style scoped>\n",
              "    .dataframe tbody tr th:only-of-type {\n",
              "        vertical-align: middle;\n",
              "    }\n",
              "\n",
              "    .dataframe tbody tr th {\n",
              "        vertical-align: top;\n",
              "    }\n",
              "\n",
              "    .dataframe thead th {\n",
              "        text-align: right;\n",
              "    }\n",
              "</style>\n",
              "<table border=\"1\" class=\"dataframe\">\n",
              "  <thead>\n",
              "    <tr style=\"text-align: right;\">\n",
              "      <th></th>\n",
              "      <th>Question</th>\n",
              "      <th>Fact</th>\n",
              "      <th>Answer</th>\n",
              "      <th>Answer Key</th>\n",
              "    </tr>\n",
              "  </thead>\n",
              "  <tbody>\n",
              "    <tr>\n",
              "      <th>0</th>\n",
              "      <td>The sun is responsible for</td>\n",
              "      <td>the sun is the source of energy for physical c...</td>\n",
              "      <td>[puppies learning new tricks, children growing...</td>\n",
              "      <td>D</td>\n",
              "    </tr>\n",
              "    <tr>\n",
              "      <th>1</th>\n",
              "      <td>When standing miles away from Mount Rushmore</td>\n",
              "      <td>as distance to an object increases , that obje...</td>\n",
              "      <td>[the mountains seem very close, the mountains ...</td>\n",
              "      <td>D</td>\n",
              "    </tr>\n",
              "    <tr>\n",
              "      <th>2</th>\n",
              "      <td>When food is reduced in the stomach</td>\n",
              "      <td>digestion is when stomach acid breaks down food</td>\n",
              "      <td>[the mind needs time to digest, take a second ...</td>\n",
              "      <td>C</td>\n",
              "    </tr>\n",
              "    <tr>\n",
              "      <th>3</th>\n",
              "      <td>Stars are</td>\n",
              "      <td>a star is made of gases</td>\n",
              "      <td>[warm lights that float, made out of nitrate, ...</td>\n",
              "      <td>C</td>\n",
              "    </tr>\n",
              "    <tr>\n",
              "      <th>4</th>\n",
              "      <td>You can make a telescope with a</td>\n",
              "      <td>Galileo Galilei made improvements to the teles...</td>\n",
              "      <td>[straw, Glass, Candle, mailing tube]</td>\n",
              "      <td>D</td>\n",
              "    </tr>\n",
              "  </tbody>\n",
              "</table>\n",
              "</div>\n",
              "      <button class=\"colab-df-convert\" onclick=\"convertToInteractive('df-d8b00cbc-f60a-4ab1-84f1-f15a15dc9e50')\"\n",
              "              title=\"Convert this dataframe to an interactive table.\"\n",
              "              style=\"display:none;\">\n",
              "        \n",
              "  <svg xmlns=\"http://www.w3.org/2000/svg\" height=\"24px\"viewBox=\"0 0 24 24\"\n",
              "       width=\"24px\">\n",
              "    <path d=\"M0 0h24v24H0V0z\" fill=\"none\"/>\n",
              "    <path d=\"M18.56 5.44l.94 2.06.94-2.06 2.06-.94-2.06-.94-.94-2.06-.94 2.06-2.06.94zm-11 1L8.5 8.5l.94-2.06 2.06-.94-2.06-.94L8.5 2.5l-.94 2.06-2.06.94zm10 10l.94 2.06.94-2.06 2.06-.94-2.06-.94-.94-2.06-.94 2.06-2.06.94z\"/><path d=\"M17.41 7.96l-1.37-1.37c-.4-.4-.92-.59-1.43-.59-.52 0-1.04.2-1.43.59L10.3 9.45l-7.72 7.72c-.78.78-.78 2.05 0 2.83L4 21.41c.39.39.9.59 1.41.59.51 0 1.02-.2 1.41-.59l7.78-7.78 2.81-2.81c.8-.78.8-2.07 0-2.86zM5.41 20L4 18.59l7.72-7.72 1.47 1.35L5.41 20z\"/>\n",
              "  </svg>\n",
              "      </button>\n",
              "      \n",
              "  <style>\n",
              "    .colab-df-container {\n",
              "      display:flex;\n",
              "      flex-wrap:wrap;\n",
              "      gap: 12px;\n",
              "    }\n",
              "\n",
              "    .colab-df-convert {\n",
              "      background-color: #E8F0FE;\n",
              "      border: none;\n",
              "      border-radius: 50%;\n",
              "      cursor: pointer;\n",
              "      display: none;\n",
              "      fill: #1967D2;\n",
              "      height: 32px;\n",
              "      padding: 0 0 0 0;\n",
              "      width: 32px;\n",
              "    }\n",
              "\n",
              "    .colab-df-convert:hover {\n",
              "      background-color: #E2EBFA;\n",
              "      box-shadow: 0px 1px 2px rgba(60, 64, 67, 0.3), 0px 1px 3px 1px rgba(60, 64, 67, 0.15);\n",
              "      fill: #174EA6;\n",
              "    }\n",
              "\n",
              "    [theme=dark] .colab-df-convert {\n",
              "      background-color: #3B4455;\n",
              "      fill: #D2E3FC;\n",
              "    }\n",
              "\n",
              "    [theme=dark] .colab-df-convert:hover {\n",
              "      background-color: #434B5C;\n",
              "      box-shadow: 0px 1px 3px 1px rgba(0, 0, 0, 0.15);\n",
              "      filter: drop-shadow(0px 1px 2px rgba(0, 0, 0, 0.3));\n",
              "      fill: #FFFFFF;\n",
              "    }\n",
              "  </style>\n",
              "\n",
              "      <script>\n",
              "        const buttonEl =\n",
              "          document.querySelector('#df-d8b00cbc-f60a-4ab1-84f1-f15a15dc9e50 button.colab-df-convert');\n",
              "        buttonEl.style.display =\n",
              "          google.colab.kernel.accessAllowed ? 'block' : 'none';\n",
              "\n",
              "        async function convertToInteractive(key) {\n",
              "          const element = document.querySelector('#df-d8b00cbc-f60a-4ab1-84f1-f15a15dc9e50');\n",
              "          const dataTable =\n",
              "            await google.colab.kernel.invokeFunction('convertToInteractive',\n",
              "                                                     [key], {});\n",
              "          if (!dataTable) return;\n",
              "\n",
              "          const docLinkHtml = 'Like what you see? Visit the ' +\n",
              "            '<a target=\"_blank\" href=https://colab.research.google.com/notebooks/data_table.ipynb>data table notebook</a>'\n",
              "            + ' to learn more about interactive tables.';\n",
              "          element.innerHTML = '';\n",
              "          dataTable['output_type'] = 'display_data';\n",
              "          await google.colab.output.renderOutput(dataTable, element);\n",
              "          const docLink = document.createElement('div');\n",
              "          docLink.innerHTML = docLinkHtml;\n",
              "          element.appendChild(docLink);\n",
              "        }\n",
              "      </script>\n",
              "    </div>\n",
              "  </div>\n",
              "  "
            ]
          },
          "metadata": {},
          "execution_count": 7
        }
      ]
    },
    {
      "cell_type": "code",
      "source": [
        "df[['A','B','C','D']] = pd.DataFrame(df.Answer.tolist(), index= df.index)\n",
        "df.head()"
      ],
      "metadata": {
        "colab": {
          "base_uri": "https://localhost:8080/",
          "height": 441
        },
        "id": "F4W87lMOwqiN",
        "outputId": "1aac6dea-ba7e-419c-bcd1-8eebb175ccb4"
      },
      "execution_count": null,
      "outputs": [
        {
          "output_type": "execute_result",
          "data": {
            "text/plain": [
              "                                       Question  \\\n",
              "0                    The sun is responsible for   \n",
              "1  When standing miles away from Mount Rushmore   \n",
              "2           When food is reduced in the stomach   \n",
              "3                                     Stars are   \n",
              "4               You can make a telescope with a   \n",
              "\n",
              "                                                Fact  \\\n",
              "0  the sun is the source of energy for physical c...   \n",
              "1  as distance to an object increases , that obje...   \n",
              "2    digestion is when stomach acid breaks down food   \n",
              "3                            a star is made of gases   \n",
              "4  Galileo Galilei made improvements to the teles...   \n",
              "\n",
              "                                              Answer Answer Key  \\\n",
              "0  [puppies learning new tricks, children growing...          D   \n",
              "1  [the mountains seem very close, the mountains ...          D   \n",
              "2  [the mind needs time to digest, take a second ...          C   \n",
              "3  [warm lights that float, made out of nitrate, ...          C   \n",
              "4               [straw, Glass, Candle, mailing tube]          D   \n",
              "\n",
              "                               A                                    B  \\\n",
              "0    puppies learning new tricks  children growing up and getting old   \n",
              "1  the mountains seem very close             the mountains are boring   \n",
              "2  the mind needs time to digest  take a second to digest what I said   \n",
              "3         warm lights that float                  made out of nitrate   \n",
              "4                          straw                                Glass   \n",
              "\n",
              "                                                   C  \\\n",
              "0                          flowers wilting in a vase   \n",
              "1       the mountains look the same as from up close   \n",
              "2                  nutrients are being deconstructed   \n",
              "3  great balls of gas burning billions of miles away   \n",
              "4                                             Candle   \n",
              "\n",
              "                                                D  \n",
              "0          plants sprouting, blooming and wilting  \n",
              "1  the mountains seem smaller than in photographs  \n",
              "2              reader's digest is a body of works  \n",
              "3                               lights in the sky  \n",
              "4                                    mailing tube  "
            ],
            "text/html": [
              "\n",
              "  <div id=\"df-86bd8d50-3376-4b14-aa8a-18293b293a51\">\n",
              "    <div class=\"colab-df-container\">\n",
              "      <div>\n",
              "<style scoped>\n",
              "    .dataframe tbody tr th:only-of-type {\n",
              "        vertical-align: middle;\n",
              "    }\n",
              "\n",
              "    .dataframe tbody tr th {\n",
              "        vertical-align: top;\n",
              "    }\n",
              "\n",
              "    .dataframe thead th {\n",
              "        text-align: right;\n",
              "    }\n",
              "</style>\n",
              "<table border=\"1\" class=\"dataframe\">\n",
              "  <thead>\n",
              "    <tr style=\"text-align: right;\">\n",
              "      <th></th>\n",
              "      <th>Question</th>\n",
              "      <th>Fact</th>\n",
              "      <th>Answer</th>\n",
              "      <th>Answer Key</th>\n",
              "      <th>A</th>\n",
              "      <th>B</th>\n",
              "      <th>C</th>\n",
              "      <th>D</th>\n",
              "    </tr>\n",
              "  </thead>\n",
              "  <tbody>\n",
              "    <tr>\n",
              "      <th>0</th>\n",
              "      <td>The sun is responsible for</td>\n",
              "      <td>the sun is the source of energy for physical c...</td>\n",
              "      <td>[puppies learning new tricks, children growing...</td>\n",
              "      <td>D</td>\n",
              "      <td>puppies learning new tricks</td>\n",
              "      <td>children growing up and getting old</td>\n",
              "      <td>flowers wilting in a vase</td>\n",
              "      <td>plants sprouting, blooming and wilting</td>\n",
              "    </tr>\n",
              "    <tr>\n",
              "      <th>1</th>\n",
              "      <td>When standing miles away from Mount Rushmore</td>\n",
              "      <td>as distance to an object increases , that obje...</td>\n",
              "      <td>[the mountains seem very close, the mountains ...</td>\n",
              "      <td>D</td>\n",
              "      <td>the mountains seem very close</td>\n",
              "      <td>the mountains are boring</td>\n",
              "      <td>the mountains look the same as from up close</td>\n",
              "      <td>the mountains seem smaller than in photographs</td>\n",
              "    </tr>\n",
              "    <tr>\n",
              "      <th>2</th>\n",
              "      <td>When food is reduced in the stomach</td>\n",
              "      <td>digestion is when stomach acid breaks down food</td>\n",
              "      <td>[the mind needs time to digest, take a second ...</td>\n",
              "      <td>C</td>\n",
              "      <td>the mind needs time to digest</td>\n",
              "      <td>take a second to digest what I said</td>\n",
              "      <td>nutrients are being deconstructed</td>\n",
              "      <td>reader's digest is a body of works</td>\n",
              "    </tr>\n",
              "    <tr>\n",
              "      <th>3</th>\n",
              "      <td>Stars are</td>\n",
              "      <td>a star is made of gases</td>\n",
              "      <td>[warm lights that float, made out of nitrate, ...</td>\n",
              "      <td>C</td>\n",
              "      <td>warm lights that float</td>\n",
              "      <td>made out of nitrate</td>\n",
              "      <td>great balls of gas burning billions of miles away</td>\n",
              "      <td>lights in the sky</td>\n",
              "    </tr>\n",
              "    <tr>\n",
              "      <th>4</th>\n",
              "      <td>You can make a telescope with a</td>\n",
              "      <td>Galileo Galilei made improvements to the teles...</td>\n",
              "      <td>[straw, Glass, Candle, mailing tube]</td>\n",
              "      <td>D</td>\n",
              "      <td>straw</td>\n",
              "      <td>Glass</td>\n",
              "      <td>Candle</td>\n",
              "      <td>mailing tube</td>\n",
              "    </tr>\n",
              "  </tbody>\n",
              "</table>\n",
              "</div>\n",
              "      <button class=\"colab-df-convert\" onclick=\"convertToInteractive('df-86bd8d50-3376-4b14-aa8a-18293b293a51')\"\n",
              "              title=\"Convert this dataframe to an interactive table.\"\n",
              "              style=\"display:none;\">\n",
              "        \n",
              "  <svg xmlns=\"http://www.w3.org/2000/svg\" height=\"24px\"viewBox=\"0 0 24 24\"\n",
              "       width=\"24px\">\n",
              "    <path d=\"M0 0h24v24H0V0z\" fill=\"none\"/>\n",
              "    <path d=\"M18.56 5.44l.94 2.06.94-2.06 2.06-.94-2.06-.94-.94-2.06-.94 2.06-2.06.94zm-11 1L8.5 8.5l.94-2.06 2.06-.94-2.06-.94L8.5 2.5l-.94 2.06-2.06.94zm10 10l.94 2.06.94-2.06 2.06-.94-2.06-.94-.94-2.06-.94 2.06-2.06.94z\"/><path d=\"M17.41 7.96l-1.37-1.37c-.4-.4-.92-.59-1.43-.59-.52 0-1.04.2-1.43.59L10.3 9.45l-7.72 7.72c-.78.78-.78 2.05 0 2.83L4 21.41c.39.39.9.59 1.41.59.51 0 1.02-.2 1.41-.59l7.78-7.78 2.81-2.81c.8-.78.8-2.07 0-2.86zM5.41 20L4 18.59l7.72-7.72 1.47 1.35L5.41 20z\"/>\n",
              "  </svg>\n",
              "      </button>\n",
              "      \n",
              "  <style>\n",
              "    .colab-df-container {\n",
              "      display:flex;\n",
              "      flex-wrap:wrap;\n",
              "      gap: 12px;\n",
              "    }\n",
              "\n",
              "    .colab-df-convert {\n",
              "      background-color: #E8F0FE;\n",
              "      border: none;\n",
              "      border-radius: 50%;\n",
              "      cursor: pointer;\n",
              "      display: none;\n",
              "      fill: #1967D2;\n",
              "      height: 32px;\n",
              "      padding: 0 0 0 0;\n",
              "      width: 32px;\n",
              "    }\n",
              "\n",
              "    .colab-df-convert:hover {\n",
              "      background-color: #E2EBFA;\n",
              "      box-shadow: 0px 1px 2px rgba(60, 64, 67, 0.3), 0px 1px 3px 1px rgba(60, 64, 67, 0.15);\n",
              "      fill: #174EA6;\n",
              "    }\n",
              "\n",
              "    [theme=dark] .colab-df-convert {\n",
              "      background-color: #3B4455;\n",
              "      fill: #D2E3FC;\n",
              "    }\n",
              "\n",
              "    [theme=dark] .colab-df-convert:hover {\n",
              "      background-color: #434B5C;\n",
              "      box-shadow: 0px 1px 3px 1px rgba(0, 0, 0, 0.15);\n",
              "      filter: drop-shadow(0px 1px 2px rgba(0, 0, 0, 0.3));\n",
              "      fill: #FFFFFF;\n",
              "    }\n",
              "  </style>\n",
              "\n",
              "      <script>\n",
              "        const buttonEl =\n",
              "          document.querySelector('#df-86bd8d50-3376-4b14-aa8a-18293b293a51 button.colab-df-convert');\n",
              "        buttonEl.style.display =\n",
              "          google.colab.kernel.accessAllowed ? 'block' : 'none';\n",
              "\n",
              "        async function convertToInteractive(key) {\n",
              "          const element = document.querySelector('#df-86bd8d50-3376-4b14-aa8a-18293b293a51');\n",
              "          const dataTable =\n",
              "            await google.colab.kernel.invokeFunction('convertToInteractive',\n",
              "                                                     [key], {});\n",
              "          if (!dataTable) return;\n",
              "\n",
              "          const docLinkHtml = 'Like what you see? Visit the ' +\n",
              "            '<a target=\"_blank\" href=https://colab.research.google.com/notebooks/data_table.ipynb>data table notebook</a>'\n",
              "            + ' to learn more about interactive tables.';\n",
              "          element.innerHTML = '';\n",
              "          dataTable['output_type'] = 'display_data';\n",
              "          await google.colab.output.renderOutput(dataTable, element);\n",
              "          const docLink = document.createElement('div');\n",
              "          docLink.innerHTML = docLinkHtml;\n",
              "          element.appendChild(docLink);\n",
              "        }\n",
              "      </script>\n",
              "    </div>\n",
              "  </div>\n",
              "  "
            ]
          },
          "metadata": {},
          "execution_count": 8
        }
      ]
    },
    {
      "cell_type": "code",
      "source": [
        "df_val[['A','B','C','D']] = pd.DataFrame(df_val.Answer.tolist(), index= df_val.index)\n",
        "df_val.head()"
      ],
      "metadata": {
        "colab": {
          "base_uri": "https://localhost:8080/",
          "height": 441
        },
        "id": "rtTyjqZiwsij",
        "outputId": "3d7a3084-593e-4898-b476-3f9b1fd0f344"
      },
      "execution_count": null,
      "outputs": [
        {
          "output_type": "execute_result",
          "data": {
            "text/plain": [
              "                                            Question  \\\n",
              "0  Frilled sharks and angler fish live far beneat...   \n",
              "1  Gas can fill any container it is given, and li...   \n",
              "2  When birds migrate south for the winter, they ...   \n",
              "3  If a person walks in the opposite direction of...   \n",
              "4         An example of lots kinetic energy would be   \n",
              "\n",
              "                                                Fact  \\\n",
              "0            deep sea animals live deep in the ocean   \n",
              "1     Matter in the liquid phase has definite volume   \n",
              "2               migration is an instinctive behavior   \n",
              "3  a compass is a kind of tool for determining di...   \n",
              "4  as an object moves , the kinetic energy of tha...   \n",
              "\n",
              "                                              Answer Answer Key  \\\n",
              "0  [Deep sea animals, fish, Long Sea Fish, Far Se...          A   \n",
              "1  [is standard weight and size, is the opposite ...          D   \n",
              "2  [they are genetically called to, their childre...          A   \n",
              "3                         [west, north, east, south]          D   \n",
              "4  [Drinking a cold glass of water, A snail movin...          D   \n",
              "\n",
              "                                A                                   B  \\\n",
              "0                Deep sea animals                                fish   \n",
              "1     is standard weight and size         is the opposite of variable   \n",
              "2  they are genetically called to      their children ask for them to   \n",
              "3                            west                               north   \n",
              "4  Drinking a cold glass of water  A snail moving across the sidewalk   \n",
              "\n",
              "                                    C                          D  \n",
              "0                       Long Sea Fish            Far Sea Animals  \n",
              "1                    only needs a few         uses what it needs  \n",
              "2  it is important to their happiness   they decide to each year  \n",
              "3                                east                      south  \n",
              "4     sitting without moving anywhere  An aircraft taking a trip  "
            ],
            "text/html": [
              "\n",
              "  <div id=\"df-575864c6-3afc-4a8c-a61c-3868d40c38e4\">\n",
              "    <div class=\"colab-df-container\">\n",
              "      <div>\n",
              "<style scoped>\n",
              "    .dataframe tbody tr th:only-of-type {\n",
              "        vertical-align: middle;\n",
              "    }\n",
              "\n",
              "    .dataframe tbody tr th {\n",
              "        vertical-align: top;\n",
              "    }\n",
              "\n",
              "    .dataframe thead th {\n",
              "        text-align: right;\n",
              "    }\n",
              "</style>\n",
              "<table border=\"1\" class=\"dataframe\">\n",
              "  <thead>\n",
              "    <tr style=\"text-align: right;\">\n",
              "      <th></th>\n",
              "      <th>Question</th>\n",
              "      <th>Fact</th>\n",
              "      <th>Answer</th>\n",
              "      <th>Answer Key</th>\n",
              "      <th>A</th>\n",
              "      <th>B</th>\n",
              "      <th>C</th>\n",
              "      <th>D</th>\n",
              "    </tr>\n",
              "  </thead>\n",
              "  <tbody>\n",
              "    <tr>\n",
              "      <th>0</th>\n",
              "      <td>Frilled sharks and angler fish live far beneat...</td>\n",
              "      <td>deep sea animals live deep in the ocean</td>\n",
              "      <td>[Deep sea animals, fish, Long Sea Fish, Far Se...</td>\n",
              "      <td>A</td>\n",
              "      <td>Deep sea animals</td>\n",
              "      <td>fish</td>\n",
              "      <td>Long Sea Fish</td>\n",
              "      <td>Far Sea Animals</td>\n",
              "    </tr>\n",
              "    <tr>\n",
              "      <th>1</th>\n",
              "      <td>Gas can fill any container it is given, and li...</td>\n",
              "      <td>Matter in the liquid phase has definite volume</td>\n",
              "      <td>[is standard weight and size, is the opposite ...</td>\n",
              "      <td>D</td>\n",
              "      <td>is standard weight and size</td>\n",
              "      <td>is the opposite of variable</td>\n",
              "      <td>only needs a few</td>\n",
              "      <td>uses what it needs</td>\n",
              "    </tr>\n",
              "    <tr>\n",
              "      <th>2</th>\n",
              "      <td>When birds migrate south for the winter, they ...</td>\n",
              "      <td>migration is an instinctive behavior</td>\n",
              "      <td>[they are genetically called to, their childre...</td>\n",
              "      <td>A</td>\n",
              "      <td>they are genetically called to</td>\n",
              "      <td>their children ask for them to</td>\n",
              "      <td>it is important to their happiness</td>\n",
              "      <td>they decide to each year</td>\n",
              "    </tr>\n",
              "    <tr>\n",
              "      <th>3</th>\n",
              "      <td>If a person walks in the opposite direction of...</td>\n",
              "      <td>a compass is a kind of tool for determining di...</td>\n",
              "      <td>[west, north, east, south]</td>\n",
              "      <td>D</td>\n",
              "      <td>west</td>\n",
              "      <td>north</td>\n",
              "      <td>east</td>\n",
              "      <td>south</td>\n",
              "    </tr>\n",
              "    <tr>\n",
              "      <th>4</th>\n",
              "      <td>An example of lots kinetic energy would be</td>\n",
              "      <td>as an object moves , the kinetic energy of tha...</td>\n",
              "      <td>[Drinking a cold glass of water, A snail movin...</td>\n",
              "      <td>D</td>\n",
              "      <td>Drinking a cold glass of water</td>\n",
              "      <td>A snail moving across the sidewalk</td>\n",
              "      <td>sitting without moving anywhere</td>\n",
              "      <td>An aircraft taking a trip</td>\n",
              "    </tr>\n",
              "  </tbody>\n",
              "</table>\n",
              "</div>\n",
              "      <button class=\"colab-df-convert\" onclick=\"convertToInteractive('df-575864c6-3afc-4a8c-a61c-3868d40c38e4')\"\n",
              "              title=\"Convert this dataframe to an interactive table.\"\n",
              "              style=\"display:none;\">\n",
              "        \n",
              "  <svg xmlns=\"http://www.w3.org/2000/svg\" height=\"24px\"viewBox=\"0 0 24 24\"\n",
              "       width=\"24px\">\n",
              "    <path d=\"M0 0h24v24H0V0z\" fill=\"none\"/>\n",
              "    <path d=\"M18.56 5.44l.94 2.06.94-2.06 2.06-.94-2.06-.94-.94-2.06-.94 2.06-2.06.94zm-11 1L8.5 8.5l.94-2.06 2.06-.94-2.06-.94L8.5 2.5l-.94 2.06-2.06.94zm10 10l.94 2.06.94-2.06 2.06-.94-2.06-.94-.94-2.06-.94 2.06-2.06.94z\"/><path d=\"M17.41 7.96l-1.37-1.37c-.4-.4-.92-.59-1.43-.59-.52 0-1.04.2-1.43.59L10.3 9.45l-7.72 7.72c-.78.78-.78 2.05 0 2.83L4 21.41c.39.39.9.59 1.41.59.51 0 1.02-.2 1.41-.59l7.78-7.78 2.81-2.81c.8-.78.8-2.07 0-2.86zM5.41 20L4 18.59l7.72-7.72 1.47 1.35L5.41 20z\"/>\n",
              "  </svg>\n",
              "      </button>\n",
              "      \n",
              "  <style>\n",
              "    .colab-df-container {\n",
              "      display:flex;\n",
              "      flex-wrap:wrap;\n",
              "      gap: 12px;\n",
              "    }\n",
              "\n",
              "    .colab-df-convert {\n",
              "      background-color: #E8F0FE;\n",
              "      border: none;\n",
              "      border-radius: 50%;\n",
              "      cursor: pointer;\n",
              "      display: none;\n",
              "      fill: #1967D2;\n",
              "      height: 32px;\n",
              "      padding: 0 0 0 0;\n",
              "      width: 32px;\n",
              "    }\n",
              "\n",
              "    .colab-df-convert:hover {\n",
              "      background-color: #E2EBFA;\n",
              "      box-shadow: 0px 1px 2px rgba(60, 64, 67, 0.3), 0px 1px 3px 1px rgba(60, 64, 67, 0.15);\n",
              "      fill: #174EA6;\n",
              "    }\n",
              "\n",
              "    [theme=dark] .colab-df-convert {\n",
              "      background-color: #3B4455;\n",
              "      fill: #D2E3FC;\n",
              "    }\n",
              "\n",
              "    [theme=dark] .colab-df-convert:hover {\n",
              "      background-color: #434B5C;\n",
              "      box-shadow: 0px 1px 3px 1px rgba(0, 0, 0, 0.15);\n",
              "      filter: drop-shadow(0px 1px 2px rgba(0, 0, 0, 0.3));\n",
              "      fill: #FFFFFF;\n",
              "    }\n",
              "  </style>\n",
              "\n",
              "      <script>\n",
              "        const buttonEl =\n",
              "          document.querySelector('#df-575864c6-3afc-4a8c-a61c-3868d40c38e4 button.colab-df-convert');\n",
              "        buttonEl.style.display =\n",
              "          google.colab.kernel.accessAllowed ? 'block' : 'none';\n",
              "\n",
              "        async function convertToInteractive(key) {\n",
              "          const element = document.querySelector('#df-575864c6-3afc-4a8c-a61c-3868d40c38e4');\n",
              "          const dataTable =\n",
              "            await google.colab.kernel.invokeFunction('convertToInteractive',\n",
              "                                                     [key], {});\n",
              "          if (!dataTable) return;\n",
              "\n",
              "          const docLinkHtml = 'Like what you see? Visit the ' +\n",
              "            '<a target=\"_blank\" href=https://colab.research.google.com/notebooks/data_table.ipynb>data table notebook</a>'\n",
              "            + ' to learn more about interactive tables.';\n",
              "          element.innerHTML = '';\n",
              "          dataTable['output_type'] = 'display_data';\n",
              "          await google.colab.output.renderOutput(dataTable, element);\n",
              "          const docLink = document.createElement('div');\n",
              "          docLink.innerHTML = docLinkHtml;\n",
              "          element.appendChild(docLink);\n",
              "        }\n",
              "      </script>\n",
              "    </div>\n",
              "  </div>\n",
              "  "
            ]
          },
          "metadata": {},
          "execution_count": 9
        }
      ]
    },
    {
      "cell_type": "code",
      "source": [
        "DATA_DIR = \"/content\"\n",
        "MODEL_DIR = \"/content\"\n",
        "WORD2VEC_BIN = \"GoogleNews-vectors-negative300.bin.gz\"\n",
        "WORD2VEC_EMBED_SIZE = 300\n",
        "\n",
        "QA_TRAIN_FILE = \"train.tsv\"\n",
        "\n",
        "QA_EMBED_SIZE = 64\n",
        "BATCH_SIZE = 32\n",
        "NBR_EPOCHS = 20"
      ],
      "metadata": {
        "id": "oxSOfogRzr35"
      },
      "execution_count": null,
      "outputs": []
    },
    {
      "cell_type": "code",
      "source": [
        "WORD2VEC_BIN_DIR = \"/content/drive/MyDrive/NLP_Final_Project\""
      ],
      "metadata": {
        "id": "3ntZPn3tz9JV"
      },
      "execution_count": null,
      "outputs": []
    },
    {
      "cell_type": "code",
      "source": [
        "qapairs = []\n",
        "question_file = os.path.join(DATA_DIR, QA_TRAIN_FILE)\n",
        "question_file"
      ],
      "metadata": {
        "colab": {
          "base_uri": "https://localhost:8080/",
          "height": 36
        },
        "id": "7yl1_Szm045B",
        "outputId": "7c1b2463-cdd3-4e1c-9c48-d26034e62228"
      },
      "execution_count": null,
      "outputs": [
        {
          "output_type": "execute_result",
          "data": {
            "text/plain": [
              "'/content/train.tsv'"
            ],
            "application/vnd.google.colaboratory.intrinsic+json": {
              "type": "string"
            }
          },
          "metadata": {},
          "execution_count": 11
        }
      ]
    },
    {
      "cell_type": "code",
      "source": [
        "print(\"Loading and formatting data...\")\n",
        "qfapairs = []\n",
        "for i in range(len(df)):\n",
        "  question = df['Question'][i]\n",
        "  qwords = nltk.word_tokenize(question)\n",
        "  fact = df['Fact'][i]\n",
        "  fwords = nltk.word_tokenize(fact)\n",
        "  correct_ans = df['Answer Key'][i]\n",
        "  answers = df['A'][i]+'@'+df['B'][i]+'@'+df['C'][i]+'@'+df['D'][i]\n",
        "  # training file parsing\n",
        "  correct_ans_idx = ord(correct_ans) - ord('A')\n",
        "  for idx, answer in enumerate(answers.split('@')):\n",
        "    awords = nltk.word_tokenize(answer)\n",
        "    qfapairs.append((qwords, fwords, awords, idx == correct_ans_idx))"
      ],
      "metadata": {
        "colab": {
          "base_uri": "https://localhost:8080/"
        },
        "id": "Pd2Udwkm1Hez",
        "outputId": "bf63a0ef-2b46-4df5-bf8c-b18bd837e542"
      },
      "execution_count": null,
      "outputs": [
        {
          "output_type": "stream",
          "name": "stdout",
          "text": [
            "Loading and formatting data...\n"
          ]
        }
      ]
    },
    {
      "cell_type": "code",
      "source": [
        "qfapairs[0:5]"
      ],
      "metadata": {
        "colab": {
          "base_uri": "https://localhost:8080/"
        },
        "id": "82UsK4xDX3au",
        "outputId": "eedbbba1-5948-44cc-f189-38bb50f998c1"
      },
      "execution_count": null,
      "outputs": [
        {
          "output_type": "execute_result",
          "data": {
            "text/plain": [
              "[(['The', 'sun', 'is', 'responsible', 'for'],\n",
              "  ['the',\n",
              "   'sun',\n",
              "   'is',\n",
              "   'the',\n",
              "   'source',\n",
              "   'of',\n",
              "   'energy',\n",
              "   'for',\n",
              "   'physical',\n",
              "   'cycles',\n",
              "   'on',\n",
              "   'Earth'],\n",
              "  ['puppies', 'learning', 'new', 'tricks'],\n",
              "  False),\n",
              " (['The', 'sun', 'is', 'responsible', 'for'],\n",
              "  ['the',\n",
              "   'sun',\n",
              "   'is',\n",
              "   'the',\n",
              "   'source',\n",
              "   'of',\n",
              "   'energy',\n",
              "   'for',\n",
              "   'physical',\n",
              "   'cycles',\n",
              "   'on',\n",
              "   'Earth'],\n",
              "  ['children', 'growing', 'up', 'and', 'getting', 'old'],\n",
              "  False),\n",
              " (['The', 'sun', 'is', 'responsible', 'for'],\n",
              "  ['the',\n",
              "   'sun',\n",
              "   'is',\n",
              "   'the',\n",
              "   'source',\n",
              "   'of',\n",
              "   'energy',\n",
              "   'for',\n",
              "   'physical',\n",
              "   'cycles',\n",
              "   'on',\n",
              "   'Earth'],\n",
              "  ['flowers', 'wilting', 'in', 'a', 'vase'],\n",
              "  False),\n",
              " (['The', 'sun', 'is', 'responsible', 'for'],\n",
              "  ['the',\n",
              "   'sun',\n",
              "   'is',\n",
              "   'the',\n",
              "   'source',\n",
              "   'of',\n",
              "   'energy',\n",
              "   'for',\n",
              "   'physical',\n",
              "   'cycles',\n",
              "   'on',\n",
              "   'Earth'],\n",
              "  ['plants', 'sprouting', ',', 'blooming', 'and', 'wilting'],\n",
              "  True),\n",
              " (['When', 'standing', 'miles', 'away', 'from', 'Mount', 'Rushmore'],\n",
              "  ['as',\n",
              "   'distance',\n",
              "   'to',\n",
              "   'an',\n",
              "   'object',\n",
              "   'increases',\n",
              "   ',',\n",
              "   'that',\n",
              "   'object',\n",
              "   'will',\n",
              "   'appear',\n",
              "   'smaller'],\n",
              "  ['the', 'mountains', 'seem', 'very', 'close'],\n",
              "  False)]"
            ]
          },
          "metadata": {},
          "execution_count": 13
        }
      ]
    },
    {
      "cell_type": "code",
      "source": [
        "len(qfapairs)"
      ],
      "metadata": {
        "colab": {
          "base_uri": "https://localhost:8080/"
        },
        "id": "6iks9YdJYKUr",
        "outputId": "f3deae22-bdfa-4ae1-b4d4-9f91efa4f2d9"
      },
      "execution_count": null,
      "outputs": [
        {
          "output_type": "execute_result",
          "data": {
            "text/plain": [
              "19828"
            ]
          },
          "metadata": {},
          "execution_count": 14
        }
      ]
    },
    {
      "cell_type": "code",
      "source": [
        "qfapairs_val = []\n",
        "for j in range(len(df_val)):\n",
        "  question = df_val['Question'][j]\n",
        "  qwords = nltk.word_tokenize(question)\n",
        "  fact = df_val['Fact'][j]\n",
        "  fwords = nltk.word_tokenize(fact)\n",
        "  correct_ans = df_val['Answer Key'][j]\n",
        "  answers = df_val['A'][j]+'@'+df_val['B'][j]+'@'+df_val['C'][j]+'@'+df_val['D'][j]\n",
        "  # training file parsing\n",
        "  correct_ans_idx = ord(correct_ans) - ord('A')\n",
        "  for idx, answer in enumerate(answers.split('@')):\n",
        "    awords = nltk.word_tokenize(answer)\n",
        "    qfapairs_val.append((qwords, fwords, awords, idx == correct_ans_idx))"
      ],
      "metadata": {
        "id": "aV1f8atlw010"
      },
      "execution_count": null,
      "outputs": []
    },
    {
      "cell_type": "code",
      "source": [
        "qfapairs_val[0:5]"
      ],
      "metadata": {
        "colab": {
          "base_uri": "https://localhost:8080/"
        },
        "id": "uwowcWT1YbjT",
        "outputId": "f144a4b8-44cf-47e2-9af2-087f5824cac0"
      },
      "execution_count": null,
      "outputs": [
        {
          "output_type": "execute_result",
          "data": {
            "text/plain": [
              "[(['Frilled',\n",
              "   'sharks',\n",
              "   'and',\n",
              "   'angler',\n",
              "   'fish',\n",
              "   'live',\n",
              "   'far',\n",
              "   'beneath',\n",
              "   'the',\n",
              "   'surface',\n",
              "   'of',\n",
              "   'the',\n",
              "   'ocean',\n",
              "   ',',\n",
              "   'which',\n",
              "   'is',\n",
              "   'why',\n",
              "   'they',\n",
              "   'are',\n",
              "   'known',\n",
              "   'as'],\n",
              "  ['deep', 'sea', 'animals', 'live', 'deep', 'in', 'the', 'ocean'],\n",
              "  ['Deep', 'sea', 'animals'],\n",
              "  True),\n",
              " (['Frilled',\n",
              "   'sharks',\n",
              "   'and',\n",
              "   'angler',\n",
              "   'fish',\n",
              "   'live',\n",
              "   'far',\n",
              "   'beneath',\n",
              "   'the',\n",
              "   'surface',\n",
              "   'of',\n",
              "   'the',\n",
              "   'ocean',\n",
              "   ',',\n",
              "   'which',\n",
              "   'is',\n",
              "   'why',\n",
              "   'they',\n",
              "   'are',\n",
              "   'known',\n",
              "   'as'],\n",
              "  ['deep', 'sea', 'animals', 'live', 'deep', 'in', 'the', 'ocean'],\n",
              "  ['fish'],\n",
              "  False),\n",
              " (['Frilled',\n",
              "   'sharks',\n",
              "   'and',\n",
              "   'angler',\n",
              "   'fish',\n",
              "   'live',\n",
              "   'far',\n",
              "   'beneath',\n",
              "   'the',\n",
              "   'surface',\n",
              "   'of',\n",
              "   'the',\n",
              "   'ocean',\n",
              "   ',',\n",
              "   'which',\n",
              "   'is',\n",
              "   'why',\n",
              "   'they',\n",
              "   'are',\n",
              "   'known',\n",
              "   'as'],\n",
              "  ['deep', 'sea', 'animals', 'live', 'deep', 'in', 'the', 'ocean'],\n",
              "  ['Long', 'Sea', 'Fish'],\n",
              "  False),\n",
              " (['Frilled',\n",
              "   'sharks',\n",
              "   'and',\n",
              "   'angler',\n",
              "   'fish',\n",
              "   'live',\n",
              "   'far',\n",
              "   'beneath',\n",
              "   'the',\n",
              "   'surface',\n",
              "   'of',\n",
              "   'the',\n",
              "   'ocean',\n",
              "   ',',\n",
              "   'which',\n",
              "   'is',\n",
              "   'why',\n",
              "   'they',\n",
              "   'are',\n",
              "   'known',\n",
              "   'as'],\n",
              "  ['deep', 'sea', 'animals', 'live', 'deep', 'in', 'the', 'ocean'],\n",
              "  ['Far', 'Sea', 'Animals'],\n",
              "  False),\n",
              " (['Gas',\n",
              "   'can',\n",
              "   'fill',\n",
              "   'any',\n",
              "   'container',\n",
              "   'it',\n",
              "   'is',\n",
              "   'given',\n",
              "   ',',\n",
              "   'and',\n",
              "   'liquid'],\n",
              "  ['Matter', 'in', 'the', 'liquid', 'phase', 'has', 'definite', 'volume'],\n",
              "  ['is', 'standard', 'weight', 'and', 'size'],\n",
              "  False)]"
            ]
          },
          "metadata": {},
          "execution_count": 16
        }
      ]
    },
    {
      "cell_type": "code",
      "source": [
        "len(qfapairs_val)"
      ],
      "metadata": {
        "colab": {
          "base_uri": "https://localhost:8080/"
        },
        "id": "I14PU5IBYeQu",
        "outputId": "8ac5c7bb-da09-4717-98f1-18e8de9c2576"
      },
      "execution_count": null,
      "outputs": [
        {
          "output_type": "execute_result",
          "data": {
            "text/plain": [
              "2000"
            ]
          },
          "metadata": {},
          "execution_count": 17
        }
      ]
    },
    {
      "cell_type": "code",
      "source": [
        "question_maxlen = max([len(qapair[0]) for qapair in qfapairs])\n",
        "fact_maxlen = max([len(qapair[1]) for qapair in qfapairs])\n",
        "answer_maxlen = max([len(qapair[2]) for qapair in qfapairs])\n",
        "seq_maxlen = max([question_maxlen, fact_maxlen, answer_maxlen])\n",
        "print(question_maxlen, fact_maxlen, answer_maxlen, seq_maxlen)"
      ],
      "metadata": {
        "colab": {
          "base_uri": "https://localhost:8080/"
        },
        "id": "_C_AiOzH6c5K",
        "outputId": "4378967b-467b-42fb-c100-07d3b9e23d5a"
      },
      "execution_count": null,
      "outputs": [
        {
          "output_type": "stream",
          "name": "stdout",
          "text": [
            "76 28 23 76\n"
          ]
        }
      ]
    },
    {
      "cell_type": "code",
      "source": [
        "question_maxlen_val = max([len(qapair[0]) for qapair in qfapairs_val])\n",
        "fact_maxlen_val = max([len(qapair[1]) for qapair in qfapairs_val])\n",
        "answer_maxlen_val = max([len(qapair[2]) for qapair in qfapairs_val])\n",
        "seq_maxlen_val = max([question_maxlen_val, fact_maxlen_val, answer_maxlen_val])\n",
        "print(question_maxlen_val, fact_maxlen_val, answer_maxlen_val, seq_maxlen_val)"
      ],
      "metadata": {
        "colab": {
          "base_uri": "https://localhost:8080/"
        },
        "id": "MYqH9WLQw3RS",
        "outputId": "d19cfbf0-05f7-4ee1-805a-400ac123993b"
      },
      "execution_count": null,
      "outputs": [
        {
          "output_type": "stream",
          "name": "stdout",
          "text": [
            "62 28 20 62\n"
          ]
        }
      ]
    },
    {
      "cell_type": "code",
      "source": [
        "def build_vocab(stories, qapairs, testqs):\n",
        "    wordcounts = collections.Counter()\n",
        "    for story in stories:\n",
        "        for sword in story:\n",
        "            wordcounts[sword] += 1\n",
        "    for qapair in qapairs:\n",
        "        for qword in qapair[0]:\n",
        "            wordcounts[qword] += 1\n",
        "        for fword in qapair[1]:\n",
        "            wordcounts[fword] += 1\n",
        "        for aword in qapair[2]:\n",
        "            wordcounts[aword] += 1\n",
        "    for testq in testqs:\n",
        "        for qword in testq[0]:\n",
        "            wordcounts[qword] += 1\n",
        "        for fword in testq[1]:\n",
        "            wordcounts[fword] += 1\n",
        "        for aword in testq[2]:\n",
        "            wordcounts[aword] += 1\n",
        "    words = [wordcount[0] for wordcount in wordcounts.most_common()]\n",
        "    word2idx = {w: i+1 for i, w in enumerate(words)}  # 0 = mask\n",
        "    return word2idx"
      ],
      "metadata": {
        "id": "-KHNGpJ66c2o"
      },
      "execution_count": null,
      "outputs": []
    },
    {
      "cell_type": "code",
      "source": [
        "word2idx = build_vocab([], qfapairs, [])\n",
        "vocab_size = len(word2idx) + 1 # include mask character 0"
      ],
      "metadata": {
        "id": "SQL8kHtm6czi"
      },
      "execution_count": null,
      "outputs": []
    },
    {
      "cell_type": "code",
      "source": [
        "word2idx_val = build_vocab([], qfapairs_val, [])"
      ],
      "metadata": {
        "id": "ASmN_22xw7xv"
      },
      "execution_count": null,
      "outputs": []
    },
    {
      "cell_type": "code",
      "source": [
        "def vectorize_qapairs(qfapairs, word2idx, seq_maxlen):\n",
        "    Xq, Xf, Xa, Y = [], [], [], []\n",
        "    for qapair in qfapairs:\n",
        "        Xq.append([word2idx[qword] for qword in qapair[0]])\n",
        "        Xf.append([word2idx[fword] for fword in qapair[1]])\n",
        "        Xa.append([word2idx[aword] for aword in qapair[2]])\n",
        "        Y.append(np.array([1, 0]) if qapair[3] else np.array([0, 1]))\n",
        "    return (pad_sequences(Xq, maxlen=seq_maxlen), \n",
        "            pad_sequences(Xf, maxlen=seq_maxlen), \n",
        "            pad_sequences(Xa, maxlen=seq_maxlen),\n",
        "            np.array(Y))"
      ],
      "metadata": {
        "id": "zpp8cn4l6cts"
      },
      "execution_count": null,
      "outputs": []
    },
    {
      "cell_type": "code",
      "source": [
        "word2idx['puppies']"
      ],
      "metadata": {
        "colab": {
          "base_uri": "https://localhost:8080/"
        },
        "id": "E_Di6MsaJ1gp",
        "outputId": "91444d4c-468f-4899-ffea-d7f75a921505"
      },
      "execution_count": null,
      "outputs": [
        {
          "output_type": "execute_result",
          "data": {
            "text/plain": [
              "4312"
            ]
          },
          "metadata": {},
          "execution_count": 24
        }
      ]
    },
    {
      "cell_type": "code",
      "source": [
        "Xqtrain, Xftrain, Xatrain, Ytrain = vectorize_qapairs(qfapairs, word2idx, seq_maxlen)\n",
        "Xqval, Xfval, Xaval, Yval = vectorize_qapairs(qfapairs_val, word2idx_val, seq_maxlen)\n",
        "print(Xqtrain.shape, Xqval.shape, Xftrain.shape, Xfval.shape, Xatrain.shape, Xaval.shape, \n",
        "      Ytrain.shape, Yval.shape)"
      ],
      "metadata": {
        "colab": {
          "base_uri": "https://localhost:8080/"
        },
        "id": "S8cuQryo77OQ",
        "outputId": "e11c6659-8e06-479f-a193-bb25b67f4f69"
      },
      "execution_count": null,
      "outputs": [
        {
          "output_type": "stream",
          "name": "stdout",
          "text": [
            "(19828, 76) (2000, 76) (19828, 76) (2000, 76) (19828, 76) (2000, 76) (19828, 2) (2000, 2)\n"
          ]
        }
      ]
    },
    {
      "cell_type": "code",
      "source": [
        "Ytrain[5000:5003]"
      ],
      "metadata": {
        "colab": {
          "base_uri": "https://localhost:8080/"
        },
        "id": "2fUwZDP4dHnb",
        "outputId": "496c4b51-4bc8-46d2-d016-36524bbc6cc2"
      },
      "execution_count": null,
      "outputs": [
        {
          "output_type": "execute_result",
          "data": {
            "text/plain": [
              "array([[1, 0],\n",
              "       [0, 1],\n",
              "       [0, 1]])"
            ]
          },
          "metadata": {},
          "execution_count": 26
        }
      ]
    },
    {
      "cell_type": "code",
      "source": [
        "np.unique(Ytrain)"
      ],
      "metadata": {
        "colab": {
          "base_uri": "https://localhost:8080/"
        },
        "id": "UVt2hIk0lX2C",
        "outputId": "2706d4fd-7b26-404b-ff92-411fa6c17419"
      },
      "execution_count": null,
      "outputs": [
        {
          "output_type": "execute_result",
          "data": {
            "text/plain": [
              "array([0, 1])"
            ]
          },
          "metadata": {},
          "execution_count": 27
        }
      ]
    },
    {
      "cell_type": "code",
      "source": [
        "Ytrain_flat = np.argmax(Ytrain, axis=1)\n",
        "Ytrain_flat.shape"
      ],
      "metadata": {
        "colab": {
          "base_uri": "https://localhost:8080/"
        },
        "id": "LSG3iGqvm03-",
        "outputId": "3330ef29-a810-4e7b-c9f3-b5ba816f3884"
      },
      "execution_count": null,
      "outputs": [
        {
          "output_type": "execute_result",
          "data": {
            "text/plain": [
              "(19828,)"
            ]
          },
          "metadata": {},
          "execution_count": 28
        }
      ]
    },
    {
      "cell_type": "code",
      "source": [
        "Ytrain_flat[5000:5003]"
      ],
      "metadata": {
        "colab": {
          "base_uri": "https://localhost:8080/"
        },
        "id": "2qWSR0SAm8R5",
        "outputId": "fff88f8c-55fb-4b8e-cb12-8252bfb23c86"
      },
      "execution_count": null,
      "outputs": [
        {
          "output_type": "execute_result",
          "data": {
            "text/plain": [
              "array([0, 1, 1])"
            ]
          },
          "metadata": {},
          "execution_count": 29
        }
      ]
    },
    {
      "cell_type": "code",
      "source": [
        "qa_class_weights = class_weight.compute_class_weight(class_weight='balanced', classes=np.unique(Ytrain_flat), y=Ytrain_flat)\n",
        "qa_class_weights"
      ],
      "metadata": {
        "colab": {
          "base_uri": "https://localhost:8080/"
        },
        "id": "9xnt1HL6kl6b",
        "outputId": "88de7b09-9653-43ed-81e1-830635b3033b"
      },
      "execution_count": null,
      "outputs": [
        {
          "output_type": "execute_result",
          "data": {
            "text/plain": [
              "array([2.        , 0.66666667])"
            ]
          },
          "metadata": {},
          "execution_count": 30
        }
      ]
    },
    {
      "cell_type": "code",
      "source": [
        "qa_class_weights_dict = dict(zip(np.unique(Ytrain_flat), qa_class_weights))\n",
        "qa_class_weights_dict"
      ],
      "metadata": {
        "colab": {
          "base_uri": "https://localhost:8080/"
        },
        "id": "nvNWgUFynozY",
        "outputId": "b6abc19b-2de7-4b6d-d01a-c8d80c85ff30"
      },
      "execution_count": null,
      "outputs": [
        {
          "output_type": "execute_result",
          "data": {
            "text/plain": [
              "{0: 2.0, 1: 0.6666666666666666}"
            ]
          },
          "metadata": {},
          "execution_count": 31
        }
      ]
    },
    {
      "cell_type": "code",
      "source": [
        "from sklearn import preprocessing"
      ],
      "metadata": {
        "id": "Pu7z-gfhIIfO"
      },
      "execution_count": null,
      "outputs": []
    },
    {
      "cell_type": "code",
      "source": [
        "scaler_q = preprocessing.StandardScaler().fit(Xqtrain)\n",
        "Xqtrain_scaled = scaler_q.transform(Xqtrain)\n",
        "Xqval_scaled = scaler_q.transform(Xqval)"
      ],
      "metadata": {
        "id": "Rl7zO-aoIJPr"
      },
      "execution_count": null,
      "outputs": []
    },
    {
      "cell_type": "code",
      "source": [
        "scaler_f = preprocessing.StandardScaler().fit(Xftrain)\n",
        "Xftrain_scaled = scaler_f.transform(Xftrain)\n",
        "Xfval_scaled = scaler_f.transform(Xfval)"
      ],
      "metadata": {
        "id": "G_p7sPDhJN0w"
      },
      "execution_count": null,
      "outputs": []
    },
    {
      "cell_type": "code",
      "source": [
        "scaler_a = preprocessing.StandardScaler().fit(Xatrain)\n",
        "Xatrain_scaled = scaler_a.transform(Xatrain)\n",
        "Xaval_scaled = scaler_a.transform(Xaval)"
      ],
      "metadata": {
        "id": "J1K4IzhIJN9n"
      },
      "execution_count": null,
      "outputs": []
    },
    {
      "cell_type": "code",
      "source": [
        "Xqtrain, Xftrain, Xatrain\n",
        "Xqval, Xfval, Xaval"
      ],
      "metadata": {
        "id": "yzqFdB8OIJhG"
      },
      "execution_count": null,
      "outputs": []
    },
    {
      "cell_type": "code",
      "source": [
        "Xaval_scaled[0]"
      ],
      "metadata": {
        "colab": {
          "base_uri": "https://localhost:8080/"
        },
        "id": "wanFCyVPIJjr",
        "outputId": "b542bc53-7f69-4061-8a11-3288b517d689"
      },
      "execution_count": null,
      "outputs": [
        {
          "output_type": "execute_result",
          "data": {
            "text/plain": [
              "array([ 0.        ,  0.        ,  0.        ,  0.        ,  0.        ,\n",
              "        0.        ,  0.        ,  0.        ,  0.        ,  0.        ,\n",
              "        0.        ,  0.        ,  0.        ,  0.        ,  0.        ,\n",
              "        0.        ,  0.        ,  0.        ,  0.        ,  0.        ,\n",
              "        0.        ,  0.        ,  0.        ,  0.        ,  0.        ,\n",
              "        0.        ,  0.        ,  0.        ,  0.        ,  0.        ,\n",
              "        0.        ,  0.        ,  0.        ,  0.        ,  0.        ,\n",
              "        0.        ,  0.        ,  0.        ,  0.        ,  0.        ,\n",
              "        0.        ,  0.        ,  0.        ,  0.        ,  0.        ,\n",
              "        0.        ,  0.        ,  0.        ,  0.        ,  0.        ,\n",
              "        0.        ,  0.        ,  0.        , -0.00710185, -0.00710185,\n",
              "       -0.01566655, -0.00711995, -0.01529632, -0.01167824, -0.01113962,\n",
              "       -0.01839139, -0.01364924, -0.01660926, -0.02711171, -0.02995816,\n",
              "       -0.04235791, -0.05306435, -0.07613141, -0.08101213, -0.12063815,\n",
              "       -0.15394608, -0.19708012, -0.26102549,  1.07553697, -0.2954468 ,\n",
              "       -0.85112428])"
            ]
          },
          "metadata": {},
          "execution_count": 77
        }
      ]
    },
    {
      "cell_type": "code",
      "source": [
        "print(\"Loading Word2Vec model and generating embedding matrix...\")\n",
        "word2vec = gensim.models.KeyedVectors.load_word2vec_format(\n",
        "    os.path.join(WORD2VEC_BIN_DIR, WORD2VEC_BIN), binary=True)\n",
        "embedding_weights = np.zeros((vocab_size, WORD2VEC_EMBED_SIZE))\n",
        "for word, index in word2idx.items():\n",
        "    try:\n",
        "        embedding_weights[index, :] = word2vec[word.lower()]\n",
        "    except KeyError:\n",
        "        pass"
      ],
      "metadata": {
        "colab": {
          "base_uri": "https://localhost:8080/"
        },
        "id": "NzkMVFQA77Lu",
        "outputId": "c0ccd689-4d06-42f6-f8a6-744d7226d538"
      },
      "execution_count": null,
      "outputs": [
        {
          "output_type": "stream",
          "name": "stdout",
          "text": [
            "Loading Word2Vec model and generating embedding matrix...\n"
          ]
        }
      ]
    },
    {
      "cell_type": "code",
      "source": [
        "QA_EMBED_SIZE = 16\n",
        "NBR_EPOCHS = 40"
      ],
      "metadata": {
        "id": "vXA2mBtcFM4T"
      },
      "execution_count": null,
      "outputs": []
    },
    {
      "cell_type": "code",
      "source": [
        "print(\"Building model...\")\n",
        "qenc = Sequential()\n",
        "qenc.add(Embedding(output_dim=WORD2VEC_EMBED_SIZE, input_dim=vocab_size,\n",
        "                   input_length=seq_maxlen, weights=[embedding_weights]))\n",
        "qenc.add(LSTM(QA_EMBED_SIZE, return_sequences=True))\n",
        "qenc.add(Dropout(0.4))\n",
        "\n",
        "fenc = Sequential()\n",
        "fenc.add(Embedding(output_dim=WORD2VEC_EMBED_SIZE, input_dim=vocab_size,\n",
        "                   input_length=seq_maxlen, weights=[embedding_weights]))\n",
        "fenc.add(LSTM(QA_EMBED_SIZE, return_sequences=True))\n",
        "fenc.add(Dropout(0.4))\n",
        "\n",
        "aenc = Sequential()\n",
        "aenc.add(Embedding(output_dim=WORD2VEC_EMBED_SIZE, input_dim=vocab_size,\n",
        "                   input_length=seq_maxlen,\n",
        "                   weights=[embedding_weights]))\n",
        "aenc.add(LSTM(QA_EMBED_SIZE, return_sequences=True))\n",
        "aenc.add(Dropout(0.4))\n",
        "\n",
        "#combination model\n",
        "comb = Sequential()\n",
        "comb.add(Merge([qenc, fenc], mode=\"sum\"))\n",
        "comb.add(Flatten())\n",
        "comb.add(Dense((seq_maxlen * QA_EMBED_SIZE)))\n",
        "comb.add(Reshape((seq_maxlen, QA_EMBED_SIZE)))\n",
        "\n",
        "# attention model\n",
        "attn = Sequential()\n",
        "attn.add(Merge([comb, aenc], mode=\"dot\", dot_axes=[1, 1]))\n",
        "attn.add(Flatten())\n",
        "attn.add(Dense((seq_maxlen * QA_EMBED_SIZE)))\n",
        "attn.add(Reshape((seq_maxlen, QA_EMBED_SIZE)))\n",
        "\n",
        "model = Sequential()\n",
        "model.add(Merge([qenc, attn], mode=\"sum\"))\n",
        "model.add(Flatten())\n",
        "model.add(Dense(2, activation=\"softmax\"))\n",
        "\n",
        "model.compile(optimizer=\"adam\", loss=\"categorical_crossentropy\",\n",
        "              metrics=[\"accuracy\"])"
      ],
      "metadata": {
        "colab": {
          "base_uri": "https://localhost:8080/"
        },
        "id": "X6KAQiUr77I3",
        "outputId": "a4e14117-41ed-4006-c4b3-b44e9f0c66d2"
      },
      "execution_count": null,
      "outputs": [
        {
          "output_type": "stream",
          "name": "stdout",
          "text": [
            "Building model...\n"
          ]
        }
      ]
    },
    {
      "cell_type": "code",
      "source": [
        "model.summary()"
      ],
      "metadata": {
        "colab": {
          "base_uri": "https://localhost:8080/"
        },
        "id": "IAWkUt9Mz0a6",
        "outputId": "0ff49e2f-dc63-4bb6-f106-addc18771193"
      },
      "execution_count": 143,
      "outputs": [
        {
          "output_type": "stream",
          "name": "stdout",
          "text": [
            "____________________________________________________________________________________________________\n",
            "Layer (type)                     Output Shape          Param #     Connected to                     \n",
            "====================================================================================================\n",
            "embedding_28 (Embedding)         (None, 76, 300)       3432900                                      \n",
            "____________________________________________________________________________________________________\n",
            "lstm_28 (LSTM)                   (None, 76, 16)        20288                                        \n",
            "____________________________________________________________________________________________________\n",
            "dropout_28 (Dropout)             (None, 76, 16)        0                                            \n",
            "____________________________________________________________________________________________________\n",
            "embedding_29 (Embedding)         (None, 76, 300)       3432900                                      \n",
            "____________________________________________________________________________________________________\n",
            "lstm_29 (LSTM)                   (None, 76, 16)        20288                                        \n",
            "____________________________________________________________________________________________________\n",
            "dropout_29 (Dropout)             (None, 76, 16)        0                                            \n",
            "____________________________________________________________________________________________________\n",
            "flatten_28 (Flatten)             (None, 1216)          0                                            \n",
            "____________________________________________________________________________________________________\n",
            "dense_28 (Dense)                 (None, 1216)          1479872                                      \n",
            "____________________________________________________________________________________________________\n",
            "reshape_19 (Reshape)             (None, 76, 16)        0                                            \n",
            "____________________________________________________________________________________________________\n",
            "embedding_30 (Embedding)         (None, 76, 300)       3432900                                      \n",
            "____________________________________________________________________________________________________\n",
            "lstm_30 (LSTM)                   (None, 76, 16)        20288                                        \n",
            "____________________________________________________________________________________________________\n",
            "dropout_30 (Dropout)             (None, 76, 16)        0                                            \n",
            "____________________________________________________________________________________________________\n",
            "flatten_29 (Flatten)             (None, 256)           0                                            \n",
            "____________________________________________________________________________________________________\n",
            "dense_29 (Dense)                 (None, 1216)          312512                                       \n",
            "____________________________________________________________________________________________________\n",
            "reshape_20 (Reshape)             (None, 76, 16)        0                                            \n",
            "____________________________________________________________________________________________________\n",
            "flatten_30 (Flatten)             (None, 1216)          0           merge_30[0][0]                   \n",
            "____________________________________________________________________________________________________\n",
            "dense_30 (Dense)                 (None, 2)             2434        flatten_30[0][0]                 \n",
            "====================================================================================================\n",
            "Total params: 12,154,382\n",
            "Trainable params: 12,154,382\n",
            "Non-trainable params: 0\n",
            "____________________________________________________________________________________________________\n"
          ]
        }
      ]
    },
    {
      "cell_type": "code",
      "source": [
        "model_checkpoint = ModelCheckpoint(\n",
        "    filepath=os.path.join(MODEL_DIR, \"qa-lstm-attn-best-qaWithFact.hdf5\"),\n",
        "    verbose=1, save_best_only=True)\n",
        "early_stopping_callback = EarlyStopping(monitor='val_loss', patience=8)\n",
        "reduce_lr_callback = ReduceLROnPlateau(monitor='val_loss', factor=0.2, patience=3, verbose=1, min_lr=1e-8)\n",
        "qa_callbacks = [model_checkpoint, early_stopping_callback, reduce_lr_callback]"
      ],
      "metadata": {
        "id": "pMZFRxAgsXla"
      },
      "execution_count": null,
      "outputs": []
    },
    {
      "cell_type": "code",
      "source": [
        "print(\"Training...\")\n",
        "model_history = model.fit([Xqtrain_scaled, Xftrain_scaled, Xatrain_scaled], Ytrain, batch_size=BATCH_SIZE,\n",
        "          nb_epoch=NBR_EPOCHS, validation_data=([Xqval_scaled, Xfval_scaled, Xaval_scaled], Yval),\n",
        "          callbacks=qa_callbacks, class_weight=qa_class_weights_dict)"
      ],
      "metadata": {
        "colab": {
          "base_uri": "https://localhost:8080/"
        },
        "id": "MFSjVVuCKyxO",
        "outputId": "4b2c740c-fe22-4931-b9d2-101409a3b7a9"
      },
      "execution_count": null,
      "outputs": [
        {
          "output_type": "stream",
          "name": "stdout",
          "text": [
            "Training...\n",
            "Train on 19828 samples, validate on 2000 samples\n",
            "Epoch 1/40\n",
            "19808/19828 [============================>.] - ETA: 0s - loss: 0.6974 - acc: 0.5624Epoch 00000: val_loss improved from inf to 0.69361, saving model to /content/qa-lstm-attn-best-qaWithFact.hdf5\n",
            "19828/19828 [==============================] - 169s - loss: 0.6974 - acc: 0.5625 - val_loss: 0.6936 - val_acc: 0.6445\n",
            "Epoch 2/40\n",
            "19808/19828 [============================>.] - ETA: 0s - loss: 0.6879 - acc: 0.6122Epoch 00001: val_loss did not improve\n",
            "19828/19828 [==============================] - 154s - loss: 0.6879 - acc: 0.6120 - val_loss: 0.7452 - val_acc: 0.2500\n",
            "Epoch 3/40\n",
            "19808/19828 [============================>.] - ETA: 0s - loss: 0.6854 - acc: 0.6080Epoch 00002: val_loss improved from 0.69361 to 0.68531, saving model to /content/qa-lstm-attn-best-qaWithFact.hdf5\n",
            "19828/19828 [==============================] - 154s - loss: 0.6854 - acc: 0.6081 - val_loss: 0.6853 - val_acc: 0.6750\n",
            "Epoch 4/40\n",
            "19808/19828 [============================>.] - ETA: 0s - loss: 0.6844 - acc: 0.6148Epoch 00003: val_loss improved from 0.68531 to 0.64198, saving model to /content/qa-lstm-attn-best-qaWithFact.hdf5\n",
            "19828/19828 [==============================] - 151s - loss: 0.6843 - acc: 0.6148 - val_loss: 0.6420 - val_acc: 0.7185\n",
            "Epoch 5/40\n",
            "19808/19828 [============================>.] - ETA: 0s - loss: 0.6844 - acc: 0.6288Epoch 00004: val_loss did not improve\n",
            "19828/19828 [==============================] - 151s - loss: 0.6842 - acc: 0.6289 - val_loss: 0.6733 - val_acc: 0.6770\n",
            "Epoch 6/40\n",
            "19808/19828 [============================>.] - ETA: 0s - loss: 0.6832 - acc: 0.6283Epoch 00005: val_loss did not improve\n",
            "19828/19828 [==============================] - 152s - loss: 0.6833 - acc: 0.6282 - val_loss: 0.6845 - val_acc: 0.6785\n",
            "Epoch 7/40\n",
            "19808/19828 [============================>.] - ETA: 0s - loss: 0.6831 - acc: 0.6263Epoch 00006: val_loss did not improve\n",
            "19828/19828 [==============================] - 152s - loss: 0.6830 - acc: 0.6262 - val_loss: 0.6588 - val_acc: 0.7265\n",
            "Epoch 8/40\n",
            "19808/19828 [============================>.] - ETA: 0s - loss: 0.6808 - acc: 0.6267Epoch 00007: val_loss did not improve\n",
            "\n",
            "Epoch 00007: reducing learning rate to 0.00020000000949949026.\n",
            "19828/19828 [==============================] - 154s - loss: 0.6807 - acc: 0.6264 - val_loss: 0.7022 - val_acc: 0.6205\n",
            "Epoch 9/40\n",
            "19808/19828 [============================>.] - ETA: 0s - loss: 0.6722 - acc: 0.6507Epoch 00008: val_loss did not improve\n",
            "19828/19828 [==============================] - 151s - loss: 0.6721 - acc: 0.6508 - val_loss: 0.6550 - val_acc: 0.6955\n",
            "Epoch 10/40\n",
            "19808/19828 [============================>.] - ETA: 0s - loss: 0.6704 - acc: 0.6601Epoch 00009: val_loss did not improve\n",
            "19828/19828 [==============================] - 151s - loss: 0.6707 - acc: 0.6599 - val_loss: 0.6627 - val_acc: 0.6910\n",
            "Epoch 11/40\n",
            "19808/19828 [============================>.] - ETA: 0s - loss: 0.6698 - acc: 0.6571Epoch 00010: val_loss improved from 0.64198 to 0.63788, saving model to /content/qa-lstm-attn-best-qaWithFact.hdf5\n",
            "19828/19828 [==============================] - 151s - loss: 0.6696 - acc: 0.6573 - val_loss: 0.6379 - val_acc: 0.7155\n",
            "Epoch 12/40\n",
            "19808/19828 [============================>.] - ETA: 0s - loss: 0.6668 - acc: 0.6613Epoch 00011: val_loss did not improve\n",
            "19828/19828 [==============================] - 150s - loss: 0.6669 - acc: 0.6611 - val_loss: 0.6668 - val_acc: 0.6875\n",
            "Epoch 13/40\n",
            "19808/19828 [============================>.] - ETA: 0s - loss: 0.6660 - acc: 0.6622Epoch 00012: val_loss did not improve\n",
            "19828/19828 [==============================] - 150s - loss: 0.6661 - acc: 0.6621 - val_loss: 0.6506 - val_acc: 0.6995\n",
            "Epoch 14/40\n",
            "19808/19828 [============================>.] - ETA: 0s - loss: 0.6636 - acc: 0.6656Epoch 00013: val_loss improved from 0.63788 to 0.63769, saving model to /content/qa-lstm-attn-best-qaWithFact.hdf5\n",
            "19828/19828 [==============================] - 149s - loss: 0.6636 - acc: 0.6656 - val_loss: 0.6377 - val_acc: 0.7090\n",
            "Epoch 15/40\n",
            "19808/19828 [============================>.] - ETA: 0s - loss: 0.6609 - acc: 0.6732Epoch 00014: val_loss did not improve\n",
            "19828/19828 [==============================] - 150s - loss: 0.6609 - acc: 0.6731 - val_loss: 0.6724 - val_acc: 0.6935\n",
            "Epoch 16/40\n",
            "19808/19828 [============================>.] - ETA: 0s - loss: 0.6598 - acc: 0.6654Epoch 00015: val_loss did not improve\n",
            "19828/19828 [==============================] - 152s - loss: 0.6597 - acc: 0.6655 - val_loss: 0.6500 - val_acc: 0.7045\n",
            "Epoch 17/40\n",
            "19808/19828 [============================>.] - ETA: 0s - loss: 0.6573 - acc: 0.6735Epoch 00016: val_loss did not improve\n",
            "19828/19828 [==============================] - 151s - loss: 0.6573 - acc: 0.6736 - val_loss: 0.6617 - val_acc: 0.6940\n",
            "Epoch 18/40\n",
            "19808/19828 [============================>.] - ETA: 0s - loss: 0.6549 - acc: 0.6753Epoch 00017: val_loss did not improve\n",
            "\n",
            "Epoch 00017: reducing learning rate to 4.0000001899898055e-05.\n",
            "19828/19828 [==============================] - 151s - loss: 0.6550 - acc: 0.6752 - val_loss: 0.6660 - val_acc: 0.6900\n",
            "Epoch 19/40\n",
            "19808/19828 [============================>.] - ETA: 0s - loss: 0.6493 - acc: 0.6834Epoch 00018: val_loss did not improve\n",
            "19828/19828 [==============================] - 152s - loss: 0.6492 - acc: 0.6833 - val_loss: 0.6594 - val_acc: 0.6970\n",
            "Epoch 20/40\n",
            "19808/19828 [============================>.] - ETA: 0s - loss: 0.6475 - acc: 0.6855Epoch 00019: val_loss did not improve\n",
            "19828/19828 [==============================] - 151s - loss: 0.6476 - acc: 0.6855 - val_loss: 0.6566 - val_acc: 0.6960\n",
            "Epoch 21/40\n",
            "19808/19828 [============================>.] - ETA: 0s - loss: 0.6477 - acc: 0.6895Epoch 00020: val_loss did not improve\n",
            "\n",
            "Epoch 00020: reducing learning rate to 8.000000525498762e-06.\n",
            "19828/19828 [==============================] - 153s - loss: 0.6477 - acc: 0.6895 - val_loss: 0.6637 - val_acc: 0.6930\n",
            "Epoch 22/40\n",
            "19808/19828 [============================>.] - ETA: 0s - loss: 0.6423 - acc: 0.6911Epoch 00021: val_loss did not improve\n",
            "19828/19828 [==============================] - 155s - loss: 0.6423 - acc: 0.6911 - val_loss: 0.6628 - val_acc: 0.6955\n",
            "Epoch 23/40\n",
            "19808/19828 [============================>.] - ETA: 0s - loss: 0.6438 - acc: 0.6883Epoch 00022: val_loss did not improve\n",
            "19828/19828 [==============================] - 154s - loss: 0.6437 - acc: 0.6882 - val_loss: 0.6604 - val_acc: 0.6970\n"
          ]
        }
      ]
    },
    {
      "cell_type": "code",
      "source": [
        "from google.colab import files\n",
        "files.download('/content/qa-lstm-attn-best-qaWithFact.hdf5')"
      ],
      "metadata": {
        "colab": {
          "base_uri": "https://localhost:8080/",
          "height": 34
        },
        "id": "mmTmc3IKPxBU",
        "outputId": "737b989a-584b-4074-e836-306a5ea18f05"
      },
      "execution_count": null,
      "outputs": [
        {
          "output_type": "display_data",
          "data": {
            "application/javascript": [
              "\n",
              "    async function download(id, filename, size) {\n",
              "      if (!google.colab.kernel.accessAllowed) {\n",
              "        return;\n",
              "      }\n",
              "      const div = document.createElement('div');\n",
              "      const label = document.createElement('label');\n",
              "      label.textContent = `Downloading \"${filename}\": `;\n",
              "      div.appendChild(label);\n",
              "      const progress = document.createElement('progress');\n",
              "      progress.max = size;\n",
              "      div.appendChild(progress);\n",
              "      document.body.appendChild(div);\n",
              "\n",
              "      const buffers = [];\n",
              "      let downloaded = 0;\n",
              "\n",
              "      const channel = await google.colab.kernel.comms.open(id);\n",
              "      // Send a message to notify the kernel that we're ready.\n",
              "      channel.send({})\n",
              "\n",
              "      for await (const message of channel.messages) {\n",
              "        // Send a message to notify the kernel that we're ready.\n",
              "        channel.send({})\n",
              "        if (message.buffers) {\n",
              "          for (const buffer of message.buffers) {\n",
              "            buffers.push(buffer);\n",
              "            downloaded += buffer.byteLength;\n",
              "            progress.value = downloaded;\n",
              "          }\n",
              "        }\n",
              "      }\n",
              "      const blob = new Blob(buffers, {type: 'application/binary'});\n",
              "      const a = document.createElement('a');\n",
              "      a.href = window.URL.createObjectURL(blob);\n",
              "      a.download = filename;\n",
              "      div.appendChild(a);\n",
              "      a.click();\n",
              "      div.remove();\n",
              "    }\n",
              "  "
            ],
            "text/plain": [
              "<IPython.core.display.Javascript object>"
            ]
          },
          "metadata": {}
        },
        {
          "output_type": "display_data",
          "data": {
            "application/javascript": [
              "download(\"download_afd5a68e-fc1a-4cd2-914c-6ea5bfcc4492\", \"qa-lstm-attn-best-qaWithFact.hdf5\", 678466992)"
            ],
            "text/plain": [
              "<IPython.core.display.Javascript object>"
            ]
          },
          "metadata": {}
        }
      ]
    },
    {
      "cell_type": "code",
      "source": [
        "import matplotlib.pyplot as plt\n",
        "plt.rcParams.update({'font.size': 12})"
      ],
      "metadata": {
        "id": "l6JlJRk3Symx"
      },
      "execution_count": null,
      "outputs": []
    },
    {
      "cell_type": "code",
      "source": [
        "def create_line_charts(df, metric_name, title, xlabel, ylabel, figsize=(12,8)):\n",
        "  fig, ax = plt.subplots(figsize=figsize)\n",
        "  plt.plot('epochs', 'train_' + metric_name, data=df)\n",
        "  plt.plot('epochs', 'val_' + metric_name, data=df)\n",
        "  plt.xlabel(xlabel)\n",
        "  plt.ylabel(ylabel)\n",
        "  plt.title(title)\n",
        "  plt.legend()\n",
        "  plt.show()\n",
        "\n",
        "def create_metrics_df(history_data, num_epochs, metric_name):\n",
        "  epochs_val = list(range(1, num_epochs+1))\n",
        "  training_metric_val = history_data.history[metric_name]\n",
        "  validation_metric_val = history_data.history['val_' + metric_name]\n",
        "  metric_dict = {\n",
        "    'epochs':epochs_val,\n",
        "    'train_' + metric_name: training_metric_val,\n",
        "    'val_' + metric_name: validation_metric_val\n",
        "  }\n",
        "  metric_df = pd.DataFrame(metric_dict)\n",
        "  return metric_df"
      ],
      "metadata": {
        "id": "24DTx-3kSqCl"
      },
      "execution_count": null,
      "outputs": []
    },
    {
      "cell_type": "code",
      "source": [
        "def generate_metrics_plots(model_history_data, epochs):\n",
        "  all_metrics = ['acc', 'loss']\n",
        "  for cur_metric in all_metrics:\n",
        "    create_line_charts(create_metrics_df(model_history_data, epochs, cur_metric), cur_metric, 'Comparison of training and validation {} values'.format(cur_metric), 'Epochs', '{} Values'.format(cur_metric))"
      ],
      "metadata": {
        "id": "QwX6wM8wSTYF"
      },
      "execution_count": null,
      "outputs": []
    },
    {
      "cell_type": "code",
      "source": [
        "generate_metrics_plots(model_history, 23)"
      ],
      "metadata": {
        "colab": {
          "base_uri": "https://localhost:8080/",
          "height": 1000
        },
        "id": "02NNAE9OS4wx",
        "outputId": "1598f2e4-2336-4790-8c33-6077d3c705d6"
      },
      "execution_count": null,
      "outputs": [
        {
          "output_type": "display_data",
          "data": {
            "text/plain": [
              "<Figure size 864x576 with 1 Axes>"
            ],
            "image/png": "[encoded data removed]"
          },
          "metadata": {
            "needs_background": "light"
          }
        },
        {
          "output_type": "display_data",
          "data": {
            "text/plain": [
              "<Figure size 864x576 with 1 Axes>"
            ],
            "image/png": "[encoded data removed]"
          },
          "metadata": {
            "needs_background": "light"
          }
        }
      ]
    },
    {
      "cell_type": "code",
      "source": [
        "from sklearn.metrics import ConfusionMatrixDisplay, confusion_matrix"
      ],
      "metadata": {
        "id": "YwXl-MitTk_w"
      },
      "execution_count": null,
      "outputs": []
    },
    {
      "cell_type": "code",
      "source": [
        "def generate_confusion_matrix(y_true, y_pred, class_labels, fig_size=(10,10), cmap='inferno'):\n",
        "  cm = confusion_matrix(y_true, y_pred)\n",
        "  cmdisp = ConfusionMatrixDisplay(confusion_matrix=cm, display_labels=class_labels)\n",
        "  fig, ax = plt.subplots(figsize=fig_size)\n",
        "  ax.grid(False)\n",
        "  cmdisp.plot(ax=ax, cmap=cmap)\n",
        "  plt.show()"
      ],
      "metadata": {
        "id": "9U1eQp9QTsDD"
      },
      "execution_count": null,
      "outputs": []
    },
    {
      "cell_type": "code",
      "source": [
        "df_test[['A','B','C','D']] = pd.DataFrame(df_test.Answer.tolist(), index= df_test.index)\n",
        "df_test.head()"
      ],
      "metadata": {
        "colab": {
          "base_uri": "https://localhost:8080/",
          "height": 407
        },
        "id": "HcQNyBX8RoNT",
        "outputId": "193a5b8f-bd76-4ee9-daea-d19395804f9d"
      },
      "execution_count": null,
      "outputs": [
        {
          "output_type": "execute_result",
          "data": {
            "text/plain": [
              "                                            Question  \\\n",
              "0  A person wants to start saving money so that t...   \n",
              "1       There is most likely going to be fog around:   \n",
              "2                                      Predators eat   \n",
              "3  Oak tree seeds are planted and a sidewalk is p...   \n",
              "4            An electric car runs on electricity via   \n",
              "\n",
              "                                                Fact  \\\n",
              "0  using less resources usually causes money to b...   \n",
              "1  fog is formed by water vapor condensing in the...   \n",
              "2                                 predators eat prey   \n",
              "3  if a tree is located near a sidewalk then the ...   \n",
              "4  An electrical conductor is a vehicle for the f...   \n",
              "\n",
              "                                              Answer Answer Key  \\\n",
              "0  [make more phone calls, quit eating lunch out,...          B   \n",
              "1          [a marsh, a tundra, the plains, a desert]          A   \n",
              "2                    [lions, humans, bunnies, grass]          C   \n",
              "3  [roots may be split, roots may begin to die, p...          C   \n",
              "4  [gasoline, a power station, electrical conduct...          C   \n",
              "\n",
              "                       A                       B  \\\n",
              "0  make more phone calls   quit eating lunch out   \n",
              "1                a marsh                a tundra   \n",
              "2                  lions                  humans   \n",
              "3     roots may be split  roots may begin to die   \n",
              "4               gasoline         a power station   \n",
              "\n",
              "                              C                        D  \n",
              "0  buy less with monopoly money  have lunch with friends  \n",
              "1                    the plains                 a desert  \n",
              "2                       bunnies                    grass  \n",
              "3  parts may break the concrete     roots may fall apart  \n",
              "4         electrical conductors                     fuel  "
            ],
            "text/html": [
              "\n",
              "  <div id=\"df-2607c70e-51d7-4346-8385-ba04a43c3ca3\">\n",
              "    <div class=\"colab-df-container\">\n",
              "      <div>\n",
              "<style scoped>\n",
              "    .dataframe tbody tr th:only-of-type {\n",
              "        vertical-align: middle;\n",
              "    }\n",
              "\n",
              "    .dataframe tbody tr th {\n",
              "        vertical-align: top;\n",
              "    }\n",
              "\n",
              "    .dataframe thead th {\n",
              "        text-align: right;\n",
              "    }\n",
              "</style>\n",
              "<table border=\"1\" class=\"dataframe\">\n",
              "  <thead>\n",
              "    <tr style=\"text-align: right;\">\n",
              "      <th></th>\n",
              "      <th>Question</th>\n",
              "      <th>Fact</th>\n",
              "      <th>Answer</th>\n",
              "      <th>Answer Key</th>\n",
              "      <th>A</th>\n",
              "      <th>B</th>\n",
              "      <th>C</th>\n",
              "      <th>D</th>\n",
              "    </tr>\n",
              "  </thead>\n",
              "  <tbody>\n",
              "    <tr>\n",
              "      <th>0</th>\n",
              "      <td>A person wants to start saving money so that t...</td>\n",
              "      <td>using less resources usually causes money to b...</td>\n",
              "      <td>[make more phone calls, quit eating lunch out,...</td>\n",
              "      <td>B</td>\n",
              "      <td>make more phone calls</td>\n",
              "      <td>quit eating lunch out</td>\n",
              "      <td>buy less with monopoly money</td>\n",
              "      <td>have lunch with friends</td>\n",
              "    </tr>\n",
              "    <tr>\n",
              "      <th>1</th>\n",
              "      <td>There is most likely going to be fog around:</td>\n",
              "      <td>fog is formed by water vapor condensing in the...</td>\n",
              "      <td>[a marsh, a tundra, the plains, a desert]</td>\n",
              "      <td>A</td>\n",
              "      <td>a marsh</td>\n",
              "      <td>a tundra</td>\n",
              "      <td>the plains</td>\n",
              "      <td>a desert</td>\n",
              "    </tr>\n",
              "    <tr>\n",
              "      <th>2</th>\n",
              "      <td>Predators eat</td>\n",
              "      <td>predators eat prey</td>\n",
              "      <td>[lions, humans, bunnies, grass]</td>\n",
              "      <td>C</td>\n",
              "      <td>lions</td>\n",
              "      <td>humans</td>\n",
              "      <td>bunnies</td>\n",
              "      <td>grass</td>\n",
              "    </tr>\n",
              "    <tr>\n",
              "      <th>3</th>\n",
              "      <td>Oak tree seeds are planted and a sidewalk is p...</td>\n",
              "      <td>if a tree is located near a sidewalk then the ...</td>\n",
              "      <td>[roots may be split, roots may begin to die, p...</td>\n",
              "      <td>C</td>\n",
              "      <td>roots may be split</td>\n",
              "      <td>roots may begin to die</td>\n",
              "      <td>parts may break the concrete</td>\n",
              "      <td>roots may fall apart</td>\n",
              "    </tr>\n",
              "    <tr>\n",
              "      <th>4</th>\n",
              "      <td>An electric car runs on electricity via</td>\n",
              "      <td>An electrical conductor is a vehicle for the f...</td>\n",
              "      <td>[gasoline, a power station, electrical conduct...</td>\n",
              "      <td>C</td>\n",
              "      <td>gasoline</td>\n",
              "      <td>a power station</td>\n",
              "      <td>electrical conductors</td>\n",
              "      <td>fuel</td>\n",
              "    </tr>\n",
              "  </tbody>\n",
              "</table>\n",
              "</div>\n",
              "      <button class=\"colab-df-convert\" onclick=\"convertToInteractive('df-2607c70e-51d7-4346-8385-ba04a43c3ca3')\"\n",
              "              title=\"Convert this dataframe to an interactive table.\"\n",
              "              style=\"display:none;\">\n",
              "        \n",
              "  <svg xmlns=\"http://www.w3.org/2000/svg\" height=\"24px\"viewBox=\"0 0 24 24\"\n",
              "       width=\"24px\">\n",
              "    <path d=\"M0 0h24v24H0V0z\" fill=\"none\"/>\n",
              "    <path d=\"M18.56 5.44l.94 2.06.94-2.06 2.06-.94-2.06-.94-.94-2.06-.94 2.06-2.06.94zm-11 1L8.5 8.5l.94-2.06 2.06-.94-2.06-.94L8.5 2.5l-.94 2.06-2.06.94zm10 10l.94 2.06.94-2.06 2.06-.94-2.06-.94-.94-2.06-.94 2.06-2.06.94z\"/><path d=\"M17.41 7.96l-1.37-1.37c-.4-.4-.92-.59-1.43-.59-.52 0-1.04.2-1.43.59L10.3 9.45l-7.72 7.72c-.78.78-.78 2.05 0 2.83L4 21.41c.39.39.9.59 1.41.59.51 0 1.02-.2 1.41-.59l7.78-7.78 2.81-2.81c.8-.78.8-2.07 0-2.86zM5.41 20L4 18.59l7.72-7.72 1.47 1.35L5.41 20z\"/>\n",
              "  </svg>\n",
              "      </button>\n",
              "      \n",
              "  <style>\n",
              "    .colab-df-container {\n",
              "      display:flex;\n",
              "      flex-wrap:wrap;\n",
              "      gap: 12px;\n",
              "    }\n",
              "\n",
              "    .colab-df-convert {\n",
              "      background-color: #E8F0FE;\n",
              "      border: none;\n",
              "      border-radius: 50%;\n",
              "      cursor: pointer;\n",
              "      display: none;\n",
              "      fill: #1967D2;\n",
              "      height: 32px;\n",
              "      padding: 0 0 0 0;\n",
              "      width: 32px;\n",
              "    }\n",
              "\n",
              "    .colab-df-convert:hover {\n",
              "      background-color: #E2EBFA;\n",
              "      box-shadow: 0px 1px 2px rgba(60, 64, 67, 0.3), 0px 1px 3px 1px rgba(60, 64, 67, 0.15);\n",
              "      fill: #174EA6;\n",
              "    }\n",
              "\n",
              "    [theme=dark] .colab-df-convert {\n",
              "      background-color: #3B4455;\n",
              "      fill: #D2E3FC;\n",
              "    }\n",
              "\n",
              "    [theme=dark] .colab-df-convert:hover {\n",
              "      background-color: #434B5C;\n",
              "      box-shadow: 0px 1px 3px 1px rgba(0, 0, 0, 0.15);\n",
              "      filter: drop-shadow(0px 1px 2px rgba(0, 0, 0, 0.3));\n",
              "      fill: #FFFFFF;\n",
              "    }\n",
              "  </style>\n",
              "\n",
              "      <script>\n",
              "        const buttonEl =\n",
              "          document.querySelector('#df-2607c70e-51d7-4346-8385-ba04a43c3ca3 button.colab-df-convert');\n",
              "        buttonEl.style.display =\n",
              "          google.colab.kernel.accessAllowed ? 'block' : 'none';\n",
              "\n",
              "        async function convertToInteractive(key) {\n",
              "          const element = document.querySelector('#df-2607c70e-51d7-4346-8385-ba04a43c3ca3');\n",
              "          const dataTable =\n",
              "            await google.colab.kernel.invokeFunction('convertToInteractive',\n",
              "                                                     [key], {});\n",
              "          if (!dataTable) return;\n",
              "\n",
              "          const docLinkHtml = 'Like what you see? Visit the ' +\n",
              "            '<a target=\"_blank\" href=https://colab.research.google.com/notebooks/data_table.ipynb>data table notebook</a>'\n",
              "            + ' to learn more about interactive tables.';\n",
              "          element.innerHTML = '';\n",
              "          dataTable['output_type'] = 'display_data';\n",
              "          await google.colab.output.renderOutput(dataTable, element);\n",
              "          const docLink = document.createElement('div');\n",
              "          docLink.innerHTML = docLinkHtml;\n",
              "          element.appendChild(docLink);\n",
              "        }\n",
              "      </script>\n",
              "    </div>\n",
              "  </div>\n",
              "  "
            ]
          },
          "metadata": {},
          "execution_count": 81
        }
      ]
    },
    {
      "cell_type": "code",
      "source": [
        "qapairs_test = []\n",
        "for k in range(len(df_test)):\n",
        "  question = df_test['Question'][k]\n",
        "  qwords = nltk.word_tokenize(question)\n",
        "  fact = df_test['Fact'][k]\n",
        "  fwords = nltk.word_tokenize(fact)\n",
        "  correct_ans = df_test['Answer Key'][k]\n",
        "  answers = df_test['A'][k]+'@'+df_test['B'][k]+'@'+df_test['C'][k]+'@'+df_test['D'][k]\n",
        "  # training file parsing\n",
        "  correct_ans_idx = ord(correct_ans) - ord('A')\n",
        "  for idx, answer in enumerate(answers.split('@')):\n",
        "    awords = nltk.word_tokenize(answer)\n",
        "    qapairs_test.append((qwords, fwords, awords, idx == correct_ans_idx))"
      ],
      "metadata": {
        "id": "0So70sqWPBXr"
      },
      "execution_count": null,
      "outputs": []
    },
    {
      "cell_type": "code",
      "source": [
        "word2idx_test = build_vocab([], qapairs_test, [])"
      ],
      "metadata": {
        "id": "zhKrAwidRsd6"
      },
      "execution_count": null,
      "outputs": []
    },
    {
      "cell_type": "code",
      "source": [
        "Xqtest, Xftest, Xatest, Ytest = vectorize_qapairs(qapairs_test, word2idx_test, seq_maxlen)"
      ],
      "metadata": {
        "id": "lk9GfPN8PBUa"
      },
      "execution_count": null,
      "outputs": []
    },
    {
      "cell_type": "code",
      "source": [
        "Xqtest_scaled = scaler_q.transform(Xqtest)\n",
        "Xftest_scaled = scaler_f.transform(Xftest)\n",
        "Xatest_scaled = scaler_a.transform(Xatest)"
      ],
      "metadata": {
        "id": "y5E4B_CVRJmv"
      },
      "execution_count": null,
      "outputs": []
    },
    {
      "cell_type": "code",
      "source": [
        "print(\"Evaluate on test data\")\n",
        "results = model.evaluate([Xqtest_scaled, Xftest_scaled, Xatest_scaled], Ytest, batch_size=BATCH_SIZE)\n",
        "print(\"test loss, test acc:\", results)"
      ],
      "metadata": {
        "colab": {
          "base_uri": "https://localhost:8080/"
        },
        "id": "yB2NtPtiRp-n",
        "outputId": "0bbdb7df-39bd-4464-bf87-7fba3aa5a6e7"
      },
      "execution_count": null,
      "outputs": [
        {
          "output_type": "stream",
          "name": "stdout",
          "text": [
            "Evaluate on test data\n",
            "2000/2000 [==============================] - 3s     \n",
            "test loss, test acc: [0.659426513671875, 0.6985]\n"
          ]
        }
      ]
    },
    {
      "cell_type": "code",
      "source": [
        "predictions = model.predict([Xqtest_scaled, Xftest_scaled, Xatest_scaled], verbose=0)"
      ],
      "metadata": {
        "id": "G0pU5jlWUgRP"
      },
      "execution_count": null,
      "outputs": []
    },
    {
      "cell_type": "code",
      "source": [
        "predictions[0:5]"
      ],
      "metadata": {
        "colab": {
          "base_uri": "https://localhost:8080/"
        },
        "id": "Hj1kUIi2U1XO",
        "outputId": "0c6c1ce0-5144-466c-827a-e8892c06b0c8"
      },
      "execution_count": null,
      "outputs": [
        {
          "output_type": "execute_result",
          "data": {
            "text/plain": [
              "array([[0.4087847 , 0.5912154 ],\n",
              "       [0.3665429 , 0.6334571 ],\n",
              "       [0.35064045, 0.6493596 ],\n",
              "       [0.4087847 , 0.5912154 ],\n",
              "       [0.41299537, 0.58700466]], dtype=float32)"
            ]
          },
          "metadata": {},
          "execution_count": 136
        }
      ]
    },
    {
      "cell_type": "code",
      "source": [
        "Ypred = np.argmax(predictions, axis=1)"
      ],
      "metadata": {
        "id": "z6KDqteEUu4H"
      },
      "execution_count": null,
      "outputs": []
    },
    {
      "cell_type": "code",
      "source": [
        "Ytrue = np.argmax(Ytest, axis=1)"
      ],
      "metadata": {
        "id": "-ImPTNj_V2Zd"
      },
      "execution_count": null,
      "outputs": []
    },
    {
      "cell_type": "code",
      "source": [
        "generate_confusion_matrix(Ytrue, Ypred, ['Correct Answer','Wrong Answer'])"
      ],
      "metadata": {
        "colab": {
          "base_uri": "https://localhost:8080/",
          "height": 574
        },
        "id": "jQY4nLbjiNCN",
        "outputId": "fce55bd1-85b2-40f7-f47a-26ccca780b6e"
      },
      "execution_count": null,
      "outputs": [
        {
          "output_type": "display_data",
          "data": {
            "text/plain": [
              "<Figure size 720x720 with 2 Axes>"
            ],
            "image/png": "[encoded data removed]"
          },
          "metadata": {
            "needs_background": "light"
          }
        }
      ]
    },
    {
      "cell_type": "code",
      "source": [
        "def save_np_data(file_path, input_arr):\n",
        "  with open(file_path, 'wb') as f:\n",
        "    np.save(f, input_arr)"
      ],
      "metadata": {
        "id": "ptpG0mQKyDu6"
      },
      "execution_count": null,
      "outputs": []
    },
    {
      "cell_type": "code",
      "source": [
        "save_np_data(os.path.join('/content/drive/MyDrive/NLP_Final_Project', 'model_qafacts_predictions.npy'), predictions)\n",
        "save_np_data(os.path.join('/content/drive/MyDrive/NLP_Final_Project', 'model_qafacts_test.npy'), Ytest)"
      ],
      "metadata": {
        "id": "HSHQul48yD2t"
      },
      "execution_count": null,
      "outputs": []
    },
    {
      "cell_type": "code",
      "source": [
        ""
      ],
      "metadata": {
        "id": "fJVz5q-EyD4_"
      },
      "execution_count": null,
      "outputs": []
    }
  ]
}