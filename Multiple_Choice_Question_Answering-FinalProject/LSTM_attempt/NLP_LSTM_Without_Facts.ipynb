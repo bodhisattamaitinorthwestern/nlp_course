{
  "nbformat": 4,
  "nbformat_minor": 0,
  "metadata": {
    "colab": {
      "name": "NLP_LSTM_Without_Facts.ipynb",
      "provenance": [],
      "machine_shape": "hm",
      "collapsed_sections": []
    },
    "kernelspec": {
      "name": "python3",
      "display_name": "Python 3"
    },
    "language_info": {
      "name": "python"
    },
    "accelerator": "GPU"
  },
  "cells": [
    {
      "cell_type": "code",
      "source": [
        "!pip install tensorflow==1.15.0"
      ],
      "metadata": {
        "colab": {
          "base_uri": "https://localhost:8080/"
        },
        "id": "P7DZhE5Ui0gL",
        "outputId": "37c764c5-bade-4ea1-e290-5942c271d751"
      },
      "execution_count": 1,
      "outputs": [
        {
          "output_type": "stream",
          "name": "stdout",
          "text": [
            "Collecting tensorflow==1.15.0\n",
            "  Downloading tensorflow-1.15.0-cp37-cp37m-manylinux2010_x86_64.whl (412.3 MB)\n",
            "\u001b[K     |████████████████████████████████| 412.3 MB 22 kB/s \n",
            "\u001b[?25hCollecting keras-applications>=1.0.8\n",
            "  Downloading Keras_Applications-1.0.8-py3-none-any.whl (50 kB)\n",
            "\u001b[K     |████████████████████████████████| 50 kB 7.8 MB/s \n",
            "\u001b[?25hRequirement already satisfied: numpy<2.0,>=1.16.0 in /usr/local/lib/python3.7/dist-packages (from tensorflow==1.15.0) (1.21.5)\n",
            "Requirement already satisfied: termcolor>=1.1.0 in /usr/local/lib/python3.7/dist-packages (from tensorflow==1.15.0) (1.1.0)\n",
            "Requirement already satisfied: wrapt>=1.11.1 in /usr/local/lib/python3.7/dist-packages (from tensorflow==1.15.0) (1.13.3)\n",
            "Requirement already satisfied: grpcio>=1.8.6 in /usr/local/lib/python3.7/dist-packages (from tensorflow==1.15.0) (1.44.0)\n",
            "Collecting gast==0.2.2\n",
            "  Downloading gast-0.2.2.tar.gz (10 kB)\n",
            "Requirement already satisfied: astor>=0.6.0 in /usr/local/lib/python3.7/dist-packages (from tensorflow==1.15.0) (0.8.1)\n",
            "Requirement already satisfied: opt-einsum>=2.3.2 in /usr/local/lib/python3.7/dist-packages (from tensorflow==1.15.0) (3.3.0)\n",
            "Requirement already satisfied: google-pasta>=0.1.6 in /usr/local/lib/python3.7/dist-packages (from tensorflow==1.15.0) (0.2.0)\n",
            "Requirement already satisfied: protobuf>=3.6.1 in /usr/local/lib/python3.7/dist-packages (from tensorflow==1.15.0) (3.17.3)\n",
            "Requirement already satisfied: wheel>=0.26 in /usr/local/lib/python3.7/dist-packages (from tensorflow==1.15.0) (0.37.1)\n",
            "Collecting tensorboard<1.16.0,>=1.15.0\n",
            "  Downloading tensorboard-1.15.0-py3-none-any.whl (3.8 MB)\n",
            "\u001b[K     |████████████████████████████████| 3.8 MB 54.9 MB/s \n",
            "\u001b[?25hRequirement already satisfied: keras-preprocessing>=1.0.5 in /usr/local/lib/python3.7/dist-packages (from tensorflow==1.15.0) (1.1.2)\n",
            "Collecting tensorflow-estimator==1.15.1\n",
            "  Downloading tensorflow_estimator-1.15.1-py2.py3-none-any.whl (503 kB)\n",
            "\u001b[K     |████████████████████████████████| 503 kB 82.1 MB/s \n",
            "\u001b[?25hRequirement already satisfied: six>=1.10.0 in /usr/local/lib/python3.7/dist-packages (from tensorflow==1.15.0) (1.15.0)\n",
            "Requirement already satisfied: absl-py>=0.7.0 in /usr/local/lib/python3.7/dist-packages (from tensorflow==1.15.0) (1.0.0)\n",
            "Requirement already satisfied: h5py in /usr/local/lib/python3.7/dist-packages (from keras-applications>=1.0.8->tensorflow==1.15.0) (3.1.0)\n",
            "Requirement already satisfied: werkzeug>=0.11.15 in /usr/local/lib/python3.7/dist-packages (from tensorboard<1.16.0,>=1.15.0->tensorflow==1.15.0) (1.0.1)\n",
            "Requirement already satisfied: setuptools>=41.0.0 in /usr/local/lib/python3.7/dist-packages (from tensorboard<1.16.0,>=1.15.0->tensorflow==1.15.0) (57.4.0)\n",
            "Requirement already satisfied: markdown>=2.6.8 in /usr/local/lib/python3.7/dist-packages (from tensorboard<1.16.0,>=1.15.0->tensorflow==1.15.0) (3.3.6)\n",
            "Requirement already satisfied: importlib-metadata>=4.4 in /usr/local/lib/python3.7/dist-packages (from markdown>=2.6.8->tensorboard<1.16.0,>=1.15.0->tensorflow==1.15.0) (4.11.2)\n",
            "Requirement already satisfied: zipp>=0.5 in /usr/local/lib/python3.7/dist-packages (from importlib-metadata>=4.4->markdown>=2.6.8->tensorboard<1.16.0,>=1.15.0->tensorflow==1.15.0) (3.7.0)\n",
            "Requirement already satisfied: typing-extensions>=3.6.4 in /usr/local/lib/python3.7/dist-packages (from importlib-metadata>=4.4->markdown>=2.6.8->tensorboard<1.16.0,>=1.15.0->tensorflow==1.15.0) (3.10.0.2)\n",
            "Requirement already satisfied: cached-property in /usr/local/lib/python3.7/dist-packages (from h5py->keras-applications>=1.0.8->tensorflow==1.15.0) (1.5.2)\n",
            "Building wheels for collected packages: gast\n",
            "  Building wheel for gast (setup.py) ... \u001b[?25l\u001b[?25hdone\n",
            "  Created wheel for gast: filename=gast-0.2.2-py3-none-any.whl size=7554 sha256=a8f1b347f5463151ab61a166cb09b5393cece014e2d802dae832d8316e5a8aab\n",
            "  Stored in directory: /root/.cache/pip/wheels/21/7f/02/420f32a803f7d0967b48dd823da3f558c5166991bfd204eef3\n",
            "Successfully built gast\n",
            "Installing collected packages: tensorflow-estimator, tensorboard, keras-applications, gast, tensorflow\n",
            "  Attempting uninstall: tensorflow-estimator\n",
            "    Found existing installation: tensorflow-estimator 2.8.0\n",
            "    Uninstalling tensorflow-estimator-2.8.0:\n",
            "      Successfully uninstalled tensorflow-estimator-2.8.0\n",
            "  Attempting uninstall: tensorboard\n",
            "    Found existing installation: tensorboard 2.8.0\n",
            "    Uninstalling tensorboard-2.8.0:\n",
            "      Successfully uninstalled tensorboard-2.8.0\n",
            "  Attempting uninstall: gast\n",
            "    Found existing installation: gast 0.5.3\n",
            "    Uninstalling gast-0.5.3:\n",
            "      Successfully uninstalled gast-0.5.3\n",
            "  Attempting uninstall: tensorflow\n",
            "    Found existing installation: tensorflow 2.8.0\n",
            "    Uninstalling tensorflow-2.8.0:\n",
            "      Successfully uninstalled tensorflow-2.8.0\n",
            "\u001b[31mERROR: pip's dependency resolver does not currently take into account all the packages that are installed. This behaviour is the source of the following dependency conflicts.\n",
            "tensorflow-probability 0.16.0 requires gast>=0.3.2, but you have gast 0.2.2 which is incompatible.\n",
            "kapre 0.3.7 requires tensorflow>=2.0.0, but you have tensorflow 1.15.0 which is incompatible.\u001b[0m\n",
            "Successfully installed gast-0.2.2 keras-applications-1.0.8 tensorboard-1.15.0 tensorflow-1.15.0 tensorflow-estimator-1.15.1\n"
          ]
        }
      ]
    },
    {
      "cell_type": "code",
      "source": [
        "!pip install keras==1.2.2"
      ],
      "metadata": {
        "colab": {
          "base_uri": "https://localhost:8080/"
        },
        "id": "B8XicmekV26g",
        "outputId": "3747cf5d-007f-402a-c8c0-fcb956322499"
      },
      "execution_count": 2,
      "outputs": [
        {
          "output_type": "stream",
          "name": "stdout",
          "text": [
            "Collecting keras==1.2.2\n",
            "  Downloading Keras-1.2.2.tar.gz (175 kB)\n",
            "\u001b[K     |████████████████████████████████| 175 kB 4.3 MB/s \n",
            "\u001b[?25hCollecting theano\n",
            "  Downloading Theano-1.0.5.tar.gz (2.8 MB)\n",
            "\u001b[K     |████████████████████████████████| 2.8 MB 24.6 MB/s \n",
            "\u001b[?25hRequirement already satisfied: pyyaml in /usr/local/lib/python3.7/dist-packages (from keras==1.2.2) (3.13)\n",
            "Requirement already satisfied: six in /usr/local/lib/python3.7/dist-packages (from keras==1.2.2) (1.15.0)\n",
            "Requirement already satisfied: numpy>=1.9.1 in /usr/local/lib/python3.7/dist-packages (from theano->keras==1.2.2) (1.21.5)\n",
            "Requirement already satisfied: scipy>=0.14 in /usr/local/lib/python3.7/dist-packages (from theano->keras==1.2.2) (1.4.1)\n",
            "Building wheels for collected packages: keras, theano\n",
            "  Building wheel for keras (setup.py) ... \u001b[?25l\u001b[?25hdone\n",
            "  Created wheel for keras: filename=Keras-1.2.2-py3-none-any.whl size=209601 sha256=fdb669ec957307ff21179fbecd7b522b0f7dcb593e196f4dd6391c049158d510\n",
            "  Stored in directory: /root/.cache/pip/wheels/d1/32/23/2a1db3765ec19c91503843380a4f92b6530598949c661c5fa2\n",
            "  Building wheel for theano (setup.py) ... \u001b[?25l\u001b[?25hdone\n",
            "  Created wheel for theano: filename=Theano-1.0.5-py3-none-any.whl size=2668111 sha256=55601ecff3bd9532eaae239977a5576bd6908ce38f4330204111dc0a32ea0e14\n",
            "  Stored in directory: /root/.cache/pip/wheels/26/68/6f/745330367ce7822fe0cd863712858151f5723a0a5e322cc144\n",
            "Successfully built keras theano\n",
            "Installing collected packages: theano, keras\n",
            "  Attempting uninstall: keras\n",
            "    Found existing installation: keras 2.8.0\n",
            "    Uninstalling keras-2.8.0:\n",
            "      Successfully uninstalled keras-2.8.0\n",
            "Successfully installed keras-1.2.2 theano-1.0.5\n"
          ]
        }
      ]
    },
    {
      "cell_type": "code",
      "source": [
        "from google.colab import files\n",
        "uploaded = files.upload()"
      ],
      "metadata": {
        "colab": {
          "resources": {
            "http://localhost:8080/nbextensions/google.colab/files.js": {
              "data": "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",
              "ok": true,
              "headers": [
                [
                  "content-type",
                  "application/javascript"
                ]
              ],
              "status": 200,
              "status_text": "OK"
            }
          },
          "base_uri": "https://localhost:8080/",
          "height": 76
        },
        "id": "Yk_7wtkGUsae",
        "outputId": "4982dd44-52a8-4852-dc9c-5d5110cc0bac"
      },
      "execution_count": null,
      "outputs": [
        {
          "output_type": "display_data",
          "data": {
            "text/html": [
              "\n",
              "     <input type=\"file\" id=\"files-90b83db6-c619-4e36-8503-1c741dd6a1d6\" name=\"files[]\" multiple disabled\n",
              "        style=\"border:none\" />\n",
              "     <output id=\"result-90b83db6-c619-4e36-8503-1c741dd6a1d6\">\n",
              "      Upload widget is only available when the cell has been executed in the\n",
              "      current browser session. Please rerun this cell to enable.\n",
              "      </output>\n",
              "      <script src=\"/nbextensions/google.colab/files.js\"></script> "
            ],
            "text/plain": [
              "<IPython.core.display.HTML object>"
            ]
          },
          "metadata": {}
        },
        {
          "output_type": "stream",
          "name": "stdout",
          "text": [
            "Saving GoogleNews-vectors-negative300.bin.gz to GoogleNews-vectors-negative300.bin.gz\n"
          ]
        }
      ]
    },
    {
      "cell_type": "code",
      "source": [
        "from google.colab import drive\n",
        "drive.mount('/content/drive')"
      ],
      "metadata": {
        "colab": {
          "base_uri": "https://localhost:8080/"
        },
        "id": "RE3gfoFVTvtD",
        "outputId": "1bd7ea68-7662-43ef-c35f-645138f8a334"
      },
      "execution_count": 3,
      "outputs": [
        {
          "output_type": "stream",
          "name": "stdout",
          "text": [
            "Mounted at /content/drive\n"
          ]
        }
      ]
    },
    {
      "cell_type": "code",
      "execution_count": 4,
      "metadata": {
        "id": "ZvZUz3dGyB26",
        "colab": {
          "base_uri": "https://localhost:8080/"
        },
        "outputId": "d3537a7f-3106-47c6-b447-a49c7d87d91e"
      },
      "outputs": [
        {
          "output_type": "stream",
          "name": "stderr",
          "text": [
            "Using TensorFlow backend.\n"
          ]
        }
      ],
      "source": [
        "from __future__ import division, print_function\n",
        "from gensim.models import Word2Vec\n",
        "from keras.callbacks import ModelCheckpoint\n",
        "from keras.layers import Dense, Merge, Dropout, Reshape, Flatten\n",
        "from keras.layers.embeddings import Embedding\n",
        "from keras.layers.recurrent import LSTM\n",
        "from keras.models import Sequential\n",
        "from keras.callbacks import EarlyStopping, ReduceLROnPlateau\n",
        "from sklearn.model_selection import train_test_split\n",
        "import numpy as np\n",
        "import pandas as pd\n",
        "import os\n",
        "import collections\n",
        "from keras.preprocessing.sequence import pad_sequences\n",
        "from ast import literal_eval\n",
        "import gensim\n",
        "from sklearn.utils import class_weight\n",
        "import nltk"
      ]
    },
    {
      "cell_type": "code",
      "source": [
        "nltk.download('punkt')"
      ],
      "metadata": {
        "colab": {
          "base_uri": "https://localhost:8080/"
        },
        "id": "C3_JzZ-p0tVH",
        "outputId": "2c83181a-d844-4466-ff1c-fdcd888371b4"
      },
      "execution_count": 5,
      "outputs": [
        {
          "output_type": "stream",
          "name": "stdout",
          "text": [
            "[nltk_data] Downloading package punkt to /root/nltk_data...\n",
            "[nltk_data]   Unzipping tokenizers/punkt.zip.\n"
          ]
        },
        {
          "output_type": "execute_result",
          "data": {
            "text/plain": [
              "True"
            ]
          },
          "metadata": {},
          "execution_count": 5
        }
      ]
    },
    {
      "cell_type": "code",
      "source": [
        "df = pd.read_csv(\"/content/drive/MyDrive/NLP_Final_Project/Train_qaOnly.csv\",converters={\"Answer\": literal_eval})\n",
        "df_val = pd.read_csv(\"/content/drive/MyDrive/NLP_Final_Project/Val_qaOnly.csv\",converters={\"Answer\": literal_eval})\n",
        "df_test = pd.read_csv(\"/content/drive/MyDrive/NLP_Final_Project/Test_qaOnly.csv\",converters={\"Answer\": literal_eval})\n",
        "\n",
        "df.head()"
      ],
      "metadata": {
        "colab": {
          "base_uri": "https://localhost:8080/",
          "height": 206
        },
        "id": "BXwACk5z34Po",
        "outputId": "f1f375c8-b3b9-4247-eed2-c1a0668d67d1"
      },
      "execution_count": 6,
      "outputs": [
        {
          "output_type": "execute_result",
          "data": {
            "text/plain": [
              "                                       Question  \\\n",
              "0                    The sun is responsible for   \n",
              "1  When standing miles away from Mount Rushmore   \n",
              "2           When food is reduced in the stomach   \n",
              "3                                     Stars are   \n",
              "4               You can make a telescope with a   \n",
              "\n",
              "                                              Answer Answer Key  Fact  \n",
              "0  [puppies learning new tricks, children growing...          D   NaN  \n",
              "1  [the mountains seem very close, the mountains ...          D   NaN  \n",
              "2  [the mind needs time to digest, take a second ...          C   NaN  \n",
              "3  [warm lights that float, made out of nitrate, ...          C   NaN  \n",
              "4               [straw, Glass, Candle, mailing tube]          D   NaN  "
            ],
            "text/html": [
              "\n",
              "  <div id=\"df-aba7da2d-30a0-4f8c-a444-08cc513c0597\">\n",
              "    <div class=\"colab-df-container\">\n",
              "      <div>\n",
              "<style scoped>\n",
              "    .dataframe tbody tr th:only-of-type {\n",
              "        vertical-align: middle;\n",
              "    }\n",
              "\n",
              "    .dataframe tbody tr th {\n",
              "        vertical-align: top;\n",
              "    }\n",
              "\n",
              "    .dataframe thead th {\n",
              "        text-align: right;\n",
              "    }\n",
              "</style>\n",
              "<table border=\"1\" class=\"dataframe\">\n",
              "  <thead>\n",
              "    <tr style=\"text-align: right;\">\n",
              "      <th></th>\n",
              "      <th>Question</th>\n",
              "      <th>Answer</th>\n",
              "      <th>Answer Key</th>\n",
              "      <th>Fact</th>\n",
              "    </tr>\n",
              "  </thead>\n",
              "  <tbody>\n",
              "    <tr>\n",
              "      <th>0</th>\n",
              "      <td>The sun is responsible for</td>\n",
              "      <td>[puppies learning new tricks, children growing...</td>\n",
              "      <td>D</td>\n",
              "      <td>NaN</td>\n",
              "    </tr>\n",
              "    <tr>\n",
              "      <th>1</th>\n",
              "      <td>When standing miles away from Mount Rushmore</td>\n",
              "      <td>[the mountains seem very close, the mountains ...</td>\n",
              "      <td>D</td>\n",
              "      <td>NaN</td>\n",
              "    </tr>\n",
              "    <tr>\n",
              "      <th>2</th>\n",
              "      <td>When food is reduced in the stomach</td>\n",
              "      <td>[the mind needs time to digest, take a second ...</td>\n",
              "      <td>C</td>\n",
              "      <td>NaN</td>\n",
              "    </tr>\n",
              "    <tr>\n",
              "      <th>3</th>\n",
              "      <td>Stars are</td>\n",
              "      <td>[warm lights that float, made out of nitrate, ...</td>\n",
              "      <td>C</td>\n",
              "      <td>NaN</td>\n",
              "    </tr>\n",
              "    <tr>\n",
              "      <th>4</th>\n",
              "      <td>You can make a telescope with a</td>\n",
              "      <td>[straw, Glass, Candle, mailing tube]</td>\n",
              "      <td>D</td>\n",
              "      <td>NaN</td>\n",
              "    </tr>\n",
              "  </tbody>\n",
              "</table>\n",
              "</div>\n",
              "      <button class=\"colab-df-convert\" onclick=\"convertToInteractive('df-aba7da2d-30a0-4f8c-a444-08cc513c0597')\"\n",
              "              title=\"Convert this dataframe to an interactive table.\"\n",
              "              style=\"display:none;\">\n",
              "        \n",
              "  <svg xmlns=\"http://www.w3.org/2000/svg\" height=\"24px\"viewBox=\"0 0 24 24\"\n",
              "       width=\"24px\">\n",
              "    <path d=\"M0 0h24v24H0V0z\" fill=\"none\"/>\n",
              "    <path d=\"M18.56 5.44l.94 2.06.94-2.06 2.06-.94-2.06-.94-.94-2.06-.94 2.06-2.06.94zm-11 1L8.5 8.5l.94-2.06 2.06-.94-2.06-.94L8.5 2.5l-.94 2.06-2.06.94zm10 10l.94 2.06.94-2.06 2.06-.94-2.06-.94-.94-2.06-.94 2.06-2.06.94z\"/><path d=\"M17.41 7.96l-1.37-1.37c-.4-.4-.92-.59-1.43-.59-.52 0-1.04.2-1.43.59L10.3 9.45l-7.72 7.72c-.78.78-.78 2.05 0 2.83L4 21.41c.39.39.9.59 1.41.59.51 0 1.02-.2 1.41-.59l7.78-7.78 2.81-2.81c.8-.78.8-2.07 0-2.86zM5.41 20L4 18.59l7.72-7.72 1.47 1.35L5.41 20z\"/>\n",
              "  </svg>\n",
              "      </button>\n",
              "      \n",
              "  <style>\n",
              "    .colab-df-container {\n",
              "      display:flex;\n",
              "      flex-wrap:wrap;\n",
              "      gap: 12px;\n",
              "    }\n",
              "\n",
              "    .colab-df-convert {\n",
              "      background-color: #E8F0FE;\n",
              "      border: none;\n",
              "      border-radius: 50%;\n",
              "      cursor: pointer;\n",
              "      display: none;\n",
              "      fill: #1967D2;\n",
              "      height: 32px;\n",
              "      padding: 0 0 0 0;\n",
              "      width: 32px;\n",
              "    }\n",
              "\n",
              "    .colab-df-convert:hover {\n",
              "      background-color: #E2EBFA;\n",
              "      box-shadow: 0px 1px 2px rgba(60, 64, 67, 0.3), 0px 1px 3px 1px rgba(60, 64, 67, 0.15);\n",
              "      fill: #174EA6;\n",
              "    }\n",
              "\n",
              "    [theme=dark] .colab-df-convert {\n",
              "      background-color: #3B4455;\n",
              "      fill: #D2E3FC;\n",
              "    }\n",
              "\n",
              "    [theme=dark] .colab-df-convert:hover {\n",
              "      background-color: #434B5C;\n",
              "      box-shadow: 0px 1px 3px 1px rgba(0, 0, 0, 0.15);\n",
              "      filter: drop-shadow(0px 1px 2px rgba(0, 0, 0, 0.3));\n",
              "      fill: #FFFFFF;\n",
              "    }\n",
              "  </style>\n",
              "\n",
              "      <script>\n",
              "        const buttonEl =\n",
              "          document.querySelector('#df-aba7da2d-30a0-4f8c-a444-08cc513c0597 button.colab-df-convert');\n",
              "        buttonEl.style.display =\n",
              "          google.colab.kernel.accessAllowed ? 'block' : 'none';\n",
              "\n",
              "        async function convertToInteractive(key) {\n",
              "          const element = document.querySelector('#df-aba7da2d-30a0-4f8c-a444-08cc513c0597');\n",
              "          const dataTable =\n",
              "            await google.colab.kernel.invokeFunction('convertToInteractive',\n",
              "                                                     [key], {});\n",
              "          if (!dataTable) return;\n",
              "\n",
              "          const docLinkHtml = 'Like what you see? Visit the ' +\n",
              "            '<a target=\"_blank\" href=https://colab.research.google.com/notebooks/data_table.ipynb>data table notebook</a>'\n",
              "            + ' to learn more about interactive tables.';\n",
              "          element.innerHTML = '';\n",
              "          dataTable['output_type'] = 'display_data';\n",
              "          await google.colab.output.renderOutput(dataTable, element);\n",
              "          const docLink = document.createElement('div');\n",
              "          docLink.innerHTML = docLinkHtml;\n",
              "          element.appendChild(docLink);\n",
              "        }\n",
              "      </script>\n",
              "    </div>\n",
              "  </div>\n",
              "  "
            ]
          },
          "metadata": {},
          "execution_count": 6
        }
      ]
    },
    {
      "cell_type": "code",
      "source": [
        "df.drop(columns=['Fact'], inplace=True)"
      ],
      "metadata": {
        "id": "8bw5HUqECrcg"
      },
      "execution_count": 7,
      "outputs": []
    },
    {
      "cell_type": "code",
      "source": [
        "df_val.drop(columns=['Fact'], inplace=True)\n",
        "df_test.drop(columns=['Fact'], inplace=True)"
      ],
      "metadata": {
        "id": "EK7cAaQRC6JZ"
      },
      "execution_count": 9,
      "outputs": []
    },
    {
      "cell_type": "code",
      "source": [
        "df[['A','B','C','D']] = pd.DataFrame(df.Answer.tolist(), index= df.index)\n",
        "df.head()"
      ],
      "metadata": {
        "colab": {
          "base_uri": "https://localhost:8080/",
          "height": 354
        },
        "id": "F4W87lMOwqiN",
        "outputId": "36073f88-b572-4458-89bd-97f1bd9eb3bb"
      },
      "execution_count": 8,
      "outputs": [
        {
          "output_type": "execute_result",
          "data": {
            "text/plain": [
              "                                       Question  \\\n",
              "0                    The sun is responsible for   \n",
              "1  When standing miles away from Mount Rushmore   \n",
              "2           When food is reduced in the stomach   \n",
              "3                                     Stars are   \n",
              "4               You can make a telescope with a   \n",
              "\n",
              "                                              Answer Answer Key  \\\n",
              "0  [puppies learning new tricks, children growing...          D   \n",
              "1  [the mountains seem very close, the mountains ...          D   \n",
              "2  [the mind needs time to digest, take a second ...          C   \n",
              "3  [warm lights that float, made out of nitrate, ...          C   \n",
              "4               [straw, Glass, Candle, mailing tube]          D   \n",
              "\n",
              "                               A                                    B  \\\n",
              "0    puppies learning new tricks  children growing up and getting old   \n",
              "1  the mountains seem very close             the mountains are boring   \n",
              "2  the mind needs time to digest  take a second to digest what I said   \n",
              "3         warm lights that float                  made out of nitrate   \n",
              "4                          straw                                Glass   \n",
              "\n",
              "                                                   C  \\\n",
              "0                          flowers wilting in a vase   \n",
              "1       the mountains look the same as from up close   \n",
              "2                  nutrients are being deconstructed   \n",
              "3  great balls of gas burning billions of miles away   \n",
              "4                                             Candle   \n",
              "\n",
              "                                                D  \n",
              "0          plants sprouting, blooming and wilting  \n",
              "1  the mountains seem smaller than in photographs  \n",
              "2              reader's digest is a body of works  \n",
              "3                               lights in the sky  \n",
              "4                                    mailing tube  "
            ],
            "text/html": [
              "\n",
              "  <div id=\"df-202932cb-52db-49a9-8e6a-c0a3fdf23259\">\n",
              "    <div class=\"colab-df-container\">\n",
              "      <div>\n",
              "<style scoped>\n",
              "    .dataframe tbody tr th:only-of-type {\n",
              "        vertical-align: middle;\n",
              "    }\n",
              "\n",
              "    .dataframe tbody tr th {\n",
              "        vertical-align: top;\n",
              "    }\n",
              "\n",
              "    .dataframe thead th {\n",
              "        text-align: right;\n",
              "    }\n",
              "</style>\n",
              "<table border=\"1\" class=\"dataframe\">\n",
              "  <thead>\n",
              "    <tr style=\"text-align: right;\">\n",
              "      <th></th>\n",
              "      <th>Question</th>\n",
              "      <th>Answer</th>\n",
              "      <th>Answer Key</th>\n",
              "      <th>A</th>\n",
              "      <th>B</th>\n",
              "      <th>C</th>\n",
              "      <th>D</th>\n",
              "    </tr>\n",
              "  </thead>\n",
              "  <tbody>\n",
              "    <tr>\n",
              "      <th>0</th>\n",
              "      <td>The sun is responsible for</td>\n",
              "      <td>[puppies learning new tricks, children growing...</td>\n",
              "      <td>D</td>\n",
              "      <td>puppies learning new tricks</td>\n",
              "      <td>children growing up and getting old</td>\n",
              "      <td>flowers wilting in a vase</td>\n",
              "      <td>plants sprouting, blooming and wilting</td>\n",
              "    </tr>\n",
              "    <tr>\n",
              "      <th>1</th>\n",
              "      <td>When standing miles away from Mount Rushmore</td>\n",
              "      <td>[the mountains seem very close, the mountains ...</td>\n",
              "      <td>D</td>\n",
              "      <td>the mountains seem very close</td>\n",
              "      <td>the mountains are boring</td>\n",
              "      <td>the mountains look the same as from up close</td>\n",
              "      <td>the mountains seem smaller than in photographs</td>\n",
              "    </tr>\n",
              "    <tr>\n",
              "      <th>2</th>\n",
              "      <td>When food is reduced in the stomach</td>\n",
              "      <td>[the mind needs time to digest, take a second ...</td>\n",
              "      <td>C</td>\n",
              "      <td>the mind needs time to digest</td>\n",
              "      <td>take a second to digest what I said</td>\n",
              "      <td>nutrients are being deconstructed</td>\n",
              "      <td>reader's digest is a body of works</td>\n",
              "    </tr>\n",
              "    <tr>\n",
              "      <th>3</th>\n",
              "      <td>Stars are</td>\n",
              "      <td>[warm lights that float, made out of nitrate, ...</td>\n",
              "      <td>C</td>\n",
              "      <td>warm lights that float</td>\n",
              "      <td>made out of nitrate</td>\n",
              "      <td>great balls of gas burning billions of miles away</td>\n",
              "      <td>lights in the sky</td>\n",
              "    </tr>\n",
              "    <tr>\n",
              "      <th>4</th>\n",
              "      <td>You can make a telescope with a</td>\n",
              "      <td>[straw, Glass, Candle, mailing tube]</td>\n",
              "      <td>D</td>\n",
              "      <td>straw</td>\n",
              "      <td>Glass</td>\n",
              "      <td>Candle</td>\n",
              "      <td>mailing tube</td>\n",
              "    </tr>\n",
              "  </tbody>\n",
              "</table>\n",
              "</div>\n",
              "      <button class=\"colab-df-convert\" onclick=\"convertToInteractive('df-202932cb-52db-49a9-8e6a-c0a3fdf23259')\"\n",
              "              title=\"Convert this dataframe to an interactive table.\"\n",
              "              style=\"display:none;\">\n",
              "        \n",
              "  <svg xmlns=\"http://www.w3.org/2000/svg\" height=\"24px\"viewBox=\"0 0 24 24\"\n",
              "       width=\"24px\">\n",
              "    <path d=\"M0 0h24v24H0V0z\" fill=\"none\"/>\n",
              "    <path d=\"M18.56 5.44l.94 2.06.94-2.06 2.06-.94-2.06-.94-.94-2.06-.94 2.06-2.06.94zm-11 1L8.5 8.5l.94-2.06 2.06-.94-2.06-.94L8.5 2.5l-.94 2.06-2.06.94zm10 10l.94 2.06.94-2.06 2.06-.94-2.06-.94-.94-2.06-.94 2.06-2.06.94z\"/><path d=\"M17.41 7.96l-1.37-1.37c-.4-.4-.92-.59-1.43-.59-.52 0-1.04.2-1.43.59L10.3 9.45l-7.72 7.72c-.78.78-.78 2.05 0 2.83L4 21.41c.39.39.9.59 1.41.59.51 0 1.02-.2 1.41-.59l7.78-7.78 2.81-2.81c.8-.78.8-2.07 0-2.86zM5.41 20L4 18.59l7.72-7.72 1.47 1.35L5.41 20z\"/>\n",
              "  </svg>\n",
              "      </button>\n",
              "      \n",
              "  <style>\n",
              "    .colab-df-container {\n",
              "      display:flex;\n",
              "      flex-wrap:wrap;\n",
              "      gap: 12px;\n",
              "    }\n",
              "\n",
              "    .colab-df-convert {\n",
              "      background-color: #E8F0FE;\n",
              "      border: none;\n",
              "      border-radius: 50%;\n",
              "      cursor: pointer;\n",
              "      display: none;\n",
              "      fill: #1967D2;\n",
              "      height: 32px;\n",
              "      padding: 0 0 0 0;\n",
              "      width: 32px;\n",
              "    }\n",
              "\n",
              "    .colab-df-convert:hover {\n",
              "      background-color: #E2EBFA;\n",
              "      box-shadow: 0px 1px 2px rgba(60, 64, 67, 0.3), 0px 1px 3px 1px rgba(60, 64, 67, 0.15);\n",
              "      fill: #174EA6;\n",
              "    }\n",
              "\n",
              "    [theme=dark] .colab-df-convert {\n",
              "      background-color: #3B4455;\n",
              "      fill: #D2E3FC;\n",
              "    }\n",
              "\n",
              "    [theme=dark] .colab-df-convert:hover {\n",
              "      background-color: #434B5C;\n",
              "      box-shadow: 0px 1px 3px 1px rgba(0, 0, 0, 0.15);\n",
              "      filter: drop-shadow(0px 1px 2px rgba(0, 0, 0, 0.3));\n",
              "      fill: #FFFFFF;\n",
              "    }\n",
              "  </style>\n",
              "\n",
              "      <script>\n",
              "        const buttonEl =\n",
              "          document.querySelector('#df-202932cb-52db-49a9-8e6a-c0a3fdf23259 button.colab-df-convert');\n",
              "        buttonEl.style.display =\n",
              "          google.colab.kernel.accessAllowed ? 'block' : 'none';\n",
              "\n",
              "        async function convertToInteractive(key) {\n",
              "          const element = document.querySelector('#df-202932cb-52db-49a9-8e6a-c0a3fdf23259');\n",
              "          const dataTable =\n",
              "            await google.colab.kernel.invokeFunction('convertToInteractive',\n",
              "                                                     [key], {});\n",
              "          if (!dataTable) return;\n",
              "\n",
              "          const docLinkHtml = 'Like what you see? Visit the ' +\n",
              "            '<a target=\"_blank\" href=https://colab.research.google.com/notebooks/data_table.ipynb>data table notebook</a>'\n",
              "            + ' to learn more about interactive tables.';\n",
              "          element.innerHTML = '';\n",
              "          dataTable['output_type'] = 'display_data';\n",
              "          await google.colab.output.renderOutput(dataTable, element);\n",
              "          const docLink = document.createElement('div');\n",
              "          docLink.innerHTML = docLinkHtml;\n",
              "          element.appendChild(docLink);\n",
              "        }\n",
              "      </script>\n",
              "    </div>\n",
              "  </div>\n",
              "  "
            ]
          },
          "metadata": {},
          "execution_count": 8
        }
      ]
    },
    {
      "cell_type": "code",
      "source": [
        "df_val[['A','B','C','D']] = pd.DataFrame(df_val.Answer.tolist(), index= df_val.index)\n",
        "df_val.head()"
      ],
      "metadata": {
        "colab": {
          "base_uri": "https://localhost:8080/",
          "height": 354
        },
        "id": "rtTyjqZiwsij",
        "outputId": "c5b1a6ce-ba1a-4c30-8711-30c8382c75d5"
      },
      "execution_count": 11,
      "outputs": [
        {
          "output_type": "execute_result",
          "data": {
            "text/plain": [
              "                                            Question  \\\n",
              "0  Frilled sharks and angler fish live far beneat...   \n",
              "1  Gas can fill any container it is given, and li...   \n",
              "2  When birds migrate south for the winter, they ...   \n",
              "3  If a person walks in the opposite direction of...   \n",
              "4         An example of lots kinetic energy would be   \n",
              "\n",
              "                                              Answer Answer Key  \\\n",
              "0  [Deep sea animals, fish, Long Sea Fish, Far Se...          A   \n",
              "1  [is standard weight and size, is the opposite ...          D   \n",
              "2  [they are genetically called to, their childre...          A   \n",
              "3                         [west, north, east, south]          D   \n",
              "4  [Drinking a cold glass of water, A snail movin...          D   \n",
              "\n",
              "                                A                                   B  \\\n",
              "0                Deep sea animals                                fish   \n",
              "1     is standard weight and size         is the opposite of variable   \n",
              "2  they are genetically called to      their children ask for them to   \n",
              "3                            west                               north   \n",
              "4  Drinking a cold glass of water  A snail moving across the sidewalk   \n",
              "\n",
              "                                    C                          D  \n",
              "0                       Long Sea Fish            Far Sea Animals  \n",
              "1                    only needs a few         uses what it needs  \n",
              "2  it is important to their happiness   they decide to each year  \n",
              "3                                east                      south  \n",
              "4     sitting without moving anywhere  An aircraft taking a trip  "
            ],
            "text/html": [
              "\n",
              "  <div id=\"df-1110eb9b-152c-48ac-9066-c1a516dcee5b\">\n",
              "    <div class=\"colab-df-container\">\n",
              "      <div>\n",
              "<style scoped>\n",
              "    .dataframe tbody tr th:only-of-type {\n",
              "        vertical-align: middle;\n",
              "    }\n",
              "\n",
              "    .dataframe tbody tr th {\n",
              "        vertical-align: top;\n",
              "    }\n",
              "\n",
              "    .dataframe thead th {\n",
              "        text-align: right;\n",
              "    }\n",
              "</style>\n",
              "<table border=\"1\" class=\"dataframe\">\n",
              "  <thead>\n",
              "    <tr style=\"text-align: right;\">\n",
              "      <th></th>\n",
              "      <th>Question</th>\n",
              "      <th>Answer</th>\n",
              "      <th>Answer Key</th>\n",
              "      <th>A</th>\n",
              "      <th>B</th>\n",
              "      <th>C</th>\n",
              "      <th>D</th>\n",
              "    </tr>\n",
              "  </thead>\n",
              "  <tbody>\n",
              "    <tr>\n",
              "      <th>0</th>\n",
              "      <td>Frilled sharks and angler fish live far beneat...</td>\n",
              "      <td>[Deep sea animals, fish, Long Sea Fish, Far Se...</td>\n",
              "      <td>A</td>\n",
              "      <td>Deep sea animals</td>\n",
              "      <td>fish</td>\n",
              "      <td>Long Sea Fish</td>\n",
              "      <td>Far Sea Animals</td>\n",
              "    </tr>\n",
              "    <tr>\n",
              "      <th>1</th>\n",
              "      <td>Gas can fill any container it is given, and li...</td>\n",
              "      <td>[is standard weight and size, is the opposite ...</td>\n",
              "      <td>D</td>\n",
              "      <td>is standard weight and size</td>\n",
              "      <td>is the opposite of variable</td>\n",
              "      <td>only needs a few</td>\n",
              "      <td>uses what it needs</td>\n",
              "    </tr>\n",
              "    <tr>\n",
              "      <th>2</th>\n",
              "      <td>When birds migrate south for the winter, they ...</td>\n",
              "      <td>[they are genetically called to, their childre...</td>\n",
              "      <td>A</td>\n",
              "      <td>they are genetically called to</td>\n",
              "      <td>their children ask for them to</td>\n",
              "      <td>it is important to their happiness</td>\n",
              "      <td>they decide to each year</td>\n",
              "    </tr>\n",
              "    <tr>\n",
              "      <th>3</th>\n",
              "      <td>If a person walks in the opposite direction of...</td>\n",
              "      <td>[west, north, east, south]</td>\n",
              "      <td>D</td>\n",
              "      <td>west</td>\n",
              "      <td>north</td>\n",
              "      <td>east</td>\n",
              "      <td>south</td>\n",
              "    </tr>\n",
              "    <tr>\n",
              "      <th>4</th>\n",
              "      <td>An example of lots kinetic energy would be</td>\n",
              "      <td>[Drinking a cold glass of water, A snail movin...</td>\n",
              "      <td>D</td>\n",
              "      <td>Drinking a cold glass of water</td>\n",
              "      <td>A snail moving across the sidewalk</td>\n",
              "      <td>sitting without moving anywhere</td>\n",
              "      <td>An aircraft taking a trip</td>\n",
              "    </tr>\n",
              "  </tbody>\n",
              "</table>\n",
              "</div>\n",
              "      <button class=\"colab-df-convert\" onclick=\"convertToInteractive('df-1110eb9b-152c-48ac-9066-c1a516dcee5b')\"\n",
              "              title=\"Convert this dataframe to an interactive table.\"\n",
              "              style=\"display:none;\">\n",
              "        \n",
              "  <svg xmlns=\"http://www.w3.org/2000/svg\" height=\"24px\"viewBox=\"0 0 24 24\"\n",
              "       width=\"24px\">\n",
              "    <path d=\"M0 0h24v24H0V0z\" fill=\"none\"/>\n",
              "    <path d=\"M18.56 5.44l.94 2.06.94-2.06 2.06-.94-2.06-.94-.94-2.06-.94 2.06-2.06.94zm-11 1L8.5 8.5l.94-2.06 2.06-.94-2.06-.94L8.5 2.5l-.94 2.06-2.06.94zm10 10l.94 2.06.94-2.06 2.06-.94-2.06-.94-.94-2.06-.94 2.06-2.06.94z\"/><path d=\"M17.41 7.96l-1.37-1.37c-.4-.4-.92-.59-1.43-.59-.52 0-1.04.2-1.43.59L10.3 9.45l-7.72 7.72c-.78.78-.78 2.05 0 2.83L4 21.41c.39.39.9.59 1.41.59.51 0 1.02-.2 1.41-.59l7.78-7.78 2.81-2.81c.8-.78.8-2.07 0-2.86zM5.41 20L4 18.59l7.72-7.72 1.47 1.35L5.41 20z\"/>\n",
              "  </svg>\n",
              "      </button>\n",
              "      \n",
              "  <style>\n",
              "    .colab-df-container {\n",
              "      display:flex;\n",
              "      flex-wrap:wrap;\n",
              "      gap: 12px;\n",
              "    }\n",
              "\n",
              "    .colab-df-convert {\n",
              "      background-color: #E8F0FE;\n",
              "      border: none;\n",
              "      border-radius: 50%;\n",
              "      cursor: pointer;\n",
              "      display: none;\n",
              "      fill: #1967D2;\n",
              "      height: 32px;\n",
              "      padding: 0 0 0 0;\n",
              "      width: 32px;\n",
              "    }\n",
              "\n",
              "    .colab-df-convert:hover {\n",
              "      background-color: #E2EBFA;\n",
              "      box-shadow: 0px 1px 2px rgba(60, 64, 67, 0.3), 0px 1px 3px 1px rgba(60, 64, 67, 0.15);\n",
              "      fill: #174EA6;\n",
              "    }\n",
              "\n",
              "    [theme=dark] .colab-df-convert {\n",
              "      background-color: #3B4455;\n",
              "      fill: #D2E3FC;\n",
              "    }\n",
              "\n",
              "    [theme=dark] .colab-df-convert:hover {\n",
              "      background-color: #434B5C;\n",
              "      box-shadow: 0px 1px 3px 1px rgba(0, 0, 0, 0.15);\n",
              "      filter: drop-shadow(0px 1px 2px rgba(0, 0, 0, 0.3));\n",
              "      fill: #FFFFFF;\n",
              "    }\n",
              "  </style>\n",
              "\n",
              "      <script>\n",
              "        const buttonEl =\n",
              "          document.querySelector('#df-1110eb9b-152c-48ac-9066-c1a516dcee5b button.colab-df-convert');\n",
              "        buttonEl.style.display =\n",
              "          google.colab.kernel.accessAllowed ? 'block' : 'none';\n",
              "\n",
              "        async function convertToInteractive(key) {\n",
              "          const element = document.querySelector('#df-1110eb9b-152c-48ac-9066-c1a516dcee5b');\n",
              "          const dataTable =\n",
              "            await google.colab.kernel.invokeFunction('convertToInteractive',\n",
              "                                                     [key], {});\n",
              "          if (!dataTable) return;\n",
              "\n",
              "          const docLinkHtml = 'Like what you see? Visit the ' +\n",
              "            '<a target=\"_blank\" href=https://colab.research.google.com/notebooks/data_table.ipynb>data table notebook</a>'\n",
              "            + ' to learn more about interactive tables.';\n",
              "          element.innerHTML = '';\n",
              "          dataTable['output_type'] = 'display_data';\n",
              "          await google.colab.output.renderOutput(dataTable, element);\n",
              "          const docLink = document.createElement('div');\n",
              "          docLink.innerHTML = docLinkHtml;\n",
              "          element.appendChild(docLink);\n",
              "        }\n",
              "      </script>\n",
              "    </div>\n",
              "  </div>\n",
              "  "
            ]
          },
          "metadata": {},
          "execution_count": 11
        }
      ]
    },
    {
      "cell_type": "code",
      "source": [
        "DATA_DIR = \"/content\"\n",
        "MODEL_DIR = \"/content\"\n",
        "WORD2VEC_BIN = \"GoogleNews-vectors-negative300.bin.gz\"\n",
        "WORD2VEC_EMBED_SIZE = 300\n",
        "\n",
        "QA_TRAIN_FILE = \"train.tsv\"\n",
        "\n",
        "QA_EMBED_SIZE = 64\n",
        "BATCH_SIZE = 32\n",
        "NBR_EPOCHS = 20"
      ],
      "metadata": {
        "id": "oxSOfogRzr35"
      },
      "execution_count": 12,
      "outputs": []
    },
    {
      "cell_type": "code",
      "source": [
        "WORD2VEC_BIN_DIR = \"/content/drive/MyDrive/NLP_Final_Project\""
      ],
      "metadata": {
        "id": "3ntZPn3tz9JV"
      },
      "execution_count": 13,
      "outputs": []
    },
    {
      "cell_type": "code",
      "source": [
        "qapairs = []\n",
        "question_file = os.path.join(DATA_DIR, QA_TRAIN_FILE)\n",
        "question_file"
      ],
      "metadata": {
        "colab": {
          "base_uri": "https://localhost:8080/",
          "height": 36
        },
        "id": "7yl1_Szm045B",
        "outputId": "15c04ec1-ad78-47f7-bf1f-af6b0d82b8ab"
      },
      "execution_count": 14,
      "outputs": [
        {
          "output_type": "execute_result",
          "data": {
            "text/plain": [
              "'/content/train.tsv'"
            ],
            "application/vnd.google.colaboratory.intrinsic+json": {
              "type": "string"
            }
          },
          "metadata": {},
          "execution_count": 14
        }
      ]
    },
    {
      "cell_type": "code",
      "source": [
        "print(\"Loading and formatting data...\")\n",
        "qfapairs = []\n",
        "for i in range(len(df)):\n",
        "  question = df['Question'][i]\n",
        "  qwords = nltk.word_tokenize(question)\n",
        "  correct_ans = df['Answer Key'][i]\n",
        "  answers = df['A'][i]+'@'+df['B'][i]+'@'+df['C'][i]+'@'+df['D'][i]\n",
        "  # training file parsing\n",
        "  correct_ans_idx = ord(correct_ans) - ord('A')\n",
        "  for idx, answer in enumerate(answers.split('@')):\n",
        "    awords = nltk.word_tokenize(answer)\n",
        "    qfapairs.append((qwords, awords, idx == correct_ans_idx))"
      ],
      "metadata": {
        "colab": {
          "base_uri": "https://localhost:8080/"
        },
        "id": "Pd2Udwkm1Hez",
        "outputId": "41ddccd5-23b4-400e-db8b-68d548a6217a"
      },
      "execution_count": 15,
      "outputs": [
        {
          "output_type": "stream",
          "name": "stdout",
          "text": [
            "Loading and formatting data...\n"
          ]
        }
      ]
    },
    {
      "cell_type": "code",
      "source": [
        "qfapairs[0:5]"
      ],
      "metadata": {
        "colab": {
          "base_uri": "https://localhost:8080/"
        },
        "id": "82UsK4xDX3au",
        "outputId": "b53190d8-0afb-45fd-cd70-5594c05bb510"
      },
      "execution_count": 16,
      "outputs": [
        {
          "output_type": "execute_result",
          "data": {
            "text/plain": [
              "[(['The', 'sun', 'is', 'responsible', 'for'],\n",
              "  ['puppies', 'learning', 'new', 'tricks'],\n",
              "  False),\n",
              " (['The', 'sun', 'is', 'responsible', 'for'],\n",
              "  ['children', 'growing', 'up', 'and', 'getting', 'old'],\n",
              "  False),\n",
              " (['The', 'sun', 'is', 'responsible', 'for'],\n",
              "  ['flowers', 'wilting', 'in', 'a', 'vase'],\n",
              "  False),\n",
              " (['The', 'sun', 'is', 'responsible', 'for'],\n",
              "  ['plants', 'sprouting', ',', 'blooming', 'and', 'wilting'],\n",
              "  True),\n",
              " (['When', 'standing', 'miles', 'away', 'from', 'Mount', 'Rushmore'],\n",
              "  ['the', 'mountains', 'seem', 'very', 'close'],\n",
              "  False)]"
            ]
          },
          "metadata": {},
          "execution_count": 16
        }
      ]
    },
    {
      "cell_type": "code",
      "source": [
        "len(qfapairs)"
      ],
      "metadata": {
        "colab": {
          "base_uri": "https://localhost:8080/"
        },
        "id": "6iks9YdJYKUr",
        "outputId": "c4f013ce-bb6a-4f57-b384-fb1c065cdf81"
      },
      "execution_count": 17,
      "outputs": [
        {
          "output_type": "execute_result",
          "data": {
            "text/plain": [
              "19828"
            ]
          },
          "metadata": {},
          "execution_count": 17
        }
      ]
    },
    {
      "cell_type": "code",
      "source": [
        "qfapairs_val = []\n",
        "for j in range(len(df_val)):\n",
        "  question = df_val['Question'][j]\n",
        "  qwords = nltk.word_tokenize(question)\n",
        "  correct_ans = df_val['Answer Key'][j]\n",
        "  answers = df_val['A'][j]+'@'+df_val['B'][j]+'@'+df_val['C'][j]+'@'+df_val['D'][j]\n",
        "  # training file parsing\n",
        "  correct_ans_idx = ord(correct_ans) - ord('A')\n",
        "  for idx, answer in enumerate(answers.split('@')):\n",
        "    awords = nltk.word_tokenize(answer)\n",
        "    qfapairs_val.append((qwords, awords, idx == correct_ans_idx))"
      ],
      "metadata": {
        "id": "aV1f8atlw010"
      },
      "execution_count": 18,
      "outputs": []
    },
    {
      "cell_type": "code",
      "source": [
        "qfapairs_val[0:5]"
      ],
      "metadata": {
        "colab": {
          "base_uri": "https://localhost:8080/"
        },
        "id": "uwowcWT1YbjT",
        "outputId": "48779962-8ae4-4a25-89ed-e70f1d022f63"
      },
      "execution_count": 19,
      "outputs": [
        {
          "output_type": "execute_result",
          "data": {
            "text/plain": [
              "[(['Frilled',\n",
              "   'sharks',\n",
              "   'and',\n",
              "   'angler',\n",
              "   'fish',\n",
              "   'live',\n",
              "   'far',\n",
              "   'beneath',\n",
              "   'the',\n",
              "   'surface',\n",
              "   'of',\n",
              "   'the',\n",
              "   'ocean',\n",
              "   ',',\n",
              "   'which',\n",
              "   'is',\n",
              "   'why',\n",
              "   'they',\n",
              "   'are',\n",
              "   'known',\n",
              "   'as'],\n",
              "  ['Deep', 'sea', 'animals'],\n",
              "  True),\n",
              " (['Frilled',\n",
              "   'sharks',\n",
              "   'and',\n",
              "   'angler',\n",
              "   'fish',\n",
              "   'live',\n",
              "   'far',\n",
              "   'beneath',\n",
              "   'the',\n",
              "   'surface',\n",
              "   'of',\n",
              "   'the',\n",
              "   'ocean',\n",
              "   ',',\n",
              "   'which',\n",
              "   'is',\n",
              "   'why',\n",
              "   'they',\n",
              "   'are',\n",
              "   'known',\n",
              "   'as'],\n",
              "  ['fish'],\n",
              "  False),\n",
              " (['Frilled',\n",
              "   'sharks',\n",
              "   'and',\n",
              "   'angler',\n",
              "   'fish',\n",
              "   'live',\n",
              "   'far',\n",
              "   'beneath',\n",
              "   'the',\n",
              "   'surface',\n",
              "   'of',\n",
              "   'the',\n",
              "   'ocean',\n",
              "   ',',\n",
              "   'which',\n",
              "   'is',\n",
              "   'why',\n",
              "   'they',\n",
              "   'are',\n",
              "   'known',\n",
              "   'as'],\n",
              "  ['Long', 'Sea', 'Fish'],\n",
              "  False),\n",
              " (['Frilled',\n",
              "   'sharks',\n",
              "   'and',\n",
              "   'angler',\n",
              "   'fish',\n",
              "   'live',\n",
              "   'far',\n",
              "   'beneath',\n",
              "   'the',\n",
              "   'surface',\n",
              "   'of',\n",
              "   'the',\n",
              "   'ocean',\n",
              "   ',',\n",
              "   'which',\n",
              "   'is',\n",
              "   'why',\n",
              "   'they',\n",
              "   'are',\n",
              "   'known',\n",
              "   'as'],\n",
              "  ['Far', 'Sea', 'Animals'],\n",
              "  False),\n",
              " (['Gas',\n",
              "   'can',\n",
              "   'fill',\n",
              "   'any',\n",
              "   'container',\n",
              "   'it',\n",
              "   'is',\n",
              "   'given',\n",
              "   ',',\n",
              "   'and',\n",
              "   'liquid'],\n",
              "  ['is', 'standard', 'weight', 'and', 'size'],\n",
              "  False)]"
            ]
          },
          "metadata": {},
          "execution_count": 19
        }
      ]
    },
    {
      "cell_type": "code",
      "source": [
        "len(qfapairs_val)"
      ],
      "metadata": {
        "colab": {
          "base_uri": "https://localhost:8080/"
        },
        "id": "I14PU5IBYeQu",
        "outputId": "246de555-b6ce-4321-cd6e-7ecf06ba46fe"
      },
      "execution_count": 20,
      "outputs": [
        {
          "output_type": "execute_result",
          "data": {
            "text/plain": [
              "2000"
            ]
          },
          "metadata": {},
          "execution_count": 20
        }
      ]
    },
    {
      "cell_type": "code",
      "source": [
        "question_maxlen = max([len(qapair[0]) for qapair in qfapairs])\n",
        "answer_maxlen = max([len(qapair[1]) for qapair in qfapairs])\n",
        "seq_maxlen = max([question_maxlen, answer_maxlen])\n",
        "print(question_maxlen, answer_maxlen, seq_maxlen)"
      ],
      "metadata": {
        "colab": {
          "base_uri": "https://localhost:8080/"
        },
        "id": "_C_AiOzH6c5K",
        "outputId": "7586b90d-d3dd-4868-c6ad-c5c1e4b7c21c"
      },
      "execution_count": 21,
      "outputs": [
        {
          "output_type": "stream",
          "name": "stdout",
          "text": [
            "76 23 76\n"
          ]
        }
      ]
    },
    {
      "cell_type": "code",
      "source": [
        "question_maxlen_val = max([len(qapair[0]) for qapair in qfapairs_val])\n",
        "answer_maxlen_val = max([len(qapair[1]) for qapair in qfapairs_val])\n",
        "seq_maxlen_val = max([question_maxlen_val, answer_maxlen_val])\n",
        "print(question_maxlen_val, answer_maxlen_val, seq_maxlen_val)"
      ],
      "metadata": {
        "colab": {
          "base_uri": "https://localhost:8080/"
        },
        "id": "MYqH9WLQw3RS",
        "outputId": "e29a9699-cb2f-484e-93e1-81dc5fcae087"
      },
      "execution_count": 22,
      "outputs": [
        {
          "output_type": "stream",
          "name": "stdout",
          "text": [
            "62 20 62\n"
          ]
        }
      ]
    },
    {
      "cell_type": "code",
      "source": [
        "def build_vocab(stories, qapairs, testqs):\n",
        "    wordcounts = collections.Counter()\n",
        "    for story in stories:\n",
        "        for sword in story:\n",
        "            wordcounts[sword] += 1\n",
        "    for qapair in qapairs:\n",
        "        for qword in qapair[0]:\n",
        "            wordcounts[qword] += 1\n",
        "        for aword in qapair[1]:\n",
        "            wordcounts[aword] += 1\n",
        "    for testq in testqs:\n",
        "        for qword in testq[0]:\n",
        "            wordcounts[qword] += 1\n",
        "        for aword in testq[1]:\n",
        "            wordcounts[aword] += 1\n",
        "    words = [wordcount[0] for wordcount in wordcounts.most_common()]\n",
        "    word2idx = {w: i+1 for i, w in enumerate(words)}  # 0 = mask\n",
        "    return word2idx"
      ],
      "metadata": {
        "id": "-KHNGpJ66c2o"
      },
      "execution_count": 23,
      "outputs": []
    },
    {
      "cell_type": "code",
      "source": [
        "word2idx = build_vocab([], qfapairs, [])\n",
        "vocab_size = len(word2idx) + 1 # include mask character 0"
      ],
      "metadata": {
        "id": "SQL8kHtm6czi"
      },
      "execution_count": 24,
      "outputs": []
    },
    {
      "cell_type": "code",
      "source": [
        "word2idx_val = build_vocab([], qfapairs_val, [])"
      ],
      "metadata": {
        "id": "ASmN_22xw7xv"
      },
      "execution_count": 25,
      "outputs": []
    },
    {
      "cell_type": "code",
      "source": [
        "qfapairs[0:2]"
      ],
      "metadata": {
        "colab": {
          "base_uri": "https://localhost:8080/"
        },
        "id": "eI_JDDduE1Vh",
        "outputId": "fe0879fc-8f9f-4176-d657-066cae3e8035"
      },
      "execution_count": 26,
      "outputs": [
        {
          "output_type": "execute_result",
          "data": {
            "text/plain": [
              "[(['The', 'sun', 'is', 'responsible', 'for'],\n",
              "  ['puppies', 'learning', 'new', 'tricks'],\n",
              "  False),\n",
              " (['The', 'sun', 'is', 'responsible', 'for'],\n",
              "  ['children', 'growing', 'up', 'and', 'getting', 'old'],\n",
              "  False)]"
            ]
          },
          "metadata": {},
          "execution_count": 26
        }
      ]
    },
    {
      "cell_type": "code",
      "source": [
        "def vectorize_qapairs(qfapairs, word2idx, seq_maxlen):\n",
        "    Xq, Xf, Xa, Y = [], [], [], []\n",
        "    for qapair in qfapairs:\n",
        "        Xq.append([word2idx[qword] for qword in qapair[0]])\n",
        "        Xa.append([word2idx[aword] for aword in qapair[1]])\n",
        "        Y.append(np.array([1, 0]) if qapair[2] else np.array([0, 1]))\n",
        "    return (pad_sequences(Xq, maxlen=seq_maxlen), \n",
        "            pad_sequences(Xa, maxlen=seq_maxlen),\n",
        "            np.array(Y))"
      ],
      "metadata": {
        "id": "zpp8cn4l6cts"
      },
      "execution_count": 27,
      "outputs": []
    },
    {
      "cell_type": "code",
      "source": [
        "word2idx['puppies']"
      ],
      "metadata": {
        "colab": {
          "base_uri": "https://localhost:8080/"
        },
        "id": "E_Di6MsaJ1gp",
        "outputId": "82136d89-f3c9-461a-ec0f-baff466c1ef9"
      },
      "execution_count": 28,
      "outputs": [
        {
          "output_type": "execute_result",
          "data": {
            "text/plain": [
              "3991"
            ]
          },
          "metadata": {},
          "execution_count": 28
        }
      ]
    },
    {
      "cell_type": "code",
      "source": [
        "Xqtrain, Xatrain, Ytrain = vectorize_qapairs(qfapairs, word2idx, seq_maxlen)\n",
        "Xqval, Xaval, Yval = vectorize_qapairs(qfapairs_val, word2idx_val, seq_maxlen)\n",
        "print(Xqtrain.shape, Xqval.shape, Xatrain.shape, Xaval.shape, \n",
        "      Ytrain.shape, Yval.shape)"
      ],
      "metadata": {
        "colab": {
          "base_uri": "https://localhost:8080/"
        },
        "id": "S8cuQryo77OQ",
        "outputId": "312c850a-f3be-4fac-b46e-30b0ed6a3a44"
      },
      "execution_count": 29,
      "outputs": [
        {
          "output_type": "stream",
          "name": "stdout",
          "text": [
            "(19828, 76) (2000, 76) (19828, 76) (2000, 76) (19828, 2) (2000, 2)\n"
          ]
        }
      ]
    },
    {
      "cell_type": "code",
      "source": [
        "Ytrain[5000:5003]"
      ],
      "metadata": {
        "colab": {
          "base_uri": "https://localhost:8080/"
        },
        "id": "2fUwZDP4dHnb",
        "outputId": "496c4b51-4bc8-46d2-d016-36524bbc6cc2"
      },
      "execution_count": null,
      "outputs": [
        {
          "output_type": "execute_result",
          "data": {
            "text/plain": [
              "array([[1, 0],\n",
              "       [0, 1],\n",
              "       [0, 1]])"
            ]
          },
          "metadata": {},
          "execution_count": 26
        }
      ]
    },
    {
      "cell_type": "code",
      "source": [
        "np.unique(Ytrain)"
      ],
      "metadata": {
        "colab": {
          "base_uri": "https://localhost:8080/"
        },
        "id": "UVt2hIk0lX2C",
        "outputId": "2706d4fd-7b26-404b-ff92-411fa6c17419"
      },
      "execution_count": null,
      "outputs": [
        {
          "output_type": "execute_result",
          "data": {
            "text/plain": [
              "array([0, 1])"
            ]
          },
          "metadata": {},
          "execution_count": 27
        }
      ]
    },
    {
      "cell_type": "code",
      "source": [
        "Ytrain_flat = np.argmax(Ytrain, axis=1)\n",
        "Ytrain_flat.shape"
      ],
      "metadata": {
        "colab": {
          "base_uri": "https://localhost:8080/"
        },
        "id": "LSG3iGqvm03-",
        "outputId": "89667a37-a1ed-4f9e-b09d-fcfb84623b7a"
      },
      "execution_count": 30,
      "outputs": [
        {
          "output_type": "execute_result",
          "data": {
            "text/plain": [
              "(19828,)"
            ]
          },
          "metadata": {},
          "execution_count": 30
        }
      ]
    },
    {
      "cell_type": "code",
      "source": [
        "Ytrain_flat[5000:5003]"
      ],
      "metadata": {
        "colab": {
          "base_uri": "https://localhost:8080/"
        },
        "id": "2qWSR0SAm8R5",
        "outputId": "fcabc9e1-db0d-48bc-a9fb-9e38d0a739b8"
      },
      "execution_count": 31,
      "outputs": [
        {
          "output_type": "execute_result",
          "data": {
            "text/plain": [
              "array([0, 1, 1])"
            ]
          },
          "metadata": {},
          "execution_count": 31
        }
      ]
    },
    {
      "cell_type": "code",
      "source": [
        "qa_class_weights = class_weight.compute_class_weight(class_weight='balanced', classes=np.unique(Ytrain_flat), y=Ytrain_flat)\n",
        "qa_class_weights"
      ],
      "metadata": {
        "colab": {
          "base_uri": "https://localhost:8080/"
        },
        "id": "9xnt1HL6kl6b",
        "outputId": "53fbdbc8-d4cf-45b3-99fd-12dbfe005997"
      },
      "execution_count": 32,
      "outputs": [
        {
          "output_type": "execute_result",
          "data": {
            "text/plain": [
              "array([2.        , 0.66666667])"
            ]
          },
          "metadata": {},
          "execution_count": 32
        }
      ]
    },
    {
      "cell_type": "code",
      "source": [
        "qa_class_weights_dict = dict(zip(np.unique(Ytrain_flat), qa_class_weights))\n",
        "qa_class_weights_dict"
      ],
      "metadata": {
        "colab": {
          "base_uri": "https://localhost:8080/"
        },
        "id": "nvNWgUFynozY",
        "outputId": "6a228876-6549-4214-b960-d984d8cb9945"
      },
      "execution_count": 33,
      "outputs": [
        {
          "output_type": "execute_result",
          "data": {
            "text/plain": [
              "{0: 2.0, 1: 0.6666666666666666}"
            ]
          },
          "metadata": {},
          "execution_count": 33
        }
      ]
    },
    {
      "cell_type": "code",
      "source": [
        "from sklearn import preprocessing"
      ],
      "metadata": {
        "id": "Pu7z-gfhIIfO"
      },
      "execution_count": 34,
      "outputs": []
    },
    {
      "cell_type": "code",
      "source": [
        "scaler_q = preprocessing.StandardScaler().fit(Xqtrain)\n",
        "Xqtrain_scaled = scaler_q.transform(Xqtrain)\n",
        "Xqval_scaled = scaler_q.transform(Xqval)"
      ],
      "metadata": {
        "id": "Rl7zO-aoIJPr"
      },
      "execution_count": 35,
      "outputs": []
    },
    {
      "cell_type": "code",
      "source": [
        "scaler_a = preprocessing.StandardScaler().fit(Xatrain)\n",
        "Xatrain_scaled = scaler_a.transform(Xatrain)\n",
        "Xaval_scaled = scaler_a.transform(Xaval)"
      ],
      "metadata": {
        "id": "J1K4IzhIJN9n"
      },
      "execution_count": 36,
      "outputs": []
    },
    {
      "cell_type": "code",
      "source": [
        "Xaval_scaled[0]"
      ],
      "metadata": {
        "colab": {
          "base_uri": "https://localhost:8080/"
        },
        "id": "wanFCyVPIJjr",
        "outputId": "127d7c30-808a-4902-a01b-6a1e3785f97b"
      },
      "execution_count": 37,
      "outputs": [
        {
          "output_type": "execute_result",
          "data": {
            "text/plain": [
              "array([ 0.        ,  0.        ,  0.        ,  0.        ,  0.        ,\n",
              "        0.        ,  0.        ,  0.        ,  0.        ,  0.        ,\n",
              "        0.        ,  0.        ,  0.        ,  0.        ,  0.        ,\n",
              "        0.        ,  0.        ,  0.        ,  0.        ,  0.        ,\n",
              "        0.        ,  0.        ,  0.        ,  0.        ,  0.        ,\n",
              "        0.        ,  0.        ,  0.        ,  0.        ,  0.        ,\n",
              "        0.        ,  0.        ,  0.        ,  0.        ,  0.        ,\n",
              "        0.        ,  0.        ,  0.        ,  0.        ,  0.        ,\n",
              "        0.        ,  0.        ,  0.        ,  0.        ,  0.        ,\n",
              "        0.        ,  0.        ,  0.        ,  0.        ,  0.        ,\n",
              "        0.        ,  0.        ,  0.        , -0.00710185, -0.00710185,\n",
              "       -0.01529568, -0.00712752, -0.01513855, -0.01408964, -0.0112724 ,\n",
              "       -0.01635382, -0.01282065, -0.01597278, -0.02659753, -0.03056932,\n",
              "       -0.04035629, -0.05115299, -0.07355511, -0.07915404, -0.11870201,\n",
              "       -0.1498763 , -0.19134102, -0.25395569,  0.90702557, -0.25596046,\n",
              "       -0.81839071])"
            ]
          },
          "metadata": {},
          "execution_count": 37
        }
      ]
    },
    {
      "cell_type": "code",
      "source": [
        "print(\"Loading Word2Vec model and generating embedding matrix...\")\n",
        "word2vec = gensim.models.KeyedVectors.load_word2vec_format(\n",
        "    os.path.join(WORD2VEC_BIN_DIR, WORD2VEC_BIN), binary=True)\n",
        "embedding_weights = np.zeros((vocab_size, WORD2VEC_EMBED_SIZE))\n",
        "for word, index in word2idx.items():\n",
        "    try:\n",
        "        embedding_weights[index, :] = word2vec[word.lower()]\n",
        "    except KeyError:\n",
        "        pass"
      ],
      "metadata": {
        "colab": {
          "base_uri": "https://localhost:8080/"
        },
        "id": "NzkMVFQA77Lu",
        "outputId": "d2a3895c-14d9-4709-e8f4-49c1bd70a463"
      },
      "execution_count": 38,
      "outputs": [
        {
          "output_type": "stream",
          "name": "stdout",
          "text": [
            "Loading Word2Vec model and generating embedding matrix...\n"
          ]
        }
      ]
    },
    {
      "cell_type": "code",
      "source": [
        "QA_EMBED_SIZE = 16\n",
        "NBR_EPOCHS = 40"
      ],
      "metadata": {
        "id": "vXA2mBtcFM4T"
      },
      "execution_count": 39,
      "outputs": []
    },
    {
      "cell_type": "code",
      "source": [
        "print(\"Building model...\")\n",
        "qenc = Sequential()\n",
        "qenc.add(Embedding(output_dim=WORD2VEC_EMBED_SIZE, input_dim=vocab_size,\n",
        "                   input_length=seq_maxlen, weights=[embedding_weights]))\n",
        "qenc.add(LSTM(QA_EMBED_SIZE, return_sequences=True))\n",
        "qenc.add(Dropout(0.4))\n",
        "\n",
        "aenc = Sequential()\n",
        "aenc.add(Embedding(output_dim=WORD2VEC_EMBED_SIZE, input_dim=vocab_size,\n",
        "                   input_length=seq_maxlen,\n",
        "                   weights=[embedding_weights]))\n",
        "aenc.add(LSTM(QA_EMBED_SIZE, return_sequences=True))\n",
        "aenc.add(Dropout(0.4))\n",
        "\n",
        "# attention model\n",
        "attn = Sequential()\n",
        "attn.add(Merge([qenc, aenc], mode=\"dot\", dot_axes=[1, 1]))\n",
        "attn.add(Flatten())\n",
        "attn.add(Dense((seq_maxlen * QA_EMBED_SIZE)))\n",
        "attn.add(Reshape((seq_maxlen, QA_EMBED_SIZE)))\n",
        "\n",
        "model = Sequential()\n",
        "model.add(Merge([qenc, attn], mode=\"sum\"))\n",
        "model.add(Flatten())\n",
        "model.add(Dense(2, activation=\"softmax\"))\n",
        "\n",
        "model.compile(optimizer=\"adam\", loss=\"categorical_crossentropy\",\n",
        "              metrics=[\"accuracy\"])"
      ],
      "metadata": {
        "colab": {
          "base_uri": "https://localhost:8080/"
        },
        "id": "X6KAQiUr77I3",
        "outputId": "eaa288b8-8c10-4b85-cdb7-e4cca0e9786a"
      },
      "execution_count": 41,
      "outputs": [
        {
          "output_type": "stream",
          "name": "stdout",
          "text": [
            "Building model...\n"
          ]
        }
      ]
    },
    {
      "cell_type": "code",
      "source": [
        "model.summary()"
      ],
      "metadata": {
        "colab": {
          "base_uri": "https://localhost:8080/"
        },
        "id": "IAWkUt9Mz0a6",
        "outputId": "b0f930cc-5861-45ea-8edd-39abd33b82dd"
      },
      "execution_count": 42,
      "outputs": [
        {
          "output_type": "stream",
          "name": "stdout",
          "text": [
            "____________________________________________________________________________________________________\n",
            "Layer (type)                     Output Shape          Param #     Connected to                     \n",
            "====================================================================================================\n",
            "embedding_4 (Embedding)          (None, 76, 300)       3405300                                      \n",
            "____________________________________________________________________________________________________\n",
            "lstm_4 (LSTM)                    (None, 76, 16)        20288                                        \n",
            "____________________________________________________________________________________________________\n",
            "dropout_4 (Dropout)              (None, 76, 16)        0                                            \n",
            "____________________________________________________________________________________________________\n",
            "embedding_5 (Embedding)          (None, 76, 300)       3405300                                      \n",
            "____________________________________________________________________________________________________\n",
            "lstm_5 (LSTM)                    (None, 76, 16)        20288                                        \n",
            "____________________________________________________________________________________________________\n",
            "dropout_5 (Dropout)              (None, 76, 16)        0                                            \n",
            "____________________________________________________________________________________________________\n",
            "flatten_4 (Flatten)              (None, 256)           0                                            \n",
            "____________________________________________________________________________________________________\n",
            "dense_4 (Dense)                  (None, 1216)          312512                                       \n",
            "____________________________________________________________________________________________________\n",
            "reshape_3 (Reshape)              (None, 76, 16)        0                                            \n",
            "____________________________________________________________________________________________________\n",
            "flatten_5 (Flatten)              (None, 1216)          0           merge_5[0][0]                    \n",
            "____________________________________________________________________________________________________\n",
            "dense_5 (Dense)                  (None, 2)             2434        flatten_5[0][0]                  \n",
            "====================================================================================================\n",
            "Total params: 7,166,122\n",
            "Trainable params: 7,166,122\n",
            "Non-trainable params: 0\n",
            "____________________________________________________________________________________________________\n"
          ]
        }
      ]
    },
    {
      "cell_type": "code",
      "source": [
        "model_checkpoint = ModelCheckpoint(\n",
        "    filepath=os.path.join(MODEL_DIR, \"qa-lstm-attn-best-qaWithFact.hdf5\"),\n",
        "    verbose=1, save_best_only=True)\n",
        "early_stopping_callback = EarlyStopping(monitor='val_loss', patience=8)\n",
        "reduce_lr_callback = ReduceLROnPlateau(monitor='val_loss', factor=0.2, patience=3, verbose=1, min_lr=1e-8)\n",
        "qa_callbacks = [model_checkpoint, early_stopping_callback, reduce_lr_callback]"
      ],
      "metadata": {
        "id": "pMZFRxAgsXla"
      },
      "execution_count": 43,
      "outputs": []
    },
    {
      "cell_type": "code",
      "source": [
        "print(\"Training...\")\n",
        "model_history = model.fit([Xqtrain_scaled, Xatrain_scaled], Ytrain, batch_size=BATCH_SIZE,\n",
        "          nb_epoch=NBR_EPOCHS, validation_data=([Xqval_scaled, Xaval_scaled], Yval),\n",
        "          callbacks=qa_callbacks, class_weight=qa_class_weights_dict)"
      ],
      "metadata": {
        "colab": {
          "base_uri": "https://localhost:8080/"
        },
        "id": "MFSjVVuCKyxO",
        "outputId": "fffac815-51b3-4f30-f9a1-6101ed6c4c6e"
      },
      "execution_count": 44,
      "outputs": [
        {
          "output_type": "stream",
          "name": "stdout",
          "text": [
            "Training...\n",
            "WARNING:tensorflow:From /usr/local/lib/python3.7/dist-packages/tensorflow_core/python/ops/math_grad.py:1424: where (from tensorflow.python.ops.array_ops) is deprecated and will be removed in a future version.\n",
            "Instructions for updating:\n",
            "Use tf.where in 2.0, which has the same broadcast rule as np.where\n",
            "WARNING:tensorflow:From /usr/local/lib/python3.7/dist-packages/keras/backend/tensorflow_backend.py:740: The name tf.assign_add is deprecated. Please use tf.compat.v1.assign_add instead.\n",
            "\n",
            "WARNING:tensorflow:From /usr/local/lib/python3.7/dist-packages/keras/backend/tensorflow_backend.py:736: The name tf.assign is deprecated. Please use tf.compat.v1.assign instead.\n",
            "\n",
            "Train on 19828 samples, validate on 2000 samples\n",
            "Epoch 1/40\n",
            "19808/19828 [============================>.] - ETA: 0s - loss: 0.6953 - acc: 0.4870Epoch 00000: val_loss improved from inf to 0.69997, saving model to /content/qa-lstm-attn-best-qaWithFact.hdf5\n",
            "19828/19828 [==============================] - 93s - loss: 0.6953 - acc: 0.4869 - val_loss: 0.7000 - val_acc: 0.2495\n",
            "Epoch 2/40\n",
            "19808/19828 [============================>.] - ETA: 0s - loss: 0.6928 - acc: 0.5373Epoch 00001: val_loss improved from 0.69997 to 0.68884, saving model to /content/qa-lstm-attn-best-qaWithFact.hdf5\n",
            "19828/19828 [==============================] - 91s - loss: 0.6928 - acc: 0.5373 - val_loss: 0.6888 - val_acc: 0.6540\n",
            "Epoch 3/40\n",
            "19808/19828 [============================>.] - ETA: 0s - loss: 0.6896 - acc: 0.5703Epoch 00002: val_loss improved from 0.68884 to 0.67377, saving model to /content/qa-lstm-attn-best-qaWithFact.hdf5\n",
            "19828/19828 [==============================] - 90s - loss: 0.6895 - acc: 0.5705 - val_loss: 0.6738 - val_acc: 0.6560\n",
            "Epoch 4/40\n",
            "19808/19828 [============================>.] - ETA: 0s - loss: 0.6866 - acc: 0.6126Epoch 00003: val_loss did not improve\n",
            "19828/19828 [==============================] - 90s - loss: 0.6866 - acc: 0.6123 - val_loss: 0.7046 - val_acc: 0.2530\n",
            "Epoch 5/40\n",
            "19808/19828 [============================>.] - ETA: 0s - loss: 0.6853 - acc: 0.6143Epoch 00004: val_loss did not improve\n",
            "19828/19828 [==============================] - 90s - loss: 0.6853 - acc: 0.6143 - val_loss: 0.6918 - val_acc: 0.6525\n",
            "Epoch 6/40\n",
            "19808/19828 [============================>.] - ETA: 0s - loss: 0.6857 - acc: 0.6142Epoch 00005: val_loss did not improve\n",
            "19828/19828 [==============================] - 90s - loss: 0.6857 - acc: 0.6143 - val_loss: 0.6974 - val_acc: 0.6525\n",
            "Epoch 7/40\n",
            "19808/19828 [============================>.] - ETA: 0s - loss: 0.6840 - acc: 0.6208Epoch 00006: val_loss improved from 0.67377 to 0.66110, saving model to /content/qa-lstm-attn-best-qaWithFact.hdf5\n",
            "19828/19828 [==============================] - 90s - loss: 0.6840 - acc: 0.6208 - val_loss: 0.6611 - val_acc: 0.6530\n",
            "Epoch 8/40\n",
            "19808/19828 [============================>.] - ETA: 0s - loss: 0.6842 - acc: 0.6128Epoch 00007: val_loss did not improve\n",
            "19828/19828 [==============================] - 91s - loss: 0.6843 - acc: 0.6129 - val_loss: 0.6882 - val_acc: 0.6525\n",
            "Epoch 9/40\n",
            "19808/19828 [============================>.] - ETA: 0s - loss: 0.6829 - acc: 0.6242Epoch 00008: val_loss did not improve\n",
            "19828/19828 [==============================] - 90s - loss: 0.6829 - acc: 0.6243 - val_loss: 0.6982 - val_acc: 0.6525\n",
            "Epoch 10/40\n",
            "19808/19828 [============================>.] - ETA: 0s - loss: 0.6831 - acc: 0.6329Epoch 00009: val_loss did not improve\n",
            "19828/19828 [==============================] - 90s - loss: 0.6831 - acc: 0.6329 - val_loss: 0.6770 - val_acc: 0.6530\n",
            "Epoch 11/40\n",
            "19808/19828 [============================>.] - ETA: 0s - loss: 0.6827 - acc: 0.6293Epoch 00010: val_loss did not improve\n",
            "\n",
            "Epoch 00010: reducing learning rate to 0.00020000000949949026.\n",
            "19828/19828 [==============================] - 91s - loss: 0.6827 - acc: 0.6295 - val_loss: 0.6700 - val_acc: 0.6525\n",
            "Epoch 12/40\n",
            "19808/19828 [============================>.] - ETA: 0s - loss: 0.6805 - acc: 0.6318Epoch 00011: val_loss did not improve\n",
            "19828/19828 [==============================] - 91s - loss: 0.6805 - acc: 0.6317 - val_loss: 0.6636 - val_acc: 0.6525\n",
            "Epoch 13/40\n",
            "19808/19828 [============================>.] - ETA: 0s - loss: 0.6806 - acc: 0.6300Epoch 00012: val_loss did not improve\n",
            "19828/19828 [==============================] - 90s - loss: 0.6806 - acc: 0.6300 - val_loss: 0.6683 - val_acc: 0.6525\n",
            "Epoch 14/40\n",
            "19808/19828 [============================>.] - ETA: 0s - loss: 0.6797 - acc: 0.6343Epoch 00013: val_loss improved from 0.66110 to 0.65922, saving model to /content/qa-lstm-attn-best-qaWithFact.hdf5\n",
            "19828/19828 [==============================] - 91s - loss: 0.6797 - acc: 0.6343 - val_loss: 0.6592 - val_acc: 0.6525\n",
            "Epoch 15/40\n",
            "19808/19828 [============================>.] - ETA: 0s - loss: 0.6795 - acc: 0.6322Epoch 00014: val_loss did not improve\n",
            "19828/19828 [==============================] - 91s - loss: 0.6794 - acc: 0.6323 - val_loss: 0.6681 - val_acc: 0.6525\n",
            "Epoch 16/40\n",
            "19808/19828 [============================>.] - ETA: 0s - loss: 0.6799 - acc: 0.6292Epoch 00015: val_loss improved from 0.65922 to 0.65175, saving model to /content/qa-lstm-attn-best-qaWithFact.hdf5\n",
            "19828/19828 [==============================] - 91s - loss: 0.6798 - acc: 0.6292 - val_loss: 0.6518 - val_acc: 0.6540\n",
            "Epoch 17/40\n",
            "19808/19828 [============================>.] - ETA: 0s - loss: 0.6792 - acc: 0.6294Epoch 00016: val_loss did not improve\n",
            "19828/19828 [==============================] - 90s - loss: 0.6793 - acc: 0.6293 - val_loss: 0.6520 - val_acc: 0.6540\n",
            "Epoch 18/40\n",
            "19808/19828 [============================>.] - ETA: 0s - loss: 0.6798 - acc: 0.6301Epoch 00017: val_loss did not improve\n",
            "19828/19828 [==============================] - 91s - loss: 0.6799 - acc: 0.6300 - val_loss: 0.6625 - val_acc: 0.6525\n",
            "Epoch 19/40\n",
            "19808/19828 [============================>.] - ETA: 0s - loss: 0.6799 - acc: 0.6286Epoch 00018: val_loss did not improve\n",
            "19828/19828 [==============================] - 90s - loss: 0.6798 - acc: 0.6287 - val_loss: 0.6638 - val_acc: 0.6535\n",
            "Epoch 20/40\n",
            "19808/19828 [============================>.] - ETA: 0s - loss: 0.6791 - acc: 0.6306Epoch 00019: val_loss did not improve\n",
            "\n",
            "Epoch 00019: reducing learning rate to 4.0000001899898055e-05.\n",
            "19828/19828 [==============================] - 90s - loss: 0.6791 - acc: 0.6306 - val_loss: 0.6635 - val_acc: 0.6525\n",
            "Epoch 21/40\n",
            "19808/19828 [============================>.] - ETA: 0s - loss: 0.6794 - acc: 0.6294Epoch 00020: val_loss did not improve\n",
            "19828/19828 [==============================] - 90s - loss: 0.6792 - acc: 0.6296 - val_loss: 0.6662 - val_acc: 0.6525\n",
            "Epoch 22/40\n",
            "19808/19828 [============================>.] - ETA: 0s - loss: 0.6793 - acc: 0.6289Epoch 00021: val_loss did not improve\n",
            "19828/19828 [==============================] - 91s - loss: 0.6793 - acc: 0.6287 - val_loss: 0.6650 - val_acc: 0.6525\n",
            "Epoch 23/40\n",
            "19808/19828 [============================>.] - ETA: 0s - loss: 0.6787 - acc: 0.6275Epoch 00022: val_loss did not improve\n",
            "\n",
            "Epoch 00022: reducing learning rate to 8.000000525498762e-06.\n",
            "19828/19828 [==============================] - 91s - loss: 0.6789 - acc: 0.6274 - val_loss: 0.6563 - val_acc: 0.6540\n",
            "Epoch 24/40\n",
            "19808/19828 [============================>.] - ETA: 0s - loss: 0.6787 - acc: 0.6350Epoch 00023: val_loss did not improve\n",
            "19828/19828 [==============================] - 91s - loss: 0.6788 - acc: 0.6351 - val_loss: 0.6579 - val_acc: 0.6540\n",
            "Epoch 25/40\n",
            "19808/19828 [============================>.] - ETA: 0s - loss: 0.6788 - acc: 0.6321Epoch 00024: val_loss did not improve\n",
            "19828/19828 [==============================] - 91s - loss: 0.6788 - acc: 0.6322 - val_loss: 0.6595 - val_acc: 0.6540\n"
          ]
        }
      ]
    },
    {
      "cell_type": "code",
      "source": [
        "from google.colab import files\n",
        "files.download('/content/qa-lstm-attn-best-qaWithFact.hdf5')"
      ],
      "metadata": {
        "colab": {
          "base_uri": "https://localhost:8080/",
          "height": 34
        },
        "id": "mmTmc3IKPxBU",
        "outputId": "737b989a-584b-4074-e836-306a5ea18f05"
      },
      "execution_count": null,
      "outputs": [
        {
          "output_type": "display_data",
          "data": {
            "application/javascript": [
              "\n",
              "    async function download(id, filename, size) {\n",
              "      if (!google.colab.kernel.accessAllowed) {\n",
              "        return;\n",
              "      }\n",
              "      const div = document.createElement('div');\n",
              "      const label = document.createElement('label');\n",
              "      label.textContent = `Downloading \"${filename}\": `;\n",
              "      div.appendChild(label);\n",
              "      const progress = document.createElement('progress');\n",
              "      progress.max = size;\n",
              "      div.appendChild(progress);\n",
              "      document.body.appendChild(div);\n",
              "\n",
              "      const buffers = [];\n",
              "      let downloaded = 0;\n",
              "\n",
              "      const channel = await google.colab.kernel.comms.open(id);\n",
              "      // Send a message to notify the kernel that we're ready.\n",
              "      channel.send({})\n",
              "\n",
              "      for await (const message of channel.messages) {\n",
              "        // Send a message to notify the kernel that we're ready.\n",
              "        channel.send({})\n",
              "        if (message.buffers) {\n",
              "          for (const buffer of message.buffers) {\n",
              "            buffers.push(buffer);\n",
              "            downloaded += buffer.byteLength;\n",
              "            progress.value = downloaded;\n",
              "          }\n",
              "        }\n",
              "      }\n",
              "      const blob = new Blob(buffers, {type: 'application/binary'});\n",
              "      const a = document.createElement('a');\n",
              "      a.href = window.URL.createObjectURL(blob);\n",
              "      a.download = filename;\n",
              "      div.appendChild(a);\n",
              "      a.click();\n",
              "      div.remove();\n",
              "    }\n",
              "  "
            ],
            "text/plain": [
              "<IPython.core.display.Javascript object>"
            ]
          },
          "metadata": {}
        },
        {
          "output_type": "display_data",
          "data": {
            "application/javascript": [
              "download(\"download_afd5a68e-fc1a-4cd2-914c-6ea5bfcc4492\", \"qa-lstm-attn-best-qaWithFact.hdf5\", 678466992)"
            ],
            "text/plain": [
              "<IPython.core.display.Javascript object>"
            ]
          },
          "metadata": {}
        }
      ]
    },
    {
      "cell_type": "code",
      "source": [
        "import matplotlib.pyplot as plt\n",
        "plt.rcParams.update({'font.size': 12})"
      ],
      "metadata": {
        "id": "l6JlJRk3Symx"
      },
      "execution_count": 45,
      "outputs": []
    },
    {
      "cell_type": "code",
      "source": [
        "def create_line_charts(df, metric_name, title, xlabel, ylabel, figsize=(12,8)):\n",
        "  fig, ax = plt.subplots(figsize=figsize)\n",
        "  plt.plot('epochs', 'train_' + metric_name, data=df)\n",
        "  plt.plot('epochs', 'val_' + metric_name, data=df)\n",
        "  plt.xlabel(xlabel)\n",
        "  plt.ylabel(ylabel)\n",
        "  plt.title(title)\n",
        "  plt.legend()\n",
        "  plt.show()\n",
        "\n",
        "def create_metrics_df(history_data, num_epochs, metric_name):\n",
        "  epochs_val = list(range(1, num_epochs+1))\n",
        "  training_metric_val = history_data.history[metric_name]\n",
        "  validation_metric_val = history_data.history['val_' + metric_name]\n",
        "  metric_dict = {\n",
        "    'epochs':epochs_val,\n",
        "    'train_' + metric_name: training_metric_val,\n",
        "    'val_' + metric_name: validation_metric_val\n",
        "  }\n",
        "  metric_df = pd.DataFrame(metric_dict)\n",
        "  return metric_df"
      ],
      "metadata": {
        "id": "24DTx-3kSqCl"
      },
      "execution_count": 46,
      "outputs": []
    },
    {
      "cell_type": "code",
      "source": [
        "def generate_metrics_plots(model_history_data, epochs):\n",
        "  all_metrics = ['acc', 'loss']\n",
        "  for cur_metric in all_metrics:\n",
        "    create_line_charts(create_metrics_df(model_history_data, epochs, cur_metric), cur_metric, 'Comparison of training and validation {} values'.format(cur_metric), 'Epochs', '{} Values'.format(cur_metric))"
      ],
      "metadata": {
        "id": "QwX6wM8wSTYF"
      },
      "execution_count": 47,
      "outputs": []
    },
    {
      "cell_type": "code",
      "source": [
        "generate_metrics_plots(model_history, 25)"
      ],
      "metadata": {
        "colab": {
          "base_uri": "https://localhost:8080/",
          "height": 1000
        },
        "id": "02NNAE9OS4wx",
        "outputId": "b152ebb4-f8f4-4ae5-a48d-25b8d8445edc"
      },
      "execution_count": 48,
      "outputs": [
        {
          "output_type": "display_data",
          "data": {
            "text/plain": [
              "<Figure size 864x576 with 1 Axes>"
            ],
            "image/png": "[encoded data removed]"
          },
          "metadata": {
            "needs_background": "light"
          }
        },
        {
          "output_type": "display_data",
          "data": {
            "text/plain": [
              "<Figure size 864x576 with 1 Axes>"
            ],
            "image/png": "[encoded data removed]"
          },
          "metadata": {
            "needs_background": "light"
          }
        }
      ]
    },
    {
      "cell_type": "code",
      "source": [
        "from sklearn.metrics import ConfusionMatrixDisplay, confusion_matrix"
      ],
      "metadata": {
        "id": "YwXl-MitTk_w"
      },
      "execution_count": 49,
      "outputs": []
    },
    {
      "cell_type": "code",
      "source": [
        "def generate_confusion_matrix(y_true, y_pred, class_labels, fig_size=(10,10), cmap='inferno'):\n",
        "  cm = confusion_matrix(y_true, y_pred)\n",
        "  cmdisp = ConfusionMatrixDisplay(confusion_matrix=cm, display_labels=class_labels)\n",
        "  fig, ax = plt.subplots(figsize=fig_size)\n",
        "  ax.grid(False)\n",
        "  cmdisp.plot(ax=ax, cmap=cmap)\n",
        "  plt.show()"
      ],
      "metadata": {
        "id": "9U1eQp9QTsDD"
      },
      "execution_count": 50,
      "outputs": []
    },
    {
      "cell_type": "code",
      "source": [
        "df_test[['A','B','C','D']] = pd.DataFrame(df_test.Answer.tolist(), index= df_test.index)\n",
        "df_test.head()"
      ],
      "metadata": {
        "colab": {
          "base_uri": "https://localhost:8080/",
          "height": 320
        },
        "id": "HcQNyBX8RoNT",
        "outputId": "aad3e780-243a-4b5e-cce4-8824031f6f44"
      },
      "execution_count": 51,
      "outputs": [
        {
          "output_type": "execute_result",
          "data": {
            "text/plain": [
              "                                            Question  \\\n",
              "0  A person wants to start saving money so that t...   \n",
              "1       There is most likely going to be fog around:   \n",
              "2                                      Predators eat   \n",
              "3  Oak tree seeds are planted and a sidewalk is p...   \n",
              "4            An electric car runs on electricity via   \n",
              "\n",
              "                                              Answer Answer Key  \\\n",
              "0  [make more phone calls, quit eating lunch out,...          B   \n",
              "1          [a marsh, a tundra, the plains, a desert]          A   \n",
              "2                    [lions, humans, bunnies, grass]          C   \n",
              "3  [roots may be split, roots may begin to die, p...          C   \n",
              "4  [gasoline, a power station, electrical conduct...          C   \n",
              "\n",
              "                       A                       B  \\\n",
              "0  make more phone calls   quit eating lunch out   \n",
              "1                a marsh                a tundra   \n",
              "2                  lions                  humans   \n",
              "3     roots may be split  roots may begin to die   \n",
              "4               gasoline         a power station   \n",
              "\n",
              "                              C                        D  \n",
              "0  buy less with monopoly money  have lunch with friends  \n",
              "1                    the plains                 a desert  \n",
              "2                       bunnies                    grass  \n",
              "3  parts may break the concrete     roots may fall apart  \n",
              "4         electrical conductors                     fuel  "
            ],
            "text/html": [
              "\n",
              "  <div id=\"df-716ddd77-e1aa-4f42-8071-818df4ffe286\">\n",
              "    <div class=\"colab-df-container\">\n",
              "      <div>\n",
              "<style scoped>\n",
              "    .dataframe tbody tr th:only-of-type {\n",
              "        vertical-align: middle;\n",
              "    }\n",
              "\n",
              "    .dataframe tbody tr th {\n",
              "        vertical-align: top;\n",
              "    }\n",
              "\n",
              "    .dataframe thead th {\n",
              "        text-align: right;\n",
              "    }\n",
              "</style>\n",
              "<table border=\"1\" class=\"dataframe\">\n",
              "  <thead>\n",
              "    <tr style=\"text-align: right;\">\n",
              "      <th></th>\n",
              "      <th>Question</th>\n",
              "      <th>Answer</th>\n",
              "      <th>Answer Key</th>\n",
              "      <th>A</th>\n",
              "      <th>B</th>\n",
              "      <th>C</th>\n",
              "      <th>D</th>\n",
              "    </tr>\n",
              "  </thead>\n",
              "  <tbody>\n",
              "    <tr>\n",
              "      <th>0</th>\n",
              "      <td>A person wants to start saving money so that t...</td>\n",
              "      <td>[make more phone calls, quit eating lunch out,...</td>\n",
              "      <td>B</td>\n",
              "      <td>make more phone calls</td>\n",
              "      <td>quit eating lunch out</td>\n",
              "      <td>buy less with monopoly money</td>\n",
              "      <td>have lunch with friends</td>\n",
              "    </tr>\n",
              "    <tr>\n",
              "      <th>1</th>\n",
              "      <td>There is most likely going to be fog around:</td>\n",
              "      <td>[a marsh, a tundra, the plains, a desert]</td>\n",
              "      <td>A</td>\n",
              "      <td>a marsh</td>\n",
              "      <td>a tundra</td>\n",
              "      <td>the plains</td>\n",
              "      <td>a desert</td>\n",
              "    </tr>\n",
              "    <tr>\n",
              "      <th>2</th>\n",
              "      <td>Predators eat</td>\n",
              "      <td>[lions, humans, bunnies, grass]</td>\n",
              "      <td>C</td>\n",
              "      <td>lions</td>\n",
              "      <td>humans</td>\n",
              "      <td>bunnies</td>\n",
              "      <td>grass</td>\n",
              "    </tr>\n",
              "    <tr>\n",
              "      <th>3</th>\n",
              "      <td>Oak tree seeds are planted and a sidewalk is p...</td>\n",
              "      <td>[roots may be split, roots may begin to die, p...</td>\n",
              "      <td>C</td>\n",
              "      <td>roots may be split</td>\n",
              "      <td>roots may begin to die</td>\n",
              "      <td>parts may break the concrete</td>\n",
              "      <td>roots may fall apart</td>\n",
              "    </tr>\n",
              "    <tr>\n",
              "      <th>4</th>\n",
              "      <td>An electric car runs on electricity via</td>\n",
              "      <td>[gasoline, a power station, electrical conduct...</td>\n",
              "      <td>C</td>\n",
              "      <td>gasoline</td>\n",
              "      <td>a power station</td>\n",
              "      <td>electrical conductors</td>\n",
              "      <td>fuel</td>\n",
              "    </tr>\n",
              "  </tbody>\n",
              "</table>\n",
              "</div>\n",
              "      <button class=\"colab-df-convert\" onclick=\"convertToInteractive('df-716ddd77-e1aa-4f42-8071-818df4ffe286')\"\n",
              "              title=\"Convert this dataframe to an interactive table.\"\n",
              "              style=\"display:none;\">\n",
              "        \n",
              "  <svg xmlns=\"http://www.w3.org/2000/svg\" height=\"24px\"viewBox=\"0 0 24 24\"\n",
              "       width=\"24px\">\n",
              "    <path d=\"M0 0h24v24H0V0z\" fill=\"none\"/>\n",
              "    <path d=\"M18.56 5.44l.94 2.06.94-2.06 2.06-.94-2.06-.94-.94-2.06-.94 2.06-2.06.94zm-11 1L8.5 8.5l.94-2.06 2.06-.94-2.06-.94L8.5 2.5l-.94 2.06-2.06.94zm10 10l.94 2.06.94-2.06 2.06-.94-2.06-.94-.94-2.06-.94 2.06-2.06.94z\"/><path d=\"M17.41 7.96l-1.37-1.37c-.4-.4-.92-.59-1.43-.59-.52 0-1.04.2-1.43.59L10.3 9.45l-7.72 7.72c-.78.78-.78 2.05 0 2.83L4 21.41c.39.39.9.59 1.41.59.51 0 1.02-.2 1.41-.59l7.78-7.78 2.81-2.81c.8-.78.8-2.07 0-2.86zM5.41 20L4 18.59l7.72-7.72 1.47 1.35L5.41 20z\"/>\n",
              "  </svg>\n",
              "      </button>\n",
              "      \n",
              "  <style>\n",
              "    .colab-df-container {\n",
              "      display:flex;\n",
              "      flex-wrap:wrap;\n",
              "      gap: 12px;\n",
              "    }\n",
              "\n",
              "    .colab-df-convert {\n",
              "      background-color: #E8F0FE;\n",
              "      border: none;\n",
              "      border-radius: 50%;\n",
              "      cursor: pointer;\n",
              "      display: none;\n",
              "      fill: #1967D2;\n",
              "      height: 32px;\n",
              "      padding: 0 0 0 0;\n",
              "      width: 32px;\n",
              "    }\n",
              "\n",
              "    .colab-df-convert:hover {\n",
              "      background-color: #E2EBFA;\n",
              "      box-shadow: 0px 1px 2px rgba(60, 64, 67, 0.3), 0px 1px 3px 1px rgba(60, 64, 67, 0.15);\n",
              "      fill: #174EA6;\n",
              "    }\n",
              "\n",
              "    [theme=dark] .colab-df-convert {\n",
              "      background-color: #3B4455;\n",
              "      fill: #D2E3FC;\n",
              "    }\n",
              "\n",
              "    [theme=dark] .colab-df-convert:hover {\n",
              "      background-color: #434B5C;\n",
              "      box-shadow: 0px 1px 3px 1px rgba(0, 0, 0, 0.15);\n",
              "      filter: drop-shadow(0px 1px 2px rgba(0, 0, 0, 0.3));\n",
              "      fill: #FFFFFF;\n",
              "    }\n",
              "  </style>\n",
              "\n",
              "      <script>\n",
              "        const buttonEl =\n",
              "          document.querySelector('#df-716ddd77-e1aa-4f42-8071-818df4ffe286 button.colab-df-convert');\n",
              "        buttonEl.style.display =\n",
              "          google.colab.kernel.accessAllowed ? 'block' : 'none';\n",
              "\n",
              "        async function convertToInteractive(key) {\n",
              "          const element = document.querySelector('#df-716ddd77-e1aa-4f42-8071-818df4ffe286');\n",
              "          const dataTable =\n",
              "            await google.colab.kernel.invokeFunction('convertToInteractive',\n",
              "                                                     [key], {});\n",
              "          if (!dataTable) return;\n",
              "\n",
              "          const docLinkHtml = 'Like what you see? Visit the ' +\n",
              "            '<a target=\"_blank\" href=https://colab.research.google.com/notebooks/data_table.ipynb>data table notebook</a>'\n",
              "            + ' to learn more about interactive tables.';\n",
              "          element.innerHTML = '';\n",
              "          dataTable['output_type'] = 'display_data';\n",
              "          await google.colab.output.renderOutput(dataTable, element);\n",
              "          const docLink = document.createElement('div');\n",
              "          docLink.innerHTML = docLinkHtml;\n",
              "          element.appendChild(docLink);\n",
              "        }\n",
              "      </script>\n",
              "    </div>\n",
              "  </div>\n",
              "  "
            ]
          },
          "metadata": {},
          "execution_count": 51
        }
      ]
    },
    {
      "cell_type": "code",
      "source": [
        "qapairs_test = []\n",
        "for k in range(len(df_test)):\n",
        "  question = df_test['Question'][k]\n",
        "  qwords = nltk.word_tokenize(question)\n",
        "  correct_ans = df_test['Answer Key'][k]\n",
        "  answers = df_test['A'][k]+'@'+df_test['B'][k]+'@'+df_test['C'][k]+'@'+df_test['D'][k]\n",
        "  # training file parsing\n",
        "  correct_ans_idx = ord(correct_ans) - ord('A')\n",
        "  for idx, answer in enumerate(answers.split('@')):\n",
        "    awords = nltk.word_tokenize(answer)\n",
        "    qapairs_test.append((qwords, awords, idx == correct_ans_idx))"
      ],
      "metadata": {
        "id": "0So70sqWPBXr"
      },
      "execution_count": 52,
      "outputs": []
    },
    {
      "cell_type": "code",
      "source": [
        "word2idx_test = build_vocab([], qapairs_test, [])"
      ],
      "metadata": {
        "id": "zhKrAwidRsd6"
      },
      "execution_count": 53,
      "outputs": []
    },
    {
      "cell_type": "code",
      "source": [
        "Xqtest, Xatest, Ytest = vectorize_qapairs(qapairs_test, word2idx_test, seq_maxlen)"
      ],
      "metadata": {
        "id": "lk9GfPN8PBUa"
      },
      "execution_count": 54,
      "outputs": []
    },
    {
      "cell_type": "code",
      "source": [
        "Xqtest_scaled = scaler_q.transform(Xqtest)\n",
        "Xatest_scaled = scaler_a.transform(Xatest)"
      ],
      "metadata": {
        "id": "y5E4B_CVRJmv"
      },
      "execution_count": 55,
      "outputs": []
    },
    {
      "cell_type": "code",
      "source": [
        "print(\"Evaluate on test data\")\n",
        "results = model.evaluate([Xqtest_scaled, Xatest_scaled], Ytest, batch_size=BATCH_SIZE)\n",
        "print(\"test loss, test acc:\", results)"
      ],
      "metadata": {
        "colab": {
          "base_uri": "https://localhost:8080/"
        },
        "id": "yB2NtPtiRp-n",
        "outputId": "598faffc-ceb3-4909-c918-fbb14fed3652"
      },
      "execution_count": 56,
      "outputs": [
        {
          "output_type": "stream",
          "name": "stdout",
          "text": [
            "Evaluate on test data\n",
            "2000/2000 [==============================] - 1s     \n",
            "test loss, test acc: [0.661812388420105, 0.658]\n"
          ]
        }
      ]
    },
    {
      "cell_type": "code",
      "source": [
        "predictions = model.predict([Xqtest_scaled, Xatest_scaled], verbose=0)"
      ],
      "metadata": {
        "id": "G0pU5jlWUgRP"
      },
      "execution_count": 57,
      "outputs": []
    },
    {
      "cell_type": "code",
      "source": [
        "predictions[0:5]"
      ],
      "metadata": {
        "colab": {
          "base_uri": "https://localhost:8080/"
        },
        "id": "Hj1kUIi2U1XO",
        "outputId": "7d916fe3-97f9-43b8-81b3-9d10a93d5014"
      },
      "execution_count": 58,
      "outputs": [
        {
          "output_type": "execute_result",
          "data": {
            "text/plain": [
              "array([[0.44310078, 0.55689925],\n",
              "       [0.52663785, 0.47336218],\n",
              "       [0.51571035, 0.48428962],\n",
              "       [0.44310078, 0.55689925],\n",
              "       [0.44115353, 0.5588465 ]], dtype=float32)"
            ]
          },
          "metadata": {},
          "execution_count": 58
        }
      ]
    },
    {
      "cell_type": "code",
      "source": [
        "Ypred = np.argmax(predictions, axis=1)"
      ],
      "metadata": {
        "id": "z6KDqteEUu4H"
      },
      "execution_count": 59,
      "outputs": []
    },
    {
      "cell_type": "code",
      "source": [
        "Ytrue = np.argmax(Ytest, axis=1)"
      ],
      "metadata": {
        "id": "-ImPTNj_V2Zd"
      },
      "execution_count": 60,
      "outputs": []
    },
    {
      "cell_type": "code",
      "source": [
        "generate_confusion_matrix(Ytrue, Ypred, ['Correct Answer','Wrong Answer'])"
      ],
      "metadata": {
        "colab": {
          "base_uri": "https://localhost:8080/",
          "height": 574
        },
        "id": "jQY4nLbjiNCN",
        "outputId": "d285f75c-ea6a-4c40-976d-ff5b6261e4e9"
      },
      "execution_count": 61,
      "outputs": [
        {
          "output_type": "display_data",
          "data": {
            "text/plain": [
              "<Figure size 720x720 with 2 Axes>"
            ],
            "image/png": "[encoded data removed]"
          },
          "metadata": {
            "needs_background": "light"
          }
        }
      ]
    },
    {
      "cell_type": "code",
      "source": [
        "def save_np_data(file_path, input_arr):\n",
        "  with open(file_path, 'wb') as f:\n",
        "    np.save(f, input_arr)"
      ],
      "metadata": {
        "id": "ptpG0mQKyDu6"
      },
      "execution_count": 62,
      "outputs": []
    },
    {
      "cell_type": "code",
      "source": [
        "save_np_data(os.path.join('/content/drive/MyDrive/NLP_Final_Project', 'model_qa_predictions.npy'), predictions)\n",
        "save_np_data(os.path.join('/content/drive/MyDrive/NLP_Final_Project', 'model_qa_test.npy'), Ytest)"
      ],
      "metadata": {
        "id": "HSHQul48yD2t"
      },
      "execution_count": 63,
      "outputs": []
    },
    {
      "cell_type": "code",
      "source": [
        ""
      ],
      "metadata": {
        "id": "fJVz5q-EyD4_"
      },
      "execution_count": null,
      "outputs": []
    }
  ]
}